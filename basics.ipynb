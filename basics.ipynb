{
 "cells": [
  {
   "cell_type": "code",
   "execution_count": 743,
   "metadata": {},
   "outputs": [],
   "source": [
    "# encoding=utf8 \n"
   ]
  },
  {
   "cell_type": "code",
   "execution_count": 744,
   "metadata": {},
   "outputs": [
    {
     "data": {
      "text/html": [
       "<div>\n",
       "<style scoped>\n",
       "    .dataframe tbody tr th:only-of-type {\n",
       "        vertical-align: middle;\n",
       "    }\n",
       "\n",
       "    .dataframe tbody tr th {\n",
       "        vertical-align: top;\n",
       "    }\n",
       "\n",
       "    .dataframe thead th {\n",
       "        text-align: right;\n",
       "    }\n",
       "</style>\n",
       "<table border=\"1\" class=\"dataframe\">\n",
       "  <thead>\n",
       "    <tr style=\"text-align: right;\">\n",
       "      <th></th>\n",
       "      <th>Časová značka</th>\n",
       "      <th>Pohlaví:</th>\n",
       "      <th>Věk:</th>\n",
       "      <th>Nejvyšší dosažené vzdělání:</th>\n",
       "      <th>Jste věřící?</th>\n",
       "      <th>V co věříte?</th>\n",
       "      <th>Unnamed: 6</th>\n",
       "      <th>Unnamed: 7</th>\n",
       "      <th>vira</th>\n",
       "      <th>Pokud se hlásíte k některé církvi, uveďte prosím k jaké:</th>\n",
       "      <th>...</th>\n",
       "      <th>COS</th>\n",
       "      <th>EPD</th>\n",
       "      <th>EWB</th>\n",
       "      <th>PAR</th>\n",
       "      <th>REL</th>\n",
       "      <th>CELKEM</th>\n",
       "      <th>Unnamed: 121</th>\n",
       "      <th>vzdelani</th>\n",
       "      <th>pohlavi</th>\n",
       "      <th>vira_c</th>\n",
       "    </tr>\n",
       "  </thead>\n",
       "  <tbody>\n",
       "    <tr>\n",
       "      <th>0</th>\n",
       "      <td>26.2.2018 13:26:35</td>\n",
       "      <td>Žena</td>\n",
       "      <td>19</td>\n",
       "      <td>ZŠ</td>\n",
       "      <td>Ano</td>\n",
       "      <td>Nejsem věřící tak, že chodím do kostela, ale v...</td>\n",
       "      <td>něco mezi nebem a Zemí</td>\n",
       "      <td>A</td>\n",
       "      <td>Ano</td>\n",
       "      <td>NaN</td>\n",
       "      <td>...</td>\n",
       "      <td>13</td>\n",
       "      <td>14</td>\n",
       "      <td>15</td>\n",
       "      <td>21</td>\n",
       "      <td>10</td>\n",
       "      <td>73</td>\n",
       "      <td>NaN</td>\n",
       "      <td>4</td>\n",
       "      <td>1</td>\n",
       "      <td>1</td>\n",
       "    </tr>\n",
       "    <tr>\n",
       "      <th>1</th>\n",
       "      <td>24.2.2018 20:06:33</td>\n",
       "      <td>Žena</td>\n",
       "      <td>20</td>\n",
       "      <td>ZŠ</td>\n",
       "      <td>Ano</td>\n",
       "      <td>v učení katolické církve</td>\n",
       "      <td>v Boha</td>\n",
       "      <td>B</td>\n",
       "      <td>Ano</td>\n",
       "      <td>římskokatolická církev</td>\n",
       "      <td>...</td>\n",
       "      <td>20</td>\n",
       "      <td>21</td>\n",
       "      <td>14</td>\n",
       "      <td>7</td>\n",
       "      <td>23</td>\n",
       "      <td>85</td>\n",
       "      <td>NaN</td>\n",
       "      <td>4</td>\n",
       "      <td>1</td>\n",
       "      <td>1</td>\n",
       "    </tr>\n",
       "    <tr>\n",
       "      <th>2</th>\n",
       "      <td>22.2.2018 13:29:33</td>\n",
       "      <td>Žena</td>\n",
       "      <td>20</td>\n",
       "      <td>SŠ</td>\n",
       "      <td>Ano</td>\n",
       "      <td>V Boha</td>\n",
       "      <td>v Boha</td>\n",
       "      <td>B</td>\n",
       "      <td>Ano</td>\n",
       "      <td>Katolická</td>\n",
       "      <td>...</td>\n",
       "      <td>15</td>\n",
       "      <td>14</td>\n",
       "      <td>6</td>\n",
       "      <td>8</td>\n",
       "      <td>15</td>\n",
       "      <td>58</td>\n",
       "      <td>NaN</td>\n",
       "      <td>0</td>\n",
       "      <td>1</td>\n",
       "      <td>1</td>\n",
       "    </tr>\n",
       "    <tr>\n",
       "      <th>3</th>\n",
       "      <td>26.2.2018 12:52:27</td>\n",
       "      <td>Muž</td>\n",
       "      <td>21</td>\n",
       "      <td>VŠ - bakalářské</td>\n",
       "      <td>Ano</td>\n",
       "      <td>Boha</td>\n",
       "      <td>v Boha</td>\n",
       "      <td>B</td>\n",
       "      <td>Ano</td>\n",
       "      <td>Krestanstvo</td>\n",
       "      <td>...</td>\n",
       "      <td>18</td>\n",
       "      <td>5</td>\n",
       "      <td>19</td>\n",
       "      <td>6</td>\n",
       "      <td>12</td>\n",
       "      <td>60</td>\n",
       "      <td>robert.kolcun@gmail.com</td>\n",
       "      <td>2</td>\n",
       "      <td>0</td>\n",
       "      <td>1</td>\n",
       "    </tr>\n",
       "    <tr>\n",
       "      <th>4</th>\n",
       "      <td>26.2.2018 15:44:38</td>\n",
       "      <td>Žena</td>\n",
       "      <td>21</td>\n",
       "      <td>SŠ</td>\n",
       "      <td>Ano</td>\n",
       "      <td>v Boha</td>\n",
       "      <td>v Boha</td>\n",
       "      <td>B</td>\n",
       "      <td>Ano</td>\n",
       "      <td>Církev Adventistů sedmého dne</td>\n",
       "      <td>...</td>\n",
       "      <td>20</td>\n",
       "      <td>9</td>\n",
       "      <td>19</td>\n",
       "      <td>14</td>\n",
       "      <td>20</td>\n",
       "      <td>82</td>\n",
       "      <td>NaN</td>\n",
       "      <td>0</td>\n",
       "      <td>1</td>\n",
       "      <td>1</td>\n",
       "    </tr>\n",
       "  </tbody>\n",
       "</table>\n",
       "<p>5 rows × 125 columns</p>\n",
       "</div>"
      ],
      "text/plain": [
       "        Časová značka Pohlaví:  Věk: Nejvyšší dosažené vzdělání: Jste věřící?  \\\n",
       "0  26.2.2018 13:26:35     Žena    19                          ZŠ          Ano   \n",
       "1  24.2.2018 20:06:33     Žena    20                          ZŠ          Ano   \n",
       "2  22.2.2018 13:29:33     Žena    20                          SŠ          Ano   \n",
       "3  26.2.2018 12:52:27      Muž    21             VŠ - bakalářské          Ano   \n",
       "4  26.2.2018 15:44:38     Žena    21                          SŠ          Ano   \n",
       "\n",
       "                                        V co věříte?              Unnamed: 6  \\\n",
       "0  Nejsem věřící tak, že chodím do kostela, ale v...  něco mezi nebem a Zemí   \n",
       "1                           v učení katolické církve                  v Boha   \n",
       "2                                             V Boha                  v Boha   \n",
       "3                                               Boha                  v Boha   \n",
       "4                                             v Boha                  v Boha   \n",
       "\n",
       "  Unnamed: 7 vira Pokud se hlásíte k některé církvi, uveďte prosím k jaké:  \\\n",
       "0          A  Ano                                                NaN         \n",
       "1          B  Ano                             římskokatolická církev         \n",
       "2          B  Ano                                          Katolická         \n",
       "3          B  Ano                                        Krestanstvo         \n",
       "4          B  Ano                      Církev Adventistů sedmého dne         \n",
       "\n",
       "    ...    COS  EPD  EWB  PAR  REL  CELKEM             Unnamed: 121  vzdelani  \\\n",
       "0   ...     13   14   15   21   10      73                      NaN         4   \n",
       "1   ...     20   21   14    7   23      85                      NaN         4   \n",
       "2   ...     15   14    6    8   15      58                      NaN         0   \n",
       "3   ...     18    5   19    6   12      60  robert.kolcun@gmail.com         2   \n",
       "4   ...     20    9   19   14   20      82                      NaN         0   \n",
       "\n",
       "   pohlavi  vira_c  \n",
       "0        1       1  \n",
       "1        1       1  \n",
       "2        1       1  \n",
       "3        0       1  \n",
       "4        1       1  \n",
       "\n",
       "[5 rows x 125 columns]"
      ]
     },
     "execution_count": 744,
     "metadata": {},
     "output_type": "execute_result"
    }
   ],
   "source": [
    "\n",
    "import pandas as pd\n",
    "\n",
    "data = pd.read_csv(\"data-verici.csv\", encoding = 'utf8', decimal=\",\")\n",
    "df1 = pd.Categorical(data[u'Nejvyšší dosažené vzdělání:'])\n",
    "data['vzdelani'] = df1.codes\n",
    "df2 = pd.Categorical(data[u'Pohlaví:'])\n",
    "data['pohlavi'] = df2.codes\n",
    "df2 = pd.Categorical(data[u'vira'], categories=[\"Ne\", \"Ano\"])\n",
    "data['vira_c'] = df2.codes\n",
    "data.head()"
   ]
  },
  {
   "cell_type": "code",
   "execution_count": 745,
   "metadata": {},
   "outputs": [],
   "source": [
    "import matplotlib.pyplot as plt\n",
    "import scipy.stats as stats\n",
    "from math import sqrt\n",
    "\n",
    "mw_results = {}\n",
    "pearson_results = {}"
   ]
  },
  {
   "cell_type": "code",
   "execution_count": 746,
   "metadata": {},
   "outputs": [],
   "source": [
    "import numpy as np\n",
    "\n",
    "def histogram(field, passed_data=None):\n",
    "    print(\"\\n--------------\")\n",
    "    if passed_data is None:\n",
    "        local_data = data[field].astype(float)\n",
    "    else:\n",
    "        local_data = passed_data\n",
    "    minim = local_data.min()\n",
    "    maxim = local_data.max()\n",
    "    print(\"Min: %f\\nMax: %f\" % (minim, maxim))\n",
    "    loc, scale = stats.norm.fit(local_data)\n",
    "    n = stats.norm(loc=loc, scale=scale)\n",
    "\n",
    "    plt.hist(local_data, bins=30, rwidth=0.5)\n",
    "    plt.show()\n",
    "    \n",
    "    results = {}\n",
    "    shapiro = stats.shapiro(local_data)\n",
    "    print(\"Shapiro:\\n  W: %f\\n  p-value: %f\\n\" % (shapiro[0], shapiro[1]))\n",
    "    results['Shapiro'] = shapiro[0]\n",
    "\n",
    "    ks_results = stats.kstest(local_data, n.cdf)\n",
    "    print(\"Kolmogorov:\\n  Statistics: %f\\n  p-value: %f\" % (ks_results[0], ks_results[1]))\n",
    "    results['Kolmogorov'] = ks_results[0]\n",
    "    print(\"--------------\\n\")"
   ]
  },
  {
   "cell_type": "code",
   "execution_count": 747,
   "metadata": {},
   "outputs": [],
   "source": [
    "def pearson_sperman_lin_plot(a_name, b_name):\n",
    "    a = data[a_name]\n",
    "    b = data[b_name]\n",
    "    plt.scatter(x=a, y=b)\n",
    "\n",
    "    pearson = stats.pearsonr(a, b)\n",
    "    print(\"Pearson:\\n  PCC: %f\\n  p-value: %f\\n\" % pearson)\n",
    "\n",
    "    spearman = stats.spearmanr(a, b)\n",
    "    print(\"Spearman:\\n  Corr: %s\\n  pvalue: %f\\n\" % spearman)\n",
    "\n",
    "    slope, intercept, rvalue, pvalue, stderr = stats.linregress(a, b)\n",
    "    print(\"Slope: %f\\n  Intercept: %f\\n  rvalue: %f\\n  pvalue: %f\\n  stderr: %f\\n\" % (slope, intercept, rvalue, pvalue, stderr))\n",
    "\n",
    "    lin_y = [slope * x + intercept for x in a]\n",
    "    plt.plot(a, lin_y, color='red')\n",
    "    plt.show()\n",
    "    \n",
    "    pearson_results[(a_name, b_name)] = {'r_s': spearman[0], 'p_s': spearman[1], 'r': pearson[0], 'p_p': pearson[1]}\n",
    "    "
   ]
  },
  {
   "cell_type": "code",
   "execution_count": 748,
   "metadata": {},
   "outputs": [],
   "source": [
    "def compute_z(u, xa, ya):\n",
    "    m_u = len(xa)*len(ya)/2\n",
    "    sigma_u = np.sqrt(len(xa)*len(ya)*(len(xa)+len(ya)+1)/12)\n",
    "    z = (u - m_u)/sigma_u\n",
    "    return z\n",
    "\n",
    "def mw_ttest_lin_relig(what):\n",
    "    x = data['vira_c']\n",
    "    y = data[what]\n",
    "\n",
    "    slope, intercept, rvalue, pvalue, stderr = stats.linregress(x, y)\n",
    "\n",
    "    ano = data[data[u'vira'] == u'Ano']\n",
    "    ne = data[data[u'vira'] == u'Ne']\n",
    "\n",
    "    mw = stats.mannwhitneyu(ano[what], ne[what])\n",
    "    xa = ano[what]\n",
    "    print(\"Verici\")\n",
    "    histogram(None, passed_data=xa)\n",
    "    ya = ne[what]\n",
    "    print(\"Neverici\")\n",
    "    histogram(None, passed_data=ya)\n",
    "    z = compute_z(mw[0], xa, ya)\n",
    "    \n",
    "    plt.scatter(x=x, y=y)\n",
    "    \n",
    "    print(\"Mann-Whitney:\\n  Stat: %f\\n  pvalue: %f\\n  z: %f\\n\" % (mw[0], mw[1], z))\n",
    "\n",
    "    ttest = stats.ttest_ind(ano[what], ne[what])\n",
    "    print(\"t-test:\\n  Stat: %f\\n  pvalue: %f \\n\" % ttest)\n",
    "    # Krizická hodnota t = 2.357 - hypotéza se zamítá\n",
    "    d = ttest[0] * (xa.count() + ya.count()) / sqrt((y.count()-2) * xa.count() * ya.count())\n",
    "    print(\"KOhen's d (ttest): %f\\n\" % d)\n",
    "    \n",
    "    d2 = (xa.mean() - ya.mean()) / sqrt((xa.var()+ya.var())/2)\n",
    "    print(\"KOhen's d: %f\\n\" % d2)\n",
    "    \n",
    "    r = z / sqrt(data[u'vira'].count())\n",
    "    print(\"Effect size r: %f\\n\" % r)\n",
    "\n",
    "    y = [slope * x_val + intercept for x_val in x]\n",
    "    plt.plot(x, y, color='red')\n",
    "    plt.xticks([0, 1], [u'Ne', u'Ano'])\n",
    "    plt.show()\n",
    "    \n",
    "    mw_results[what] = {'U': mw[0], 'z': z, 'p': mw[1], 'd': d2, 'r': r}\n",
    "\n"
   ]
  },
  {
   "cell_type": "code",
   "execution_count": 765,
   "metadata": {},
   "outputs": [],
   "source": [
    "def mw_ttest_lin_sex(what):\n",
    "    pohlavi = data['pohlavi']\n",
    "    y = data[what]\n",
    "\n",
    "    slope, intercept, rvalue, pvalue, stderr = stats.linregress(pohlavi, y)\n",
    "\n",
    "    muzi = data[data[u'Pohlaví:'] == u'Muž']\n",
    "    zeny = data[data[u'Pohlaví:'] == u'Žena']\n",
    "    \n",
    "    print(\"Muzi\")\n",
    "    histogram(None, passed_data=muzi[what])\n",
    "    print(\"Zeny\")\n",
    "    histogram(None, passed_data=zeny[what])\n",
    "    \n",
    "    plt.scatter(x=pohlavi, y=y)\n",
    "\n",
    "    mw = stats.mannwhitneyu(muzi[what], zeny[what])\n",
    "    print(\"Mann-Whitney:\\n  Stat: %f\\n  pvalue: %f\\n  z: %f\\n\" % (mw[0], mw[1], compute_z(mw[0], muzi[what], zeny[what])))\n",
    "\n",
    "    ttest = stats.ttest_ind(muzi[what], zeny[what])\n",
    "    print(\"t-test:\\n  Stat: %f\\n  pvalue: %f \\n\" % ttest)\n",
    "    # Krizická hodnota t = 2.357 - hypotéza se zamítá\n",
    "    d = ttest[0] * (muzi[what].count() + zeny[what].count()) / sqrt((y.count()-2) * muzi[what].count() * zeny[what].count())\n",
    "    print(\"KOhen's d (ttest): %f\\n\" % d)\n",
    "    \n",
    "    d2 = (muzi[what].mean() - zeny[what].mean()) / sqrt((muzi[what].var()+zeny[what].var())/2)\n",
    "    print(\"KOhen's d: %f\\n\" % d2)\n",
    "    \n",
    "    z = compute_z(mw[0], muzi, zeny)\n",
    "    r = z / sqrt(data[u'vira'].count())\n",
    "    print(\"Effect size r: %f\\n\" % r)\n",
    "\n",
    "    y = [slope * x + intercept for x in pohlavi]\n",
    "    plt.plot(pohlavi, y, color='red')\n",
    "    plt.xticks([0, 1], [u'Muž', u'Žena'])\n",
    "    plt.show()\n"
   ]
  },
  {
   "cell_type": "markdown",
   "metadata": {},
   "source": [
    "# SCS"
   ]
  },
  {
   "cell_type": "code",
   "execution_count": 766,
   "metadata": {},
   "outputs": [
    {
     "name": "stdout",
     "output_type": "stream",
     "text": [
      "\n",
      "--------------\n",
      "Min: 20.000000\n",
      "Max: 89.000000\n"
     ]
    },
    {
     "data": {
      "image/png": "[encoded data removed]",
      "text/plain": [
       "<matplotlib.figure.Figure at 0x7f46fb5b6b50>"
      ]
     },
     "metadata": {},
     "output_type": "display_data"
    },
    {
     "name": "stdout",
     "output_type": "stream",
     "text": [
      "Shapiro:\n",
      "  W: 0.994261\n",
      "  p-value: 0.385880\n",
      "\n",
      "Kolmogorov:\n",
      "  Statistics: 0.062420\n",
      "  p-value: 0.225017\n",
      "--------------\n",
      "\n"
     ]
    }
   ],
   "source": [
    "histogram(u'součet')"
   ]
  },
  {
   "cell_type": "markdown",
   "metadata": {},
   "source": [
    "# DAP-R"
   ]
  },
  {
   "cell_type": "code",
   "execution_count": 767,
   "metadata": {},
   "outputs": [
    {
     "name": "stdout",
     "output_type": "stream",
     "text": [
      "\n",
      "--------------\n",
      "Min: 1.000000\n",
      "Max: 7.000000\n"
     ]
    },
    {
     "data": {
      "image/png": "[encoded data removed]",
      "text/plain": [
       "<matplotlib.figure.Figure at 0x7f46fb6ff950>"
      ]
     },
     "metadata": {},
     "output_type": "display_data"
    },
    {
     "name": "stdout",
     "output_type": "stream",
     "text": [
      "Shapiro:\n",
      "  W: 0.968727\n",
      "  p-value: 0.000011\n",
      "\n",
      "Kolmogorov:\n",
      "  Statistics: 0.080983\n",
      "  p-value: 0.051287\n",
      "--------------\n",
      "\n"
     ]
    }
   ],
   "source": [
    "histogram('FD')"
   ]
  },
  {
   "cell_type": "code",
   "execution_count": 768,
   "metadata": {},
   "outputs": [
    {
     "name": "stdout",
     "output_type": "stream",
     "text": [
      "\n",
      "--------------\n",
      "Min: 1.000000\n",
      "Max: 7.000000\n"
     ]
    },
    {
     "data": {
      "image/png": "[encoded data removed]",
      "text/plain": [
       "<matplotlib.figure.Figure at 0x7f46fb4f61d0>"
      ]
     },
     "metadata": {},
     "output_type": "display_data"
    },
    {
     "name": "stdout",
     "output_type": "stream",
     "text": [
      "Shapiro:\n",
      "  W: 0.934064\n",
      "  p-value: 0.000000\n",
      "\n",
      "Kolmogorov:\n",
      "  Statistics: 0.097198\n",
      "  p-value: 0.010310\n",
      "--------------\n",
      "\n"
     ]
    }
   ],
   "source": [
    "histogram('DA')"
   ]
  },
  {
   "cell_type": "code",
   "execution_count": 769,
   "metadata": {},
   "outputs": [
    {
     "name": "stdout",
     "output_type": "stream",
     "text": [
      "\n",
      "--------------\n",
      "Min: 1.200000\n",
      "Max: 7.000000\n"
     ]
    },
    {
     "data": {
      "image/png": "[encoded data removed]",
      "text/plain": [
       "<matplotlib.figure.Figure at 0x7f46fb4420d0>"
      ]
     },
     "metadata": {},
     "output_type": "display_data"
    },
    {
     "name": "stdout",
     "output_type": "stream",
     "text": [
      "Shapiro:\n",
      "  W: 0.882128\n",
      "  p-value: 0.000000\n",
      "\n",
      "Kolmogorov:\n",
      "  Statistics: 0.135880\n",
      "  p-value: 0.000069\n",
      "--------------\n",
      "\n"
     ]
    }
   ],
   "source": [
    "histogram('NA')"
   ]
  },
  {
   "cell_type": "code",
   "execution_count": 770,
   "metadata": {},
   "outputs": [
    {
     "name": "stdout",
     "output_type": "stream",
     "text": [
      "\n",
      "--------------\n",
      "Min: 1.000000\n",
      "Max: 7.000000\n"
     ]
    },
    {
     "data": {
      "image/png": "[encoded data removed]",
      "text/plain": [
       "<matplotlib.figure.Figure at 0x7f46fb60f390>"
      ]
     },
     "metadata": {},
     "output_type": "display_data"
    },
    {
     "name": "stdout",
     "output_type": "stream",
     "text": [
      "Shapiro:\n",
      "  W: 0.962642\n",
      "  p-value: 0.000002\n",
      "\n",
      "Kolmogorov:\n",
      "  Statistics: 0.070387\n",
      "  p-value: 0.124994\n",
      "--------------\n",
      "\n"
     ]
    }
   ],
   "source": [
    "histogram('AA')"
   ]
  },
  {
   "cell_type": "code",
   "execution_count": 771,
   "metadata": {},
   "outputs": [
    {
     "name": "stdout",
     "output_type": "stream",
     "text": [
      "\n",
      "--------------\n",
      "Min: 1.000000\n",
      "Max: 7.000000\n"
     ]
    },
    {
     "data": {
      "image/png": "[encoded data removed]",
      "text/plain": [
       "<matplotlib.figure.Figure at 0x7f46fb73a610>"
      ]
     },
     "metadata": {},
     "output_type": "display_data"
    },
    {
     "name": "stdout",
     "output_type": "stream",
     "text": [
      "Shapiro:\n",
      "  W: 0.952294\n",
      "  p-value: 0.000000\n",
      "\n",
      "Kolmogorov:\n",
      "  Statistics: 0.089420\n",
      "  p-value: 0.023083\n",
      "--------------\n",
      "\n"
     ]
    }
   ],
   "source": [
    "histogram('EA')"
   ]
  },
  {
   "cell_type": "markdown",
   "metadata": {},
   "source": [
    "# ESI"
   ]
  },
  {
   "cell_type": "code",
   "execution_count": 772,
   "metadata": {},
   "outputs": [
    {
     "name": "stdout",
     "output_type": "stream",
     "text": [
      "\n",
      "--------------\n",
      "Min: 0.000000\n",
      "Max: 24.000000\n"
     ]
    },
    {
     "data": {
      "image/png": "[encoded data removed]",
      "text/plain": [
       "<matplotlib.figure.Figure at 0x7f46fbc964d0>"
      ]
     },
     "metadata": {},
     "output_type": "display_data"
    },
    {
     "name": "stdout",
     "output_type": "stream",
     "text": [
      "Shapiro:\n",
      "  W: 0.947277\n",
      "  p-value: 0.000000\n",
      "\n",
      "Kolmogorov:\n",
      "  Statistics: 0.090085\n",
      "  p-value: 0.021603\n",
      "--------------\n",
      "\n"
     ]
    }
   ],
   "source": [
    "histogram('COS')"
   ]
  },
  {
   "cell_type": "code",
   "execution_count": 773,
   "metadata": {},
   "outputs": [
    {
     "name": "stdout",
     "output_type": "stream",
     "text": [
      "\n",
      "--------------\n",
      "Min: 0.000000\n",
      "Max: 24.000000\n"
     ]
    },
    {
     "data": {
      "image/png": "[encoded data removed]",
      "text/plain": [
       "<matplotlib.figure.Figure at 0x7f46fb874d50>"
      ]
     },
     "metadata": {},
     "output_type": "display_data"
    },
    {
     "name": "stdout",
     "output_type": "stream",
     "text": [
      "Shapiro:\n",
      "  W: 0.941738\n",
      "  p-value: 0.000000\n",
      "\n",
      "Kolmogorov:\n",
      "  Statistics: 0.096354\n",
      "  p-value: 0.011288\n",
      "--------------\n",
      "\n"
     ]
    }
   ],
   "source": [
    "histogram('EPD')"
   ]
  },
  {
   "cell_type": "code",
   "execution_count": 774,
   "metadata": {},
   "outputs": [
    {
     "name": "stdout",
     "output_type": "stream",
     "text": [
      "\n",
      "--------------\n",
      "Min: 0.000000\n",
      "Max: 24.000000\n"
     ]
    },
    {
     "data": {
      "image/png": "[encoded data removed]",
      "text/plain": [
       "<matplotlib.figure.Figure at 0x7f46fbe67410>"
      ]
     },
     "metadata": {},
     "output_type": "display_data"
    },
    {
     "name": "stdout",
     "output_type": "stream",
     "text": [
      "Shapiro:\n",
      "  W: 0.959090\n",
      "  p-value: 0.000001\n",
      "\n",
      "Kolmogorov:\n",
      "  Statistics: 0.105308\n",
      "  p-value: 0.004141\n",
      "--------------\n",
      "\n"
     ]
    }
   ],
   "source": [
    "histogram('EWB')"
   ]
  },
  {
   "cell_type": "code",
   "execution_count": 775,
   "metadata": {},
   "outputs": [
    {
     "name": "stdout",
     "output_type": "stream",
     "text": [
      "\n",
      "--------------\n",
      "Min: 0.000000\n",
      "Max: 24.000000\n"
     ]
    },
    {
     "data": {
      "image/png": "[encoded data removed]",
      "text/plain": [
       "<matplotlib.figure.Figure at 0x7f46fb765450>"
      ]
     },
     "metadata": {},
     "output_type": "display_data"
    },
    {
     "name": "stdout",
     "output_type": "stream",
     "text": [
      "Shapiro:\n",
      "  W: 0.970139\n",
      "  p-value: 0.000017\n",
      "\n",
      "Kolmogorov:\n",
      "  Statistics: 0.078583\n",
      "  p-value: 0.063442\n",
      "--------------\n",
      "\n"
     ]
    }
   ],
   "source": [
    "histogram('PAR')"
   ]
  },
  {
   "cell_type": "code",
   "execution_count": 776,
   "metadata": {},
   "outputs": [
    {
     "name": "stdout",
     "output_type": "stream",
     "text": [
      "\n",
      "--------------\n",
      "Min: 0.000000\n",
      "Max: 24.000000\n"
     ]
    },
    {
     "data": {
      "image/png": "[encoded data removed]",
      "text/plain": [
       "<matplotlib.figure.Figure at 0x7f46fbc0f210>"
      ]
     },
     "metadata": {},
     "output_type": "display_data"
    },
    {
     "name": "stdout",
     "output_type": "stream",
     "text": [
      "Shapiro:\n",
      "  W: 0.944238\n",
      "  p-value: 0.000000\n",
      "\n",
      "Kolmogorov:\n",
      "  Statistics: 0.104478\n",
      "  p-value: 0.004561\n",
      "--------------\n",
      "\n"
     ]
    }
   ],
   "source": [
    "histogram('REL')"
   ]
  },
  {
   "cell_type": "code",
   "execution_count": 777,
   "metadata": {},
   "outputs": [
    {
     "name": "stdout",
     "output_type": "stream",
     "text": [
      "\n",
      "--------------\n",
      "Min: 7.000000\n",
      "Max: 108.000000\n"
     ]
    },
    {
     "data": {
      "image/png": "[encoded data removed]",
      "text/plain": [
       "<matplotlib.figure.Figure at 0x7f46fb5e8dd0>"
      ]
     },
     "metadata": {},
     "output_type": "display_data"
    },
    {
     "name": "stdout",
     "output_type": "stream",
     "text": [
      "Shapiro:\n",
      "  W: 0.982637\n",
      "  p-value: 0.002003\n",
      "\n",
      "Kolmogorov:\n",
      "  Statistics: 0.050076\n",
      "  p-value: 0.487207\n",
      "--------------\n",
      "\n"
     ]
    }
   ],
   "source": [
    "histogram('CELKEM')"
   ]
  },
  {
   "cell_type": "code",
   "execution_count": 778,
   "metadata": {},
   "outputs": [],
   "source": [
    "c = [str(x) for x in data[u'součet']]\n",
    "with open(\"soucet.csv\", \"w\") as fp:\n",
    "    fp.write(\"\\n\".join(c))\n",
    "#data['součet'].to_csv('soucet.csv')"
   ]
  },
  {
   "cell_type": "markdown",
   "metadata": {},
   "source": [
    "# SCS correlations"
   ]
  },
  {
   "cell_type": "code",
   "execution_count": 779,
   "metadata": {},
   "outputs": [
    {
     "name": "stdout",
     "output_type": "stream",
     "text": [
      "Pearson:\n",
      "  PCC: 0.135153\n",
      "  p-value: 0.025004\n",
      "\n",
      "Spearman:\n",
      "  Corr: 0.1455046389081874\n",
      "  pvalue: 0.015744\n",
      "\n",
      "Slope: 0.208680\n",
      "  Intercept: 52.793838\n",
      "  rvalue: 0.135153\n",
      "  pvalue: 0.025004\n",
      "  stderr: 0.092592\n",
      "\n"
     ]
    },
    {
     "data": {
      "image/png": "[encoded data removed]",
      "text/plain": [
       "<matplotlib.figure.Figure at 0x7f46fb6a0b10>"
      ]
     },
     "metadata": {},
     "output_type": "display_data"
    }
   ],
   "source": [
    "#Věk vs. Součet\n",
    "pearson_sperman_lin_plot(u'Věk:', u'součet')"
   ]
  },
  {
   "cell_type": "code",
   "execution_count": 780,
   "metadata": {},
   "outputs": [
    {
     "name": "stdout",
     "output_type": "stream",
     "text": [
      "Muzi\n",
      "\n",
      "--------------\n",
      "Min: 37.000000\n",
      "Max: 89.000000\n"
     ]
    },
    {
     "data": {
      "image/png": "[encoded data removed]",
      "text/plain": [
       "<matplotlib.figure.Figure at 0x7f46fb8c2a90>"
      ]
     },
     "metadata": {},
     "output_type": "display_data"
    },
    {
     "name": "stdout",
     "output_type": "stream",
     "text": [
      "Shapiro:\n",
      "  W: 0.990759\n",
      "  p-value: 0.767651\n",
      "\n",
      "Kolmogorov:\n",
      "  Statistics: 0.064057\n",
      "  p-value: 0.839957\n",
      "--------------\n",
      "\n",
      "Zeny\n",
      "\n",
      "--------------\n",
      "Min: 20.000000\n",
      "Max: 89.000000\n"
     ]
    },
    {
     "data": {
      "image/png": "[encoded data removed]",
      "text/plain": [
       "<matplotlib.figure.Figure at 0x7f46fbaefe10>"
      ]
     },
     "metadata": {},
     "output_type": "display_data"
    },
    {
     "name": "stdout",
     "output_type": "stream",
     "text": [
      "Shapiro:\n",
      "  W: 0.993957\n",
      "  p-value: 0.664575\n",
      "\n",
      "Kolmogorov:\n",
      "  Statistics: 0.062888\n",
      "  p-value: 0.454812\n",
      "--------------\n",
      "\n",
      "Mann-Whitney:\n",
      "  Stat: 6990.500000\n",
      "  pvalue: 0.009133\n",
      "  z: -2.360012\n",
      "\n",
      "t-test:\n",
      "  Stat: 2.609385\n",
      "  pvalue: 0.009571 \n",
      "\n",
      "KOhen's d (ttest): 0.333820\n",
      "\n",
      "KOhen's d: 0.342287\n",
      "\n",
      "Effect size r: -0.142314\n",
      "\n"
     ]
    },
    {
     "data": {
      "image/png": "[encoded data removed]",
      "text/plain": [
       "<matplotlib.figure.Figure at 0x7f46fbb05650>"
      ]
     },
     "metadata": {},
     "output_type": "display_data"
    }
   ],
   "source": [
    "#Pohlaví vs. Součet\n",
    "\n",
    "mw_ttest_lin_sex(u'součet')"
   ]
  },
  {
   "cell_type": "code",
   "execution_count": 781,
   "metadata": {},
   "outputs": [
    {
     "name": "stdout",
     "output_type": "stream",
     "text": [
      "Verici\n",
      "\n",
      "--------------\n",
      "Min: 20.000000\n",
      "Max: 89.000000\n"
     ]
    },
    {
     "data": {
      "image/png": "[encoded data removed]",
      "text/plain": [
       "<matplotlib.figure.Figure at 0x7f46fb5e96d0>"
      ]
     },
     "metadata": {},
     "output_type": "display_data"
    },
    {
     "name": "stdout",
     "output_type": "stream",
     "text": [
      "Shapiro:\n",
      "  W: 0.987243\n",
      "  p-value: 0.181775\n",
      "\n",
      "Kolmogorov:\n",
      "  Statistics: 0.066320\n",
      "  p-value: 0.507267\n",
      "--------------\n",
      "\n",
      "Neverici\n",
      "\n",
      "--------------\n",
      "Min: 24.000000\n",
      "Max: 89.000000\n"
     ]
    },
    {
     "data": {
      "image/png": "[encoded data removed]",
      "text/plain": [
       "<matplotlib.figure.Figure at 0x7f46fb6aaa90>"
      ]
     },
     "metadata": {},
     "output_type": "display_data"
    },
    {
     "name": "stdout",
     "output_type": "stream",
     "text": [
      "Shapiro:\n",
      "  W: 0.989845\n",
      "  p-value: 0.495784\n",
      "\n",
      "Kolmogorov:\n",
      "  Statistics: 0.064982\n",
      "  p-value: 0.672651\n",
      "--------------\n",
      "\n",
      "Mann-Whitney:\n",
      "  Stat: 8190.500000\n",
      "  pvalue: 0.037119\n",
      "  z: -1.785168\n",
      "\n",
      "t-test:\n",
      "  Stat: 1.644792\n",
      "  pvalue: 0.101164 \n",
      "\n",
      "KOhen's d (ttest): 0.200061\n",
      "\n",
      "KOhen's d: 0.199866\n",
      "\n",
      "Effect size r: -0.107650\n",
      "\n"
     ]
    },
    {
     "data": {
      "image/png": "[encoded data removed]",
      "text/plain": [
       "<matplotlib.figure.Figure at 0x7f46fbe8fa90>"
      ]
     },
     "metadata": {},
     "output_type": "display_data"
    }
   ],
   "source": [
    "#Víra vs. Součet\n",
    "\n",
    "mw_ttest_lin_relig(u'součet')"
   ]
  },
  {
   "cell_type": "code",
   "execution_count": 782,
   "metadata": {
    "scrolled": false
   },
   "outputs": [
    {
     "name": "stdout",
     "output_type": "stream",
     "text": [
      "Nejvyšší dosažené vzdělání:\n",
      "SŠ                          36\n",
      "VOŠ                          5\n",
      "VŠ - bakalářské             45\n",
      "VŠ - magisterské a vyšší    99\n",
      "ZŠ                           3\n",
      "dtype: int64\n",
      "\n",
      "ANOVA\n",
      "Statistics: 0.306781\n",
      "pvalue: 0.873187\n",
      "\n",
      "pvalue > 0.05 - přijímáme hypotézu - nemá vliv\n"
     ]
    },
    {
     "data": {
      "image/png": "[encoded data removed]",
      "text/plain": [
       "<matplotlib.figure.Figure at 0x7f46fbd73190>"
      ]
     },
     "metadata": {},
     "output_type": "display_data"
    }
   ],
   "source": [
    "#OD 25\n",
    "print(\"%s\\n\" % data[data[u'Věk:'] >= 25].groupby(u'Nejvyšší dosažené vzdělání:').size())\n",
    "vzdelani = data[data[u'Věk:'] >= 25].groupby(u'Nejvyšší dosažené vzdělání:')\n",
    "\n",
    "result = []\n",
    "for g in vzdelani.groups:\n",
    "    result.append(data[u'součet'][vzdelani.groups[g]])\n",
    "\n",
    "anova = stats.f_oneway(*result)\n",
    "print(\"ANOVA\\nStatistics: %f\\npvalue: %f\\n\" % anova)\n",
    "print(\"pvalue > 0.05 - přijímáme hypotézu - nemá vliv\")\n",
    "\n",
    "i = 0\n",
    "for g in result:\n",
    "    plt.scatter([i]*len(g), g)\n",
    "    i += 1\n",
    "    \n",
    "plt.xticks(range(0, len(result)), data.groupby(u'Nejvyšší dosažené vzdělání:').groups.keys())\n",
    "plt.show()"
   ]
  },
  {
   "cell_type": "code",
   "execution_count": 841,
   "metadata": {},
   "outputs": [
    {
     "name": "stdout",
     "output_type": "stream",
     "text": [
      "Nejvyšší dosažené vzdělání:\n",
      "SŠ                          36\n",
      "VOŠ                          5\n",
      "VŠ - bakalářské             45\n",
      "VŠ - magisterské a vyšší    99\n",
      "ZŠ                           3\n",
      "dtype: int64\n",
      "\n",
      "Kruskal\n",
      "Statistics: 1.525134\n",
      "pvalue: 0.822180\n",
      "\n",
      "pvalue > 0.05 - přijímáme hypotézu - nemá vliv\n"
     ]
    }
   ],
   "source": [
    "#OD 25\n",
    "print(\"%s\\n\" % data[data[u'Věk:'] >= 25].groupby(u'Nejvyšší dosažené vzdělání:').size())\n",
    "vzdelani = data[data[u'Věk:'] >= 25].groupby(u'Nejvyšší dosažené vzdělání:')\n",
    "\n",
    "result = []\n",
    "for g in vzdelani.groups:\n",
    "    result.append(data[u'součet'][vzdelani.groups[g]])\n",
    "\n",
    "kruskal = stats.kruskal(*result)\n",
    "\n",
    "print(\"Kruskal\\nStatistics: %f\\npvalue: %f\\n\" % kruskal)\n",
    "print(\"pvalue > 0.05 - přijímáme hypotézu - nemá vliv\")"
   ]
  },
  {
   "cell_type": "markdown",
   "metadata": {},
   "source": [
    "# DAP-R correlations"
   ]
  },
  {
   "cell_type": "code",
   "execution_count": 783,
   "metadata": {},
   "outputs": [
    {
     "name": "stdout",
     "output_type": "stream",
     "text": [
      "Pearson:\n",
      "  PCC: -0.140322\n",
      "  p-value: 0.019917\n",
      "\n",
      "Spearman:\n",
      "  Corr: -0.17901124249860426\n",
      "  pvalue: 0.002891\n",
      "\n",
      "Slope: -0.025571\n",
      "  Intercept: 4.197420\n",
      "  rvalue: -0.140322\n",
      "  pvalue: 0.019917\n",
      "  stderr: 0.010920\n",
      "\n"
     ]
    },
    {
     "data": {
      "image/png": "[encoded data removed]",
      "text/plain": [
       "<matplotlib.figure.Figure at 0x7f46fbf89190>"
      ]
     },
     "metadata": {},
     "output_type": "display_data"
    }
   ],
   "source": [
    "#Věk vs. FD\n",
    "pearson_sperman_lin_plot(u'Věk:', u'FD')"
   ]
  },
  {
   "cell_type": "code",
   "execution_count": 784,
   "metadata": {},
   "outputs": [
    {
     "name": "stdout",
     "output_type": "stream",
     "text": [
      "Pearson:\n",
      "  PCC: -0.002452\n",
      "  p-value: 0.967717\n",
      "\n",
      "Spearman:\n",
      "  Corr: -0.04045948283182688\n",
      "  pvalue: 0.504030\n",
      "\n",
      "Slope: -0.000520\n",
      "  Intercept: 3.300961\n",
      "  rvalue: -0.002452\n",
      "  pvalue: 0.967717\n",
      "  stderr: 0.012840\n",
      "\n"
     ]
    },
    {
     "data": {
      "image/png": "[encoded data removed]",
      "text/plain": [
       "<matplotlib.figure.Figure at 0x7f46fb6c6f90>"
      ]
     },
     "metadata": {},
     "output_type": "display_data"
    }
   ],
   "source": [
    "#Věk vs DA\n",
    "pearson_sperman_lin_plot(u'Věk:', 'DA')"
   ]
  },
  {
   "cell_type": "code",
   "execution_count": 785,
   "metadata": {},
   "outputs": [
    {
     "name": "stdout",
     "output_type": "stream",
     "text": [
      "Muzi\n",
      "\n",
      "--------------\n",
      "Min: 1.000000\n",
      "Max: 7.000000\n"
     ]
    },
    {
     "data": {
      "image/png": "[encoded data removed]",
      "text/plain": [
       "<matplotlib.figure.Figure at 0x7f46fbd5d050>"
      ]
     },
     "metadata": {},
     "output_type": "display_data"
    },
    {
     "name": "stdout",
     "output_type": "stream",
     "text": [
      "Shapiro:\n",
      "  W: 0.935924\n",
      "  p-value: 0.000195\n",
      "\n",
      "Kolmogorov:\n",
      "  Statistics: 0.102580\n",
      "  p-value: 0.263821\n",
      "--------------\n",
      "\n",
      "Zeny\n",
      "\n",
      "--------------\n",
      "Min: 1.000000\n",
      "Max: 7.000000\n"
     ]
    },
    {
     "data": {
      "image/png": "[encoded data removed]",
      "text/plain": [
       "<matplotlib.figure.Figure at 0x7f46fbddc090>"
      ]
     },
     "metadata": {},
     "output_type": "display_data"
    },
    {
     "name": "stdout",
     "output_type": "stream",
     "text": [
      "Shapiro:\n",
      "  W: 0.977019\n",
      "  p-value: 0.004223\n",
      "\n",
      "Kolmogorov:\n",
      "  Statistics: 0.077147\n",
      "  p-value: 0.217629\n",
      "--------------\n",
      "\n",
      "Mann-Whitney:\n",
      "  Stat: 6561.000000\n",
      "  pvalue: 0.001147\n",
      "  z: -3.048382\n",
      "\n",
      "t-test:\n",
      "  Stat: -2.770901\n",
      "  pvalue: 0.005974 \n",
      "\n",
      "KOhen's d (ttest): -0.354483\n",
      "\n",
      "KOhen's d: -0.350049\n",
      "\n",
      "Effect size r: -0.183824\n",
      "\n"
     ]
    },
    {
     "data": {
      "image/png": "[encoded data removed]",
      "text/plain": [
       "<matplotlib.figure.Figure at 0x7f46fbddc610>"
      ]
     },
     "metadata": {},
     "output_type": "display_data"
    }
   ],
   "source": [
    "#Pohlaví vs FD\n",
    "\n",
    "mw_ttest_lin_sex('FD')"
   ]
  },
  {
   "cell_type": "code",
   "execution_count": 786,
   "metadata": {},
   "outputs": [
    {
     "name": "stdout",
     "output_type": "stream",
     "text": [
      "Muzi\n",
      "\n",
      "--------------\n",
      "Min: 1.000000\n",
      "Max: 7.000000\n"
     ]
    },
    {
     "data": {
      "image/png": "[encoded data removed]",
      "text/plain": [
       "<matplotlib.figure.Figure at 0x7f46fbe5e110>"
      ]
     },
     "metadata": {},
     "output_type": "display_data"
    },
    {
     "name": "stdout",
     "output_type": "stream",
     "text": [
      "Shapiro:\n",
      "  W: 0.911753\n",
      "  p-value: 0.000010\n",
      "\n",
      "Kolmogorov:\n",
      "  Statistics: 0.121448\n",
      "  p-value: 0.118363\n",
      "--------------\n",
      "\n",
      "Zeny\n",
      "\n",
      "--------------\n",
      "Min: 1.000000\n",
      "Max: 7.000000\n"
     ]
    },
    {
     "data": {
      "image/png": "[encoded data removed]",
      "text/plain": [
       "<matplotlib.figure.Figure at 0x7f46fb721210>"
      ]
     },
     "metadata": {},
     "output_type": "display_data"
    },
    {
     "name": "stdout",
     "output_type": "stream",
     "text": [
      "Shapiro:\n",
      "  W: 0.942838\n",
      "  p-value: 0.000001\n",
      "\n",
      "Kolmogorov:\n",
      "  Statistics: 0.092727\n",
      "  p-value: 0.082024\n",
      "--------------\n",
      "\n",
      "Mann-Whitney:\n",
      "  Stat: 7514.500000\n",
      "  pvalue: 0.063991\n",
      "  z: -1.520184\n",
      "\n",
      "t-test:\n",
      "  Stat: -1.344109\n",
      "  pvalue: 0.180029 \n",
      "\n",
      "KOhen's d (ttest): -0.171953\n",
      "\n",
      "KOhen's d: -0.170723\n",
      "\n",
      "Effect size r: -0.091671\n",
      "\n"
     ]
    },
    {
     "data": {
      "image/png": "[encoded data removed]",
      "text/plain": [
       "<matplotlib.figure.Figure at 0x7f46fbb47c50>"
      ]
     },
     "metadata": {},
     "output_type": "display_data"
    }
   ],
   "source": [
    "mw_ttest_lin_sex('DA')"
   ]
  },
  {
   "cell_type": "code",
   "execution_count": 787,
   "metadata": {},
   "outputs": [
    {
     "name": "stdout",
     "output_type": "stream",
     "text": [
      "Muzi\n",
      "\n",
      "--------------\n",
      "Min: 2.200000\n",
      "Max: 7.000000\n"
     ]
    },
    {
     "data": {
      "image/png": "[encoded data removed]",
      "text/plain": [
       "<matplotlib.figure.Figure at 0x7f46fb8c3e10>"
      ]
     },
     "metadata": {},
     "output_type": "display_data"
    },
    {
     "name": "stdout",
     "output_type": "stream",
     "text": [
      "Shapiro:\n",
      "  W: 0.782770\n",
      "  p-value: 0.000000\n",
      "\n",
      "Kolmogorov:\n",
      "  Statistics: 0.201549\n",
      "  p-value: 0.000868\n",
      "--------------\n",
      "\n",
      "Zeny\n",
      "\n",
      "--------------\n",
      "Min: 1.200000\n",
      "Max: 7.000000\n"
     ]
    },
    {
     "data": {
      "image/png": "[encoded data removed]",
      "text/plain": [
       "<matplotlib.figure.Figure at 0x7f46fbca71d0>"
      ]
     },
     "metadata": {},
     "output_type": "display_data"
    },
    {
     "name": "stdout",
     "output_type": "stream",
     "text": [
      "Shapiro:\n",
      "  W: 0.912123\n",
      "  p-value: 0.000000\n",
      "\n",
      "Kolmogorov:\n",
      "  Statistics: 0.120411\n",
      "  p-value: 0.009319\n",
      "--------------\n",
      "\n",
      "Mann-Whitney:\n",
      "  Stat: 6378.000000\n",
      "  pvalue: 0.000394\n",
      "  z: -3.341681\n",
      "\n",
      "t-test:\n",
      "  Stat: 2.036346\n",
      "  pvalue: 0.042681 \n",
      "\n",
      "KOhen's d (ttest): 0.260511\n",
      "\n",
      "KOhen's d: 0.251796\n",
      "\n",
      "Effect size r: -0.201511\n",
      "\n"
     ]
    },
    {
     "data": {
      "image/png": "[encoded data removed]",
      "text/plain": [
       "<matplotlib.figure.Figure at 0x7f46fbb56910>"
      ]
     },
     "metadata": {},
     "output_type": "display_data"
    }
   ],
   "source": [
    "mw_ttest_lin_sex('NA')"
   ]
  },
  {
   "cell_type": "code",
   "execution_count": 788,
   "metadata": {},
   "outputs": [
    {
     "name": "stdout",
     "output_type": "stream",
     "text": [
      "Muzi\n",
      "\n",
      "--------------\n",
      "Min: 1.000000\n",
      "Max: 7.000000\n"
     ]
    },
    {
     "data": {
      "image/png": "[encoded data removed]",
      "text/plain": [
       "<matplotlib.figure.Figure at 0x7f46fb885590>"
      ]
     },
     "metadata": {},
     "output_type": "display_data"
    },
    {
     "name": "stdout",
     "output_type": "stream",
     "text": [
      "Shapiro:\n",
      "  W: 0.911008\n",
      "  p-value: 0.000010\n",
      "\n",
      "Kolmogorov:\n",
      "  Statistics: 0.124610\n",
      "  p-value: 0.102135\n",
      "--------------\n",
      "\n",
      "Zeny\n",
      "\n",
      "--------------\n",
      "Min: 1.000000\n",
      "Max: 6.800000\n"
     ]
    },
    {
     "data": {
      "image/png": "[encoded data removed]",
      "text/plain": [
       "<matplotlib.figure.Figure at 0x7f46fb61f690>"
      ]
     },
     "metadata": {},
     "output_type": "display_data"
    },
    {
     "name": "stdout",
     "output_type": "stream",
     "text": [
      "Shapiro:\n",
      "  W: 0.976020\n",
      "  p-value: 0.003155\n",
      "\n",
      "Kolmogorov:\n",
      "  Statistics: 0.065786\n",
      "  p-value: 0.396275\n",
      "--------------\n",
      "\n",
      "Mann-Whitney:\n",
      "  Stat: 6558.000000\n",
      "  pvalue: 0.001127\n",
      "  z: -3.053190\n",
      "\n",
      "t-test:\n",
      "  Stat: -2.865491\n",
      "  pvalue: 0.004487 \n",
      "\n",
      "KOhen's d (ttest): -0.366584\n",
      "\n",
      "KOhen's d: -0.355214\n",
      "\n",
      "Effect size r: -0.184114\n",
      "\n"
     ]
    },
    {
     "data": {
      "image/png": "[encoded data removed]",
      "text/plain": [
       "<matplotlib.figure.Figure at 0x7f46fb61fbd0>"
      ]
     },
     "metadata": {},
     "output_type": "display_data"
    }
   ],
   "source": [
    "mw_ttest_lin_sex('AA')"
   ]
  },
  {
   "cell_type": "code",
   "execution_count": 789,
   "metadata": {},
   "outputs": [
    {
     "name": "stdout",
     "output_type": "stream",
     "text": [
      "Muzi\n",
      "\n",
      "--------------\n",
      "Min: 1.000000\n",
      "Max: 7.000000\n"
     ]
    },
    {
     "data": {
      "image/png": "[encoded data removed]",
      "text/plain": [
       "<matplotlib.figure.Figure at 0x7f46fb5351d0>"
      ]
     },
     "metadata": {},
     "output_type": "display_data"
    },
    {
     "name": "stdout",
     "output_type": "stream",
     "text": [
      "Shapiro:\n",
      "  W: 0.921200\n",
      "  p-value: 0.000031\n",
      "\n",
      "Kolmogorov:\n",
      "  Statistics: 0.123948\n",
      "  p-value: 0.105372\n",
      "--------------\n",
      "\n",
      "Zeny\n",
      "\n",
      "--------------\n",
      "Min: 1.000000\n",
      "Max: 7.000000\n"
     ]
    },
    {
     "data": {
      "image/png": "[encoded data removed]",
      "text/plain": [
       "<matplotlib.figure.Figure at 0x7f46fb61d310>"
      ]
     },
     "metadata": {},
     "output_type": "display_data"
    },
    {
     "name": "stdout",
     "output_type": "stream",
     "text": [
      "Shapiro:\n",
      "  W: 0.963632\n",
      "  p-value: 0.000114\n",
      "\n",
      "Kolmogorov:\n",
      "  Statistics: 0.082359\n",
      "  p-value: 0.160166\n",
      "--------------\n",
      "\n",
      "Mann-Whitney:\n",
      "  Stat: 7967.000000\n",
      "  pvalue: 0.213238\n",
      "  z: -0.794951\n",
      "\n",
      "t-test:\n",
      "  Stat: -0.493685\n",
      "  pvalue: 0.621926 \n",
      "\n",
      "KOhen's d (ttest): -0.063157\n",
      "\n",
      "KOhen's d: -0.061337\n",
      "\n",
      "Effect size r: -0.047937\n",
      "\n"
     ]
    },
    {
     "data": {
      "image/png": "[encoded data removed]",
      "text/plain": [
       "<matplotlib.figure.Figure at 0x7f46fb61da10>"
      ]
     },
     "metadata": {},
     "output_type": "display_data"
    }
   ],
   "source": [
    "mw_ttest_lin_sex('EA')"
   ]
  },
  {
   "cell_type": "code",
   "execution_count": 790,
   "metadata": {},
   "outputs": [
    {
     "name": "stdout",
     "output_type": "stream",
     "text": [
      "Verici\n",
      "\n",
      "--------------\n",
      "Min: 1.000000\n",
      "Max: 7.000000\n"
     ]
    },
    {
     "data": {
      "image/png": "[encoded data removed]",
      "text/plain": [
       "<matplotlib.figure.Figure at 0x7f46fb5826d0>"
      ]
     },
     "metadata": {},
     "output_type": "display_data"
    },
    {
     "name": "stdout",
     "output_type": "stream",
     "text": [
      "Shapiro:\n",
      "  W: 0.959406\n",
      "  p-value: 0.000205\n",
      "\n",
      "Kolmogorov:\n",
      "  Statistics: 0.078896\n",
      "  p-value: 0.289631\n",
      "--------------\n",
      "\n",
      "Neverici\n",
      "\n",
      "--------------\n",
      "Min: 1.000000\n",
      "Max: 7.000000\n"
     ]
    },
    {
     "data": {
      "image/png": "[encoded data removed]",
      "text/plain": [
       "<matplotlib.figure.Figure at 0x7f46fb5a3a50>"
      ]
     },
     "metadata": {},
     "output_type": "display_data"
    },
    {
     "name": "stdout",
     "output_type": "stream",
     "text": [
      "Shapiro:\n",
      "  W: 0.974935\n",
      "  p-value: 0.020764\n",
      "\n",
      "Kolmogorov:\n",
      "  Statistics: 0.085853\n",
      "  p-value: 0.303664\n",
      "--------------\n",
      "\n",
      "Mann-Whitney:\n",
      "  Stat: 8153.000000\n",
      "  pvalue: 0.032700\n",
      "  z: -1.842312\n",
      "\n",
      "t-test:\n",
      "  Stat: -1.717148\n",
      "  pvalue: 0.087086 \n",
      "\n",
      "KOhen's d (ttest): -0.208862\n",
      "\n",
      "KOhen's d: -0.208623\n",
      "\n",
      "Effect size r: -0.111096\n",
      "\n"
     ]
    },
    {
     "data": {
      "image/png": "[encoded data removed]",
      "text/plain": [
       "<matplotlib.figure.Figure at 0x7f46fb5a3450>"
      ]
     },
     "metadata": {},
     "output_type": "display_data"
    }
   ],
   "source": [
    "mw_ttest_lin_relig('FD')"
   ]
  },
  {
   "cell_type": "code",
   "execution_count": 791,
   "metadata": {},
   "outputs": [
    {
     "name": "stdout",
     "output_type": "stream",
     "text": [
      "Verici\n",
      "\n",
      "--------------\n",
      "Min: 1.000000\n",
      "Max: 7.000000\n"
     ]
    },
    {
     "data": {
      "image/png": "[encoded data removed]",
      "text/plain": [
       "<matplotlib.figure.Figure at 0x7f46fb618190>"
      ]
     },
     "metadata": {},
     "output_type": "display_data"
    },
    {
     "name": "stdout",
     "output_type": "stream",
     "text": [
      "Shapiro:\n",
      "  W: 0.914351\n",
      "  p-value: 0.000000\n",
      "\n",
      "Kolmogorov:\n",
      "  Statistics: 0.120318\n",
      "  p-value: 0.023123\n",
      "--------------\n",
      "\n",
      "Neverici\n",
      "\n",
      "--------------\n",
      "Min: 1.000000\n",
      "Max: 7.000000\n"
     ]
    },
    {
     "data": {
      "image/png": "[encoded data removed]",
      "text/plain": [
       "<matplotlib.figure.Figure at 0x7f46fb5e75d0>"
      ]
     },
     "metadata": {},
     "output_type": "display_data"
    },
    {
     "name": "stdout",
     "output_type": "stream",
     "text": [
      "Shapiro:\n",
      "  W: 0.950884\n",
      "  p-value: 0.000194\n",
      "\n",
      "Kolmogorov:\n",
      "  Statistics: 0.095382\n",
      "  p-value: 0.196457\n",
      "--------------\n",
      "\n",
      "Mann-Whitney:\n",
      "  Stat: 7795.000000\n",
      "  pvalue: 0.008393\n",
      "  z: -2.387843\n",
      "\n",
      "t-test:\n",
      "  Stat: -2.224363\n",
      "  pvalue: 0.026942 \n",
      "\n",
      "KOhen's d (ttest): -0.270556\n",
      "\n",
      "KOhen's d: -0.269835\n",
      "\n",
      "Effect size r: -0.143992\n",
      "\n"
     ]
    },
    {
     "data": {
      "image/png": "[encoded data removed]",
      "text/plain": [
       "<matplotlib.figure.Figure at 0x7f46fb5e7b50>"
      ]
     },
     "metadata": {},
     "output_type": "display_data"
    }
   ],
   "source": [
    "mw_ttest_lin_relig('DA')"
   ]
  },
  {
   "cell_type": "code",
   "execution_count": 792,
   "metadata": {},
   "outputs": [
    {
     "name": "stdout",
     "output_type": "stream",
     "text": [
      "Verici\n",
      "\n",
      "--------------\n",
      "Min: 1.200000\n",
      "Max: 7.000000\n"
     ]
    },
    {
     "data": {
      "image/png": "[encoded data removed]",
      "text/plain": [
       "<matplotlib.figure.Figure at 0x7f4730462110>"
      ]
     },
     "metadata": {},
     "output_type": "display_data"
    },
    {
     "name": "stdout",
     "output_type": "stream",
     "text": [
      "Shapiro:\n",
      "  W: 0.859719\n",
      "  p-value: 0.000000\n",
      "\n",
      "Kolmogorov:\n",
      "  Statistics: 0.147584\n",
      "  p-value: 0.002463\n",
      "--------------\n",
      "\n",
      "Neverici\n",
      "\n",
      "--------------\n",
      "Min: 2.200000\n",
      "Max: 7.000000\n"
     ]
    },
    {
     "data": {
      "image/png": "[encoded data removed]",
      "text/plain": [
       "<matplotlib.figure.Figure at 0x7f46fb688f10>"
      ]
     },
     "metadata": {},
     "output_type": "display_data"
    },
    {
     "name": "stdout",
     "output_type": "stream",
     "text": [
      "Shapiro:\n",
      "  W: 0.903170\n",
      "  p-value: 0.000000\n",
      "\n",
      "Kolmogorov:\n",
      "  Statistics: 0.130812\n",
      "  p-value: 0.026075\n",
      "--------------\n",
      "\n",
      "Mann-Whitney:\n",
      "  Stat: 8192.500000\n",
      "  pvalue: 0.036743\n",
      "  z: -1.782120\n",
      "\n",
      "t-test:\n",
      "  Stat: 1.717065\n",
      "  pvalue: 0.087101 \n",
      "\n",
      "KOhen's d (ttest): 0.208852\n",
      "\n",
      "KOhen's d: 0.207315\n",
      "\n",
      "Effect size r: -0.107466\n",
      "\n"
     ]
    },
    {
     "data": {
      "image/png": "[encoded data removed]",
      "text/plain": [
       "<matplotlib.figure.Figure at 0x7f46fbd2d550>"
      ]
     },
     "metadata": {},
     "output_type": "display_data"
    }
   ],
   "source": [
    "mw_ttest_lin_relig('NA')"
   ]
  },
  {
   "cell_type": "code",
   "execution_count": 793,
   "metadata": {},
   "outputs": [
    {
     "name": "stdout",
     "output_type": "stream",
     "text": [
      "Verici\n",
      "\n",
      "--------------\n",
      "Min: 1.000000\n",
      "Max: 7.000000\n"
     ]
    },
    {
     "data": {
      "image/png": "[encoded data removed]",
      "text/plain": [
       "<matplotlib.figure.Figure at 0x7f46fbdb86d0>"
      ]
     },
     "metadata": {},
     "output_type": "display_data"
    },
    {
     "name": "stdout",
     "output_type": "stream",
     "text": [
      "Shapiro:\n",
      "  W: 0.980930\n",
      "  p-value: 0.034345\n",
      "\n",
      "Kolmogorov:\n",
      "  Statistics: 0.064242\n",
      "  p-value: 0.551351\n",
      "--------------\n",
      "\n",
      "Neverici\n",
      "\n",
      "--------------\n",
      "Min: 1.000000\n",
      "Max: 7.000000\n"
     ]
    },
    {
     "data": {
      "image/png": "[encoded data removed]",
      "text/plain": [
       "<matplotlib.figure.Figure at 0x7f46fb7e0c10>"
      ]
     },
     "metadata": {},
     "output_type": "display_data"
    },
    {
     "name": "stdout",
     "output_type": "stream",
     "text": [
      "Shapiro:\n",
      "  W: 0.910172\n",
      "  p-value: 0.000000\n",
      "\n",
      "Kolmogorov:\n",
      "  Statistics: 0.127609\n",
      "  p-value: 0.032124\n",
      "--------------\n",
      "\n",
      "Mann-Whitney:\n",
      "  Stat: 3668.000000\n",
      "  pvalue: 0.000000\n",
      "  z: -8.676693\n",
      "\n",
      "t-test:\n",
      "  Stat: 9.927973\n",
      "  pvalue: 0.000000 \n",
      "\n",
      "KOhen's d (ttest): 1.207571\n",
      "\n",
      "KOhen's d: 1.207724\n",
      "\n",
      "Effect size r: -0.523224\n",
      "\n"
     ]
    },
    {
     "data": {
      "image/png": "[encoded data removed]",
      "text/plain": [
       "<matplotlib.figure.Figure at 0x7f46fb97e6d0>"
      ]
     },
     "metadata": {},
     "output_type": "display_data"
    }
   ],
   "source": [
    "mw_ttest_lin_relig('AA')"
   ]
  },
  {
   "cell_type": "code",
   "execution_count": 794,
   "metadata": {},
   "outputs": [
    {
     "name": "stdout",
     "output_type": "stream",
     "text": [
      "Verici\n",
      "\n",
      "--------------\n",
      "Min: 1.000000\n",
      "Max: 7.000000\n"
     ]
    },
    {
     "data": {
      "image/png": "[encoded data removed]",
      "text/plain": [
       "<matplotlib.figure.Figure at 0x7f46fb97e090>"
      ]
     },
     "metadata": {},
     "output_type": "display_data"
    },
    {
     "name": "stdout",
     "output_type": "stream",
     "text": [
      "Shapiro:\n",
      "  W: 0.955463\n",
      "  p-value: 0.000091\n",
      "\n",
      "Kolmogorov:\n",
      "  Statistics: 0.088517\n",
      "  p-value: 0.176781\n",
      "--------------\n",
      "\n",
      "Neverici\n",
      "\n",
      "--------------\n",
      "Min: 1.000000\n",
      "Max: 7.000000\n"
     ]
    },
    {
     "data": {
      "image/png": "[encoded data removed]",
      "text/plain": [
       "<matplotlib.figure.Figure at 0x7f46fbda0d90>"
      ]
     },
     "metadata": {},
     "output_type": "display_data"
    },
    {
     "name": "stdout",
     "output_type": "stream",
     "text": [
      "Shapiro:\n",
      "  W: 0.940728\n",
      "  p-value: 0.000036\n",
      "\n",
      "Kolmogorov:\n",
      "  Statistics: 0.096132\n",
      "  p-value: 0.189473\n",
      "--------------\n",
      "\n",
      "Mann-Whitney:\n",
      "  Stat: 8915.000000\n",
      "  pvalue: 0.247834\n",
      "  z: -0.681152\n",
      "\n",
      "t-test:\n",
      "  Stat: 0.506642\n",
      "  pvalue: 0.612815 \n",
      "\n",
      "KOhen's d (ttest): 0.061624\n",
      "\n",
      "KOhen's d: 0.061244\n",
      "\n",
      "Effect size r: -0.041075\n",
      "\n"
     ]
    },
    {
     "data": {
      "image/png": "[encoded data removed]",
      "text/plain": [
       "<matplotlib.figure.Figure at 0x7f46fbda0e90>"
      ]
     },
     "metadata": {},
     "output_type": "display_data"
    }
   ],
   "source": [
    "mw_ttest_lin_relig('EA')"
   ]
  },
  {
   "cell_type": "code",
   "execution_count": 795,
   "metadata": {},
   "outputs": [
    {
     "name": "stdout",
     "output_type": "stream",
     "text": [
      "Pearson:\n",
      "  PCC: 0.043383\n",
      "  p-value: 0.473692\n",
      "\n",
      "Spearman:\n",
      "  Corr: 0.07488386621123355\n",
      "  pvalue: 0.215757\n",
      "\n",
      "Slope: 0.038056\n",
      "  Intercept: 11.877534\n",
      "  rvalue: 0.043383\n",
      "  pvalue: 0.473692\n",
      "  stderr: 0.053042\n",
      "\n"
     ]
    },
    {
     "data": {
      "image/png": "[encoded data removed]",
      "text/plain": [
       "<matplotlib.figure.Figure at 0x7f46fb8b1390>"
      ]
     },
     "metadata": {},
     "output_type": "display_data"
    }
   ],
   "source": [
    "#Věk vs COS\n",
    "\n",
    "pearson_sperman_lin_plot(u'Věk:', 'COS')"
   ]
  },
  {
   "cell_type": "code",
   "execution_count": 796,
   "metadata": {},
   "outputs": [
    {
     "name": "stdout",
     "output_type": "stream",
     "text": [
      "Pearson:\n",
      "  PCC: 0.059596\n",
      "  p-value: 0.324787\n",
      "\n",
      "Spearman:\n",
      "  Corr: 0.049941615603346506\n",
      "  pvalue: 0.409411\n",
      "\n",
      "Slope: 0.049014\n",
      "  Intercept: 7.663980\n",
      "  rvalue: 0.059596\n",
      "  pvalue: 0.324787\n",
      "  stderr: 0.049687\n",
      "\n"
     ]
    },
    {
     "data": {
      "image/png": "[encoded data removed]",
      "text/plain": [
       "<matplotlib.figure.Figure at 0x7f46fbbde890>"
      ]
     },
     "metadata": {},
     "output_type": "display_data"
    }
   ],
   "source": [
    "#Věk vs EPD\n",
    "\n",
    "pearson_sperman_lin_plot(u'Věk:', 'EPD')"
   ]
  },
  {
   "cell_type": "code",
   "execution_count": 797,
   "metadata": {},
   "outputs": [
    {
     "name": "stdout",
     "output_type": "stream",
     "text": [
      "Pearson:\n",
      "  PCC: 0.117625\n",
      "  p-value: 0.051359\n",
      "\n",
      "Spearman:\n",
      "  Corr: 0.16867473194301688\n",
      "  pvalue: 0.005039\n",
      "\n",
      "Slope: 0.076552\n",
      "  Intercept: 13.505917\n",
      "  rvalue: 0.117625\n",
      "  pvalue: 0.051359\n",
      "  stderr: 0.039116\n",
      "\n"
     ]
    },
    {
     "data": {
      "image/png": "[encoded data removed]",
      "text/plain": [
       "<matplotlib.figure.Figure at 0x7f46fba24390>"
      ]
     },
     "metadata": {},
     "output_type": "display_data"
    }
   ],
   "source": [
    "#Věk vs EWB\n",
    "\n",
    "pearson_sperman_lin_plot(u'Věk:', 'EWB')"
   ]
  },
  {
   "cell_type": "code",
   "execution_count": 798,
   "metadata": {},
   "outputs": [
    {
     "name": "stdout",
     "output_type": "stream",
     "text": [
      "Pearson:\n",
      "  PCC: 0.031214\n",
      "  p-value: 0.606281\n",
      "\n",
      "Spearman:\n",
      "  Corr: 0.02798507940779088\n",
      "  pvalue: 0.644041\n",
      "\n",
      "Slope: 0.023658\n",
      "  Intercept: 10.456714\n",
      "  rvalue: 0.031214\n",
      "  pvalue: 0.606281\n",
      "  stderr: 0.045849\n",
      "\n"
     ]
    },
    {
     "data": {
      "image/png": "[encoded data removed]",
      "text/plain": [
       "<matplotlib.figure.Figure at 0x7f46fb5fb750>"
      ]
     },
     "metadata": {},
     "output_type": "display_data"
    }
   ],
   "source": [
    "#Věk vs PAR\n",
    "\n",
    "pearson_sperman_lin_plot(u'Věk:', 'PAR')"
   ]
  },
  {
   "cell_type": "code",
   "execution_count": 799,
   "metadata": {},
   "outputs": [
    {
     "name": "stdout",
     "output_type": "stream",
     "text": [
      "Pearson:\n",
      "  PCC: -0.001476\n",
      "  p-value: 0.980561\n",
      "\n",
      "Spearman:\n",
      "  Corr: 0.01921273347633576\n",
      "  pvalue: 0.751103\n",
      "\n",
      "Slope: -0.001259\n",
      "  Intercept: 9.742110\n",
      "  rvalue: -0.001476\n",
      "  pvalue: 0.980561\n",
      "  stderr: 0.051629\n",
      "\n"
     ]
    },
    {
     "data": {
      "image/png": "[encoded data removed]",
      "text/plain": [
       "<matplotlib.figure.Figure at 0x7f46fbfe9d10>"
      ]
     },
     "metadata": {},
     "output_type": "display_data"
    }
   ],
   "source": [
    "#Věk vs REL\n",
    "\n",
    "pearson_sperman_lin_plot(u'Věk:', 'REL')"
   ]
  },
  {
   "cell_type": "code",
   "execution_count": 800,
   "metadata": {},
   "outputs": [
    {
     "name": "stdout",
     "output_type": "stream",
     "text": [
      "Pearson:\n",
      "  PCC: 0.065498\n",
      "  p-value: 0.279088\n",
      "\n",
      "Spearman:\n",
      "  Corr: 0.09199542663372366\n",
      "  pvalue: 0.128046\n",
      "\n",
      "Slope: 0.186020\n",
      "  Intercept: 53.246256\n",
      "  rvalue: 0.065498\n",
      "  pvalue: 0.279088\n",
      "  stderr: 0.171522\n",
      "\n"
     ]
    },
    {
     "data": {
      "image/png": "[encoded data removed]",
      "text/plain": [
       "<matplotlib.figure.Figure at 0x7f46fb602510>"
      ]
     },
     "metadata": {},
     "output_type": "display_data"
    }
   ],
   "source": [
    "pearson_sperman_lin_plot(u'Věk:', 'CELKEM')"
   ]
  },
  {
   "cell_type": "code",
   "execution_count": 801,
   "metadata": {},
   "outputs": [
    {
     "name": "stdout",
     "output_type": "stream",
     "text": [
      "Muzi\n",
      "\n",
      "--------------\n",
      "Min: 0.000000\n",
      "Max: 24.000000\n"
     ]
    },
    {
     "data": {
      "image/png": "[encoded data removed]",
      "text/plain": [
       "<matplotlib.figure.Figure at 0x7f46fb535a10>"
      ]
     },
     "metadata": {},
     "output_type": "display_data"
    },
    {
     "name": "stdout",
     "output_type": "stream",
     "text": [
      "Shapiro:\n",
      "  W: 0.925111\n",
      "  p-value: 0.000050\n",
      "\n",
      "Kolmogorov:\n",
      "  Statistics: 0.113515\n",
      "  p-value: 0.168535\n",
      "--------------\n",
      "\n",
      "Zeny\n",
      "\n",
      "--------------\n",
      "Min: 0.000000\n",
      "Max: 24.000000\n"
     ]
    },
    {
     "data": {
      "image/png": "[encoded data removed]",
      "text/plain": [
       "<matplotlib.figure.Figure at 0x7f46fb5a3d10>"
      ]
     },
     "metadata": {},
     "output_type": "display_data"
    },
    {
     "name": "stdout",
     "output_type": "stream",
     "text": [
      "Shapiro:\n",
      "  W: 0.954288\n",
      "  p-value: 0.000013\n",
      "\n",
      "Kolmogorov:\n",
      "  Statistics: 0.086330\n",
      "  p-value: 0.125113\n",
      "--------------\n",
      "\n",
      "Mann-Whitney:\n",
      "  Stat: 8206.500000\n",
      "  pvalue: 0.340620\n",
      "  z: -0.411099\n",
      "\n",
      "t-test:\n",
      "  Stat: -0.604551\n",
      "  pvalue: 0.545979 \n",
      "\n",
      "KOhen's d (ttest): -0.077341\n",
      "\n",
      "KOhen's d: -0.075219\n",
      "\n",
      "Effect size r: -0.024790\n",
      "\n"
     ]
    },
    {
     "data": {
      "image/png": "[encoded data removed]",
      "text/plain": [
       "<matplotlib.figure.Figure at 0x7f46fb594dd0>"
      ]
     },
     "metadata": {},
     "output_type": "display_data"
    }
   ],
   "source": [
    "#Pohlaví vs COS\n",
    "\n",
    "mw_ttest_lin_sex('COS')"
   ]
  },
  {
   "cell_type": "code",
   "execution_count": 802,
   "metadata": {},
   "outputs": [
    {
     "name": "stdout",
     "output_type": "stream",
     "text": [
      "Muzi\n",
      "\n",
      "--------------\n",
      "Min: 0.000000\n",
      "Max: 24.000000\n"
     ]
    },
    {
     "data": {
      "image/png": "[encoded data removed]",
      "text/plain": [
       "<matplotlib.figure.Figure at 0x7f46fb982fd0>"
      ]
     },
     "metadata": {},
     "output_type": "display_data"
    },
    {
     "name": "stdout",
     "output_type": "stream",
     "text": [
      "Shapiro:\n",
      "  W: 0.910392\n",
      "  p-value: 0.000009\n",
      "\n",
      "Kolmogorov:\n",
      "  Statistics: 0.141772\n",
      "  p-value: 0.042932\n",
      "--------------\n",
      "\n",
      "Zeny\n",
      "\n",
      "--------------\n",
      "Min: 0.000000\n",
      "Max: 24.000000\n"
     ]
    },
    {
     "data": {
      "image/png": "[encoded data removed]",
      "text/plain": [
       "<matplotlib.figure.Figure at 0x7f46fb8857d0>"
      ]
     },
     "metadata": {},
     "output_type": "display_data"
    },
    {
     "name": "stdout",
     "output_type": "stream",
     "text": [
      "Shapiro:\n",
      "  W: 0.952075\n",
      "  p-value: 0.000008\n",
      "\n",
      "Kolmogorov:\n",
      "  Statistics: 0.085345\n",
      "  p-value: 0.133161\n",
      "--------------\n",
      "\n",
      "Mann-Whitney:\n",
      "  Stat: 7495.500000\n",
      "  pvalue: 0.060261\n",
      "  z: -1.550636\n",
      "\n",
      "t-test:\n",
      "  Stat: -1.276955\n",
      "  pvalue: 0.202703 \n",
      "\n",
      "KOhen's d (ttest): -0.163362\n",
      "\n",
      "KOhen's d: -0.160380\n",
      "\n",
      "Effect size r: -0.093507\n",
      "\n"
     ]
    },
    {
     "data": {
      "image/png": "[encoded data removed]",
      "text/plain": [
       "<matplotlib.figure.Figure at 0x7f46fbb9da50>"
      ]
     },
     "metadata": {},
     "output_type": "display_data"
    }
   ],
   "source": [
    "#Pohlaví vs EPD\n",
    "\n",
    "mw_ttest_lin_sex('EPD')"
   ]
  },
  {
   "cell_type": "code",
   "execution_count": 803,
   "metadata": {},
   "outputs": [
    {
     "name": "stdout",
     "output_type": "stream",
     "text": [
      "Muzi\n",
      "\n",
      "--------------\n",
      "Min: 2.000000\n",
      "Max: 24.000000\n"
     ]
    },
    {
     "data": {
      "image/png": "[encoded data removed]",
      "text/plain": [
       "<matplotlib.figure.Figure at 0x7f46fbf072d0>"
      ]
     },
     "metadata": {},
     "output_type": "display_data"
    },
    {
     "name": "stdout",
     "output_type": "stream",
     "text": [
      "Shapiro:\n",
      "  W: 0.942180\n",
      "  p-value: 0.000450\n",
      "\n",
      "Kolmogorov:\n",
      "  Statistics: 0.136468\n",
      "  p-value: 0.056794\n",
      "--------------\n",
      "\n",
      "Zeny\n",
      "\n",
      "--------------\n",
      "Min: 0.000000\n",
      "Max: 24.000000\n"
     ]
    },
    {
     "data": {
      "image/png": "[encoded data removed]",
      "text/plain": [
       "<matplotlib.figure.Figure at 0x7f470723c250>"
      ]
     },
     "metadata": {},
     "output_type": "display_data"
    },
    {
     "name": "stdout",
     "output_type": "stream",
     "text": [
      "Shapiro:\n",
      "  W: 0.963257\n",
      "  p-value: 0.000104\n",
      "\n",
      "Kolmogorov:\n",
      "  Statistics: 0.097508\n",
      "  p-value: 0.058663\n",
      "--------------\n",
      "\n",
      "Mann-Whitney:\n",
      "  Stat: 7285.500000\n",
      "  pvalue: 0.029379\n",
      "  z: -1.887208\n",
      "\n",
      "t-test:\n",
      "  Stat: 1.789277\n",
      "  pvalue: 0.074679 \n",
      "\n",
      "KOhen's d (ttest): 0.228903\n",
      "\n",
      "KOhen's d: 0.229312\n",
      "\n",
      "Effect size r: -0.113803\n",
      "\n"
     ]
    },
    {
     "data": {
      "image/png": "[encoded data removed]",
      "text/plain": [
       "<matplotlib.figure.Figure at 0x7f46fbdb8610>"
      ]
     },
     "metadata": {},
     "output_type": "display_data"
    }
   ],
   "source": [
    "#Pohlaví vs EWB\n",
    "\n",
    "mw_ttest_lin_sex('EWB')"
   ]
  },
  {
   "cell_type": "code",
   "execution_count": 804,
   "metadata": {},
   "outputs": [
    {
     "name": "stdout",
     "output_type": "stream",
     "text": [
      "Muzi\n",
      "\n",
      "--------------\n",
      "Min: 0.000000\n",
      "Max: 24.000000\n"
     ]
    },
    {
     "data": {
      "image/png": "[encoded data removed]",
      "text/plain": [
       "<matplotlib.figure.Figure at 0x7f46fbd50b10>"
      ]
     },
     "metadata": {},
     "output_type": "display_data"
    },
    {
     "name": "stdout",
     "output_type": "stream",
     "text": [
      "Shapiro:\n",
      "  W: 0.955625\n",
      "  p-value: 0.003113\n",
      "\n",
      "Kolmogorov:\n",
      "  Statistics: 0.111611\n",
      "  p-value: 0.182801\n",
      "--------------\n",
      "\n",
      "Zeny\n",
      "\n",
      "--------------\n",
      "Min: 0.000000\n",
      "Max: 23.000000\n"
     ]
    },
    {
     "data": {
      "image/png": "[encoded data removed]",
      "text/plain": [
       "<matplotlib.figure.Figure at 0x7f46fbcbe510>"
      ]
     },
     "metadata": {},
     "output_type": "display_data"
    },
    {
     "name": "stdout",
     "output_type": "stream",
     "text": [
      "Shapiro:\n",
      "  W: 0.965043\n",
      "  p-value: 0.000163\n",
      "\n",
      "Kolmogorov:\n",
      "  Statistics: 0.103541\n",
      "  p-value: 0.037516\n",
      "--------------\n",
      "\n",
      "Mann-Whitney:\n",
      "  Stat: 6105.000000\n",
      "  pvalue: 0.000078\n",
      "  z: -3.779225\n",
      "\n",
      "t-test:\n",
      "  Stat: -3.735245\n",
      "  pvalue: 0.000228 \n",
      "\n",
      "KOhen's d (ttest): -0.477852\n",
      "\n",
      "KOhen's d: -0.474351\n",
      "\n",
      "Effect size r: -0.227896\n",
      "\n"
     ]
    },
    {
     "data": {
      "image/png": "[encoded data removed]",
      "text/plain": [
       "<matplotlib.figure.Figure at 0x7f46fb826d90>"
      ]
     },
     "metadata": {},
     "output_type": "display_data"
    }
   ],
   "source": [
    "#Pohlaví vs PAR\n",
    "\n",
    "mw_ttest_lin_sex('PAR')"
   ]
  },
  {
   "cell_type": "code",
   "execution_count": 805,
   "metadata": {},
   "outputs": [
    {
     "name": "stdout",
     "output_type": "stream",
     "text": [
      "Muzi\n",
      "\n",
      "--------------\n",
      "Min: 0.000000\n",
      "Max: 24.000000\n"
     ]
    },
    {
     "data": {
      "image/png": "[encoded data removed]",
      "text/plain": [
       "<matplotlib.figure.Figure at 0x7f46fb60a110>"
      ]
     },
     "metadata": {},
     "output_type": "display_data"
    },
    {
     "name": "stdout",
     "output_type": "stream",
     "text": [
      "Shapiro:\n",
      "  W: 0.902400\n",
      "  p-value: 0.000004\n",
      "\n",
      "Kolmogorov:\n",
      "  Statistics: 0.148460\n",
      "  p-value: 0.029709\n",
      "--------------\n",
      "\n",
      "Zeny\n",
      "\n",
      "--------------\n",
      "Min: 0.000000\n",
      "Max: 24.000000\n"
     ]
    },
    {
     "data": {
      "image/png": "[encoded data removed]",
      "text/plain": [
       "<matplotlib.figure.Figure at 0x7f46fb4c5290>"
      ]
     },
     "metadata": {},
     "output_type": "display_data"
    },
    {
     "name": "stdout",
     "output_type": "stream",
     "text": [
      "Shapiro:\n",
      "  W: 0.959495\n",
      "  p-value: 0.000042\n",
      "\n",
      "Kolmogorov:\n",
      "  Statistics: 0.083479\n",
      "  p-value: 0.149564\n",
      "--------------\n",
      "\n",
      "Mann-Whitney:\n",
      "  Stat: 7212.500000\n",
      "  pvalue: 0.022367\n",
      "  z: -2.004207\n",
      "\n",
      "t-test:\n",
      "  Stat: -1.796598\n",
      "  pvalue: 0.073505 \n",
      "\n",
      "KOhen's d (ttest): -0.229840\n",
      "\n",
      "KOhen's d: -0.224755\n",
      "\n",
      "Effect size r: -0.120858\n",
      "\n"
     ]
    },
    {
     "data": {
      "image/png": "[encoded data removed]",
      "text/plain": [
       "<matplotlib.figure.Figure at 0x7f46fb4c5450>"
      ]
     },
     "metadata": {},
     "output_type": "display_data"
    }
   ],
   "source": [
    "#Pohlaví vs REL\n",
    "\n",
    "mw_ttest_lin_sex('REL')"
   ]
  },
  {
   "cell_type": "code",
   "execution_count": 806,
   "metadata": {},
   "outputs": [
    {
     "name": "stdout",
     "output_type": "stream",
     "text": [
      "Muzi\n",
      "\n",
      "--------------\n",
      "Min: 12.000000\n",
      "Max: 103.000000\n"
     ]
    },
    {
     "data": {
      "image/png": "[encoded data removed]",
      "text/plain": [
       "<matplotlib.figure.Figure at 0x7f46fb8b3390>"
      ]
     },
     "metadata": {},
     "output_type": "display_data"
    },
    {
     "name": "stdout",
     "output_type": "stream",
     "text": [
      "Shapiro:\n",
      "  W: 0.959487\n",
      "  p-value: 0.005632\n",
      "\n",
      "Kolmogorov:\n",
      "  Statistics: 0.073111\n",
      "  p-value: 0.705663\n",
      "--------------\n",
      "\n",
      "Zeny\n",
      "\n",
      "--------------\n",
      "Min: 7.000000\n",
      "Max: 108.000000\n"
     ]
    },
    {
     "data": {
      "image/png": "[encoded data removed]",
      "text/plain": [
       "<matplotlib.figure.Figure at 0x7f46fb831690>"
      ]
     },
     "metadata": {},
     "output_type": "display_data"
    },
    {
     "name": "stdout",
     "output_type": "stream",
     "text": [
      "Shapiro:\n",
      "  W: 0.986735\n",
      "  p-value: 0.084503\n",
      "\n",
      "Kolmogorov:\n",
      "  Statistics: 0.044398\n",
      "  p-value: 0.865650\n",
      "--------------\n",
      "\n",
      "Mann-Whitney:\n",
      "  Stat: 7391.500000\n",
      "  pvalue: 0.043014\n",
      "  z: -1.717319\n",
      "\n",
      "t-test:\n",
      "  Stat: -1.664763\n",
      "  pvalue: 0.097107 \n",
      "\n",
      "KOhen's d (ttest): -0.212974\n",
      "\n",
      "KOhen's d: -0.208605\n",
      "\n",
      "Effect size r: -0.103558\n",
      "\n"
     ]
    },
    {
     "data": {
      "image/png": "[encoded data removed]",
      "text/plain": [
       "<matplotlib.figure.Figure at 0x7f46fbad0190>"
      ]
     },
     "metadata": {},
     "output_type": "display_data"
    }
   ],
   "source": [
    "mw_ttest_lin_sex('CELKEM')"
   ]
  },
  {
   "cell_type": "code",
   "execution_count": 807,
   "metadata": {},
   "outputs": [
    {
     "name": "stdout",
     "output_type": "stream",
     "text": [
      "Verici\n",
      "\n",
      "--------------\n",
      "Min: 0.000000\n",
      "Max: 24.000000\n"
     ]
    },
    {
     "data": {
      "image/png": "[encoded data removed]",
      "text/plain": [
       "<matplotlib.figure.Figure at 0x7f46fba90810>"
      ]
     },
     "metadata": {},
     "output_type": "display_data"
    },
    {
     "name": "stdout",
     "output_type": "stream",
     "text": [
      "Shapiro:\n",
      "  W: 0.931856\n",
      "  p-value: 0.000001\n",
      "\n",
      "Kolmogorov:\n",
      "  Statistics: 0.120815\n",
      "  p-value: 0.022290\n",
      "--------------\n",
      "\n",
      "Neverici\n",
      "\n",
      "--------------\n",
      "Min: 0.000000\n",
      "Max: 24.000000\n"
     ]
    },
    {
     "data": {
      "image/png": "[encoded data removed]",
      "text/plain": [
       "<matplotlib.figure.Figure at 0x7f46fba11690>"
      ]
     },
     "metadata": {},
     "output_type": "display_data"
    },
    {
     "name": "stdout",
     "output_type": "stream",
     "text": [
      "Shapiro:\n",
      "  W: 0.945071\n",
      "  p-value: 0.000073\n",
      "\n",
      "Kolmogorov:\n",
      "  Statistics: 0.090571\n",
      "  p-value: 0.246157\n",
      "--------------\n",
      "\n",
      "Mann-Whitney:\n",
      "  Stat: 3270.000000\n",
      "  pvalue: 0.000000\n",
      "  z: -9.283178\n",
      "\n",
      "t-test:\n",
      "  Stat: 11.229185\n",
      "  pvalue: 0.000000 \n",
      "\n",
      "KOhen's d (ttest): 1.365841\n",
      "\n",
      "KOhen's d: 1.354523\n",
      "\n",
      "Effect size r: -0.559797\n",
      "\n"
     ]
    },
    {
     "data": {
      "image/png": "[encoded data removed]",
      "text/plain": [
       "<matplotlib.figure.Figure at 0x7f46fba11250>"
      ]
     },
     "metadata": {},
     "output_type": "display_data"
    }
   ],
   "source": [
    "mw_ttest_lin_relig('COS')"
   ]
  },
  {
   "cell_type": "code",
   "execution_count": 808,
   "metadata": {},
   "outputs": [
    {
     "name": "stdout",
     "output_type": "stream",
     "text": [
      "Verici\n",
      "\n",
      "--------------\n",
      "Min: 0.000000\n",
      "Max: 24.000000\n"
     ]
    },
    {
     "data": {
      "image/png": "[encoded data removed]",
      "text/plain": [
       "<matplotlib.figure.Figure at 0x7f46fbab0890>"
      ]
     },
     "metadata": {},
     "output_type": "display_data"
    },
    {
     "name": "stdout",
     "output_type": "stream",
     "text": [
      "Shapiro:\n",
      "  W: 0.964826\n",
      "  p-value: 0.000666\n",
      "\n",
      "Kolmogorov:\n",
      "  Statistics: 0.085335\n",
      "  p-value: 0.209432\n",
      "--------------\n",
      "\n",
      "Neverici\n",
      "\n",
      "--------------\n",
      "Min: 0.000000\n",
      "Max: 24.000000\n"
     ]
    },
    {
     "data": {
      "image/png": "[encoded data removed]",
      "text/plain": [
       "<matplotlib.figure.Figure at 0x7f46fb5cecd0>"
      ]
     },
     "metadata": {},
     "output_type": "display_data"
    },
    {
     "name": "stdout",
     "output_type": "stream",
     "text": [
      "Shapiro:\n",
      "  W: 0.889696\n",
      "  p-value: 0.000000\n",
      "\n",
      "Kolmogorov:\n",
      "  Statistics: 0.148452\n",
      "  p-value: 0.007529\n",
      "--------------\n",
      "\n",
      "Mann-Whitney:\n",
      "  Stat: 5319.000000\n",
      "  pvalue: 0.000000\n",
      "  z: -6.160848\n",
      "\n",
      "t-test:\n",
      "  Stat: 6.438839\n",
      "  pvalue: 0.000000 \n",
      "\n",
      "KOhen's d (ttest): 0.783176\n",
      "\n",
      "KOhen's d: 0.783232\n",
      "\n",
      "Effect size r: -0.371513\n",
      "\n"
     ]
    },
    {
     "data": {
      "image/png": "[encoded data removed]",
      "text/plain": [
       "<matplotlib.figure.Figure at 0x7f46fb4df110>"
      ]
     },
     "metadata": {},
     "output_type": "display_data"
    }
   ],
   "source": [
    "mw_ttest_lin_relig('EPD')"
   ]
  },
  {
   "cell_type": "code",
   "execution_count": 809,
   "metadata": {},
   "outputs": [
    {
     "name": "stdout",
     "output_type": "stream",
     "text": [
      "Verici\n",
      "\n",
      "--------------\n",
      "Min: 0.000000\n",
      "Max: 24.000000\n"
     ]
    },
    {
     "data": {
      "image/png": "[encoded data removed]",
      "text/plain": [
       "<matplotlib.figure.Figure at 0x7f46fba80d10>"
      ]
     },
     "metadata": {},
     "output_type": "display_data"
    },
    {
     "name": "stdout",
     "output_type": "stream",
     "text": [
      "Shapiro:\n",
      "  W: 0.956206\n",
      "  p-value: 0.000105\n",
      "\n",
      "Kolmogorov:\n",
      "  Statistics: 0.099678\n",
      "  p-value: 0.092897\n",
      "--------------\n",
      "\n",
      "Neverici\n",
      "\n",
      "--------------\n",
      "Min: 0.000000\n",
      "Max: 24.000000\n"
     ]
    },
    {
     "data": {
      "image/png": "[encoded data removed]",
      "text/plain": [
       "<matplotlib.figure.Figure at 0x7f46fb63bc90>"
      ]
     },
     "metadata": {},
     "output_type": "display_data"
    },
    {
     "name": "stdout",
     "output_type": "stream",
     "text": [
      "Shapiro:\n",
      "  W: 0.957586\n",
      "  p-value: 0.000644\n",
      "\n",
      "Kolmogorov:\n",
      "  Statistics: 0.127392\n",
      "  p-value: 0.032575\n",
      "--------------\n",
      "\n",
      "Mann-Whitney:\n",
      "  Stat: 9302.000000\n",
      "  pvalue: 0.463810\n",
      "  z: -0.091430\n",
      "\n",
      "t-test:\n",
      "  Stat: 0.091255\n",
      "  pvalue: 0.927357 \n",
      "\n",
      "KOhen's d (ttest): 0.011100\n",
      "\n",
      "KOhen's d: 0.011061\n",
      "\n",
      "Effect size r: -0.005513\n",
      "\n"
     ]
    },
    {
     "data": {
      "image/png": "[encoded data removed]",
      "text/plain": [
       "<matplotlib.figure.Figure at 0x7f46fbcb1e50>"
      ]
     },
     "metadata": {},
     "output_type": "display_data"
    }
   ],
   "source": [
    "mw_ttest_lin_relig('EWB')"
   ]
  },
  {
   "cell_type": "code",
   "execution_count": 810,
   "metadata": {},
   "outputs": [
    {
     "name": "stdout",
     "output_type": "stream",
     "text": [
      "Verici\n",
      "\n",
      "--------------\n",
      "Min: 0.000000\n",
      "Max: 24.000000\n"
     ]
    },
    {
     "data": {
      "image/png": "[encoded data removed]",
      "text/plain": [
       "<matplotlib.figure.Figure at 0x7f46fbd48a10>"
      ]
     },
     "metadata": {},
     "output_type": "display_data"
    },
    {
     "name": "stdout",
     "output_type": "stream",
     "text": [
      "Shapiro:\n",
      "  W: 0.975998\n",
      "  p-value: 0.009588\n",
      "\n",
      "Kolmogorov:\n",
      "  Statistics: 0.101418\n",
      "  p-value: 0.083455\n",
      "--------------\n",
      "\n",
      "Neverici\n",
      "\n",
      "--------------\n",
      "Min: 0.000000\n",
      "Max: 23.000000\n"
     ]
    },
    {
     "data": {
      "image/png": "[encoded data removed]",
      "text/plain": [
       "<matplotlib.figure.Figure at 0x7f470723c190>"
      ]
     },
     "metadata": {},
     "output_type": "display_data"
    },
    {
     "name": "stdout",
     "output_type": "stream",
     "text": [
      "Shapiro:\n",
      "  W: 0.947226\n",
      "  p-value: 0.000104\n",
      "\n",
      "Kolmogorov:\n",
      "  Statistics: 0.130092\n",
      "  p-value: 0.027339\n",
      "--------------\n",
      "\n",
      "Mann-Whitney:\n",
      "  Stat: 5127.500000\n",
      "  pvalue: 0.000000\n",
      "  z: -6.452662\n",
      "\n",
      "t-test:\n",
      "  Stat: 6.954060\n",
      "  pvalue: 0.000000 \n",
      "\n",
      "KOhen's d (ttest): 0.845844\n",
      "\n",
      "KOhen's d: 0.837691\n",
      "\n",
      "Effect size r: -0.389110\n",
      "\n"
     ]
    },
    {
     "data": {
      "image/png": "[encoded data removed]",
      "text/plain": [
       "<matplotlib.figure.Figure at 0x7f4730cb3a50>"
      ]
     },
     "metadata": {},
     "output_type": "display_data"
    }
   ],
   "source": [
    "mw_ttest_lin_relig('PAR')"
   ]
  },
  {
   "cell_type": "code",
   "execution_count": 811,
   "metadata": {},
   "outputs": [
    {
     "name": "stdout",
     "output_type": "stream",
     "text": [
      "Verici\n",
      "\n",
      "--------------\n",
      "Min: 0.000000\n",
      "Max: 24.000000\n"
     ]
    },
    {
     "data": {
      "image/png": "[encoded data removed]",
      "text/plain": [
       "<matplotlib.figure.Figure at 0x7f46fba9a610>"
      ]
     },
     "metadata": {},
     "output_type": "display_data"
    },
    {
     "name": "stdout",
     "output_type": "stream",
     "text": [
      "Shapiro:\n",
      "  W: 0.980001\n",
      "  p-value: 0.026910\n",
      "\n",
      "Kolmogorov:\n",
      "  Statistics: 0.076777\n",
      "  p-value: 0.320452\n",
      "--------------\n",
      "\n",
      "Neverici\n",
      "\n",
      "--------------\n",
      "Min: 0.000000\n",
      "Max: 17.000000\n"
     ]
    },
    {
     "data": {
      "image/png": "[encoded data removed]",
      "text/plain": [
       "<matplotlib.figure.Figure at 0x7f46fbc96090>"
      ]
     },
     "metadata": {},
     "output_type": "display_data"
    },
    {
     "name": "stdout",
     "output_type": "stream",
     "text": [
      "Shapiro:\n",
      "  W: 0.865890\n",
      "  p-value: 0.000000\n",
      "\n",
      "Kolmogorov:\n",
      "  Statistics: 0.180301\n",
      "  p-value: 0.000534\n",
      "--------------\n",
      "\n",
      "Mann-Whitney:\n",
      "  Stat: 1579.000000\n",
      "  pvalue: 0.000000\n",
      "  z: -11.859976\n",
      "\n",
      "t-test:\n",
      "  Stat: 16.531195\n",
      "  pvalue: 0.000000 \n",
      "\n",
      "KOhen's d (ttest): 2.010742\n",
      "\n",
      "KOhen's d: 2.027229\n",
      "\n",
      "Effect size r: -0.715183\n",
      "\n"
     ]
    },
    {
     "data": {
      "image/png": "[encoded data removed]",
      "text/plain": [
       "<matplotlib.figure.Figure at 0x7f46fbddcd10>"
      ]
     },
     "metadata": {},
     "output_type": "display_data"
    }
   ],
   "source": [
    "mw_ttest_lin_relig('REL')"
   ]
  },
  {
   "cell_type": "code",
   "execution_count": 812,
   "metadata": {},
   "outputs": [
    {
     "name": "stdout",
     "output_type": "stream",
     "text": [
      "Verici\n",
      "\n",
      "--------------\n",
      "Min: 17.000000\n",
      "Max: 108.000000\n"
     ]
    },
    {
     "data": {
      "image/png": "[encoded data removed]",
      "text/plain": [
       "<matplotlib.figure.Figure at 0x7f46fbca7cd0>"
      ]
     },
     "metadata": {},
     "output_type": "display_data"
    },
    {
     "name": "stdout",
     "output_type": "stream",
     "text": [
      "Shapiro:\n",
      "  W: 0.981334\n",
      "  p-value: 0.038210\n",
      "\n",
      "Kolmogorov:\n",
      "  Statistics: 0.068301\n",
      "  p-value: 0.467360\n",
      "--------------\n",
      "\n",
      "Neverici\n",
      "\n",
      "--------------\n",
      "Min: 7.000000\n",
      "Max: 104.000000\n"
     ]
    },
    {
     "data": {
      "image/png": "[encoded data removed]",
      "text/plain": [
       "<matplotlib.figure.Figure at 0x7f46fb7e2390>"
      ]
     },
     "metadata": {},
     "output_type": "display_data"
    },
    {
     "name": "stdout",
     "output_type": "stream",
     "text": [
      "Shapiro:\n",
      "  W: 0.976261\n",
      "  p-value: 0.027664\n",
      "\n",
      "Kolmogorov:\n",
      "  Statistics: 0.075620\n",
      "  p-value: 0.460822\n",
      "--------------\n",
      "\n",
      "Mann-Whitney:\n",
      "  Stat: 2794.500000\n",
      "  pvalue: 0.000000\n",
      "  z: -10.007759\n",
      "\n",
      "t-test:\n",
      "  Stat: 12.263189\n",
      "  pvalue: 0.000000 \n",
      "\n",
      "KOhen's d (ttest): 1.491611\n",
      "\n",
      "KOhen's d: 1.481965\n",
      "\n",
      "Effect size r: -0.603491\n",
      "\n"
     ]
    },
    {
     "data": {
      "image/png": "[encoded data removed]",
      "text/plain": [
       "<matplotlib.figure.Figure at 0x7f46fb7e2bd0>"
      ]
     },
     "metadata": {},
     "output_type": "display_data"
    }
   ],
   "source": [
    "mw_ttest_lin_relig('CELKEM')"
   ]
  },
  {
   "cell_type": "code",
   "execution_count": 813,
   "metadata": {},
   "outputs": [
    {
     "name": "stdout",
     "output_type": "stream",
     "text": [
      "Pearson:\n",
      "  PCC: -0.168403\n",
      "  p-value: 0.005111\n",
      "\n",
      "Spearman:\n",
      "  Corr: -0.18339311450075713\n",
      "  pvalue: 0.002263\n",
      "\n",
      "Slope: -1.426880\n",
      "  Intercept: 63.796090\n",
      "  rvalue: -0.168403\n",
      "  pvalue: 0.005111\n",
      "  stderr: 0.505487\n",
      "\n"
     ]
    },
    {
     "data": {
      "image/png": "[encoded data removed]",
      "text/plain": [
       "<matplotlib.figure.Figure at 0x7f46fb4c5ed0>"
      ]
     },
     "metadata": {},
     "output_type": "display_data"
    }
   ],
   "source": [
    "pearson_sperman_lin_plot('FD', u'součet')"
   ]
  },
  {
   "cell_type": "code",
   "execution_count": 814,
   "metadata": {},
   "outputs": [
    {
     "name": "stdout",
     "output_type": "stream",
     "text": [
      "Pearson:\n",
      "  PCC: -0.073481\n",
      "  p-value: 0.224505\n",
      "\n",
      "Spearman:\n",
      "  Corr: -0.08878064929399158\n",
      "  pvalue: 0.141981\n",
      "\n",
      "Slope: -0.534788\n",
      "  Intercept: 60.626308\n",
      "  rvalue: -0.073481\n",
      "  pvalue: 0.224505\n",
      "  stderr: 0.439289\n",
      "\n"
     ]
    },
    {
     "data": {
      "image/png": "[encoded data removed]",
      "text/plain": [
       "<matplotlib.figure.Figure at 0x7f46fb772fd0>"
      ]
     },
     "metadata": {},
     "output_type": "display_data"
    }
   ],
   "source": [
    "pearson_sperman_lin_plot('DA', u'součet')"
   ]
  },
  {
   "cell_type": "code",
   "execution_count": 815,
   "metadata": {},
   "outputs": [
    {
     "name": "stdout",
     "output_type": "stream",
     "text": [
      "Pearson:\n",
      "  PCC: 0.120149\n",
      "  p-value: 0.046527\n",
      "\n",
      "Spearman:\n",
      "  Corr: 0.10548390649464826\n",
      "  pvalue: 0.080783\n",
      "\n",
      "Slope: 1.524292\n",
      "  Intercept: 49.891841\n",
      "  rvalue: 0.120149\n",
      "  pvalue: 0.046527\n",
      "  stderr: 0.762271\n",
      "\n"
     ]
    },
    {
     "data": {
      "image/png": "[encoded data removed]",
      "text/plain": [
       "<matplotlib.figure.Figure at 0x7f46fbddc750>"
      ]
     },
     "metadata": {},
     "output_type": "display_data"
    }
   ],
   "source": [
    "pearson_sperman_lin_plot('NA', u'součet')"
   ]
  },
  {
   "cell_type": "code",
   "execution_count": 816,
   "metadata": {},
   "outputs": [
    {
     "name": "stdout",
     "output_type": "stream",
     "text": [
      "Pearson:\n",
      "  PCC: -0.005926\n",
      "  p-value: 0.922075\n",
      "\n",
      "Spearman:\n",
      "  Corr: -0.0069821983362145955\n",
      "  pvalue: 0.908239\n",
      "\n",
      "Slope: -0.047724\n",
      "  Intercept: 59.030885\n",
      "  rvalue: -0.005926\n",
      "  pvalue: 0.922075\n",
      "  stderr: 0.487426\n",
      "\n"
     ]
    },
    {
     "data": {
      "image/png": "[encoded data removed]",
      "text/plain": [
       "<matplotlib.figure.Figure at 0x7f46fbfc5ad0>"
      ]
     },
     "metadata": {},
     "output_type": "display_data"
    }
   ],
   "source": [
    "pearson_sperman_lin_plot('AA', u'součet')"
   ]
  },
  {
   "cell_type": "code",
   "execution_count": 817,
   "metadata": {},
   "outputs": [
    {
     "name": "stdout",
     "output_type": "stream",
     "text": [
      "Pearson:\n",
      "  PCC: -0.302892\n",
      "  p-value: 0.000000\n",
      "\n",
      "Spearman:\n",
      "  Corr: -0.3112852763394337\n",
      "  pvalue: 0.000000\n",
      "\n",
      "Slope: -2.299171\n",
      "  Intercept: 66.621060\n",
      "  rvalue: -0.302892\n",
      "  pvalue: 0.000000\n",
      "  stderr: 0.437831\n",
      "\n"
     ]
    },
    {
     "data": {
      "image/png": "[encoded data removed]",
      "text/plain": [
       "<matplotlib.figure.Figure at 0x7f46fbc9b250>"
      ]
     },
     "metadata": {},
     "output_type": "display_data"
    }
   ],
   "source": [
    "pearson_sperman_lin_plot('EA', u'součet')"
   ]
  },
  {
   "cell_type": "code",
   "execution_count": 818,
   "metadata": {},
   "outputs": [
    {
     "name": "stdout",
     "output_type": "stream",
     "text": [
      "Pearson:\n",
      "  PCC: 0.148985\n",
      "  p-value: 0.013391\n",
      "\n",
      "Spearman:\n",
      "  Corr: 0.15603212909035497\n",
      "  pvalue: 0.009553\n",
      "\n",
      "Slope: 0.262236\n",
      "  Intercept: 55.463844\n",
      "  rvalue: 0.148985\n",
      "  pvalue: 0.013391\n",
      "  stderr: 0.105340\n",
      "\n"
     ]
    },
    {
     "data": {
      "image/png": "[encoded data removed]",
      "text/plain": [
       "<matplotlib.figure.Figure at 0x7f46fbcecf90>"
      ]
     },
     "metadata": {},
     "output_type": "display_data"
    }
   ],
   "source": [
    "pearson_sperman_lin_plot('COS', u'součet')"
   ]
  },
  {
   "cell_type": "code",
   "execution_count": 819,
   "metadata": {},
   "outputs": [
    {
     "name": "stdout",
     "output_type": "stream",
     "text": [
      "Pearson:\n",
      "  PCC: 0.081512\n",
      "  p-value: 0.177718\n",
      "\n",
      "Spearman:\n",
      "  Corr: 0.0917593429774909\n",
      "  pvalue: 0.129032\n",
      "\n",
      "Slope: 0.153031\n",
      "  Intercept: 57.477901\n",
      "  rvalue: 0.081512\n",
      "  pvalue: 0.177718\n",
      "  stderr: 0.113247\n",
      "\n"
     ]
    },
    {
     "data": {
      "image/png": "[encoded data removed]",
      "text/plain": [
       "<matplotlib.figure.Figure at 0x7f46fb52e290>"
      ]
     },
     "metadata": {},
     "output_type": "display_data"
    }
   ],
   "source": [
    "pearson_sperman_lin_plot('EPD', u'součet')"
   ]
  },
  {
   "cell_type": "code",
   "execution_count": 820,
   "metadata": {},
   "outputs": [
    {
     "name": "stdout",
     "output_type": "stream",
     "text": [
      "Pearson:\n",
      "  PCC: 0.690523\n",
      "  p-value: 0.000000\n",
      "\n",
      "Spearman:\n",
      "  Corr: 0.670366899923173\n",
      "  pvalue: 0.000000\n",
      "\n",
      "Slope: 1.638240\n",
      "  Intercept: 33.092137\n",
      "  rvalue: 0.690523\n",
      "  pvalue: 0.000000\n",
      "  stderr: 0.103859\n",
      "\n"
     ]
    },
    {
     "data": {
      "image/png": "[encoded data removed]",
      "text/plain": [
       "<matplotlib.figure.Figure at 0x7f46fb6afbd0>"
      ]
     },
     "metadata": {},
     "output_type": "display_data"
    }
   ],
   "source": [
    "pearson_sperman_lin_plot('EWB', u'součet')"
   ]
  },
  {
   "cell_type": "code",
   "execution_count": 821,
   "metadata": {},
   "outputs": [
    {
     "name": "stdout",
     "output_type": "stream",
     "text": [
      "Pearson:\n",
      "  PCC: 0.020069\n",
      "  p-value: 0.740399\n",
      "\n",
      "Spearman:\n",
      "  Corr: 0.008377677044862909\n",
      "  pvalue: 0.890005\n",
      "\n",
      "Slope: 0.040884\n",
      "  Intercept: 58.413418\n",
      "  rvalue: 0.020069\n",
      "  pvalue: 0.740399\n",
      "  stderr: 0.123271\n",
      "\n"
     ]
    },
    {
     "data": {
      "image/png": "[encoded data removed]",
      "text/plain": [
       "<matplotlib.figure.Figure at 0x7f46fb5e7b50>"
      ]
     },
     "metadata": {},
     "output_type": "display_data"
    }
   ],
   "source": [
    "pearson_sperman_lin_plot('PAR', u'součet')"
   ]
  },
  {
   "cell_type": "code",
   "execution_count": 822,
   "metadata": {
    "scrolled": false
   },
   "outputs": [
    {
     "name": "stdout",
     "output_type": "stream",
     "text": [
      "Pearson:\n",
      "  PCC: 0.050277\n",
      "  p-value: 0.406267\n",
      "\n",
      "Spearman:\n",
      "  Corr: 0.057107068663482835\n",
      "  pvalue: 0.345440\n",
      "\n",
      "Slope: 0.091003\n",
      "  Intercept: 57.985867\n",
      "  rvalue: 0.050277\n",
      "  pvalue: 0.406267\n",
      "  stderr: 0.109409\n",
      "\n"
     ]
    },
    {
     "data": {
      "image/png": "[encoded data removed]",
      "text/plain": [
       "<matplotlib.figure.Figure at 0x7f46fb7ead50>"
      ]
     },
     "metadata": {},
     "output_type": "display_data"
    }
   ],
   "source": [
    "pearson_sperman_lin_plot('REL', u'součet')"
   ]
  },
  {
   "cell_type": "code",
   "execution_count": 823,
   "metadata": {},
   "outputs": [
    {
     "name": "stdout",
     "output_type": "stream",
     "text": [
      "Pearson:\n",
      "  PCC: 0.248311\n",
      "  p-value: 0.000031\n",
      "\n",
      "Spearman:\n",
      "  Corr: 0.23031347119273618\n",
      "  pvalue: 0.000116\n",
      "\n",
      "Slope: 0.134995\n",
      "  Intercept: 50.950042\n",
      "  rvalue: 0.248311\n",
      "  pvalue: 0.000031\n",
      "  stderr: 0.031873\n",
      "\n"
     ]
    },
    {
     "data": {
      "image/png": "[encoded data removed]",
      "text/plain": [
       "<matplotlib.figure.Figure at 0x7f46fbcd9810>"
      ]
     },
     "metadata": {},
     "output_type": "display_data"
    }
   ],
   "source": [
    "pearson_sperman_lin_plot('CELKEM', u'součet')"
   ]
  },
  {
   "cell_type": "code",
   "execution_count": 824,
   "metadata": {},
   "outputs": [],
   "source": [
    "def construct_index(samples, sub_labels):\n",
    "    levels = [samples, sub_labels]\n",
    "    labels = [[], []]\n",
    "    for i, v in enumerate(samples):\n",
    "        for j, w in enumerate(sub_labels):\n",
    "            labels[0].append(i)\n",
    "            labels[1].append(j)\n",
    "            \n",
    "    return levels, labels\n",
    "\n",
    "def generate_table_grouped(samples, sub_levels, group):\n",
    "    results = {\n",
    "        (u'N'): {},\n",
    "        (u'M'): {},\n",
    "        (u'SD'): {},\n",
    "        (u'Min'): {},\n",
    "        (u'Max'): {},\n",
    "        (u'Med'): {},\n",
    "        (u'k'): {},\n",
    "              }\n",
    "    index = [samples]\n",
    "\n",
    "    for s in samples:\n",
    "        for key, val in sub_levels.iteritems():\n",
    "            results[(u'N')][(s, key)] = data.groupby(group)[s].count()[val]\n",
    "            results[(u'M')][(s, key)] = data.groupby(group)[s].mean()[val]\n",
    "            results[(u'SD')][(s, key)] = data.groupby(group)[s].std()[val]\n",
    "            results[(u'Min')][(s, key)] = data.groupby(group)[s].min()[val]\n",
    "            results[(u'Max')][(s, key)] = data.groupby(group)[s].max()[val]\n",
    "            results[(u'Med')][(s, key)] = data.groupby(group)[s].median()[val]\n",
    "            results[(u'k')][(s, key)] = data.groupby(group)[s].std()[val]/data.groupby(group)[s].mean()[val]\n",
    "        \n",
    "    pd.options.display.float_format = '{:.2f}'.format\n",
    "    \n",
    "    levels, labels = construct_index(samples, sub_levels.keys())\n",
    "    return pd.DataFrame(results, columns=['N', 'M', 'Med', 'Min', 'Max', 'SD', 'k'], index=pd.MultiIndex(levels, labels))"
   ]
  },
  {
   "cell_type": "code",
   "execution_count": 825,
   "metadata": {},
   "outputs": [],
   "source": [
    "def generate_table_all(samples):\n",
    "    results = {\n",
    "        (u'N'): {},\n",
    "        (u'M'): {},        \n",
    "        (u'SD'): {},\n",
    "        (u'Med'): {},\n",
    "        (u'Min'): {},\n",
    "        (u'Max'): {},\n",
    "        (u'k'): {}\n",
    "              }\n",
    "\n",
    "    for s in samples:\n",
    "        results[(u'N')][s] = data[s].count()\n",
    "        results[(u'M')][s] = data[s].mean()\n",
    "        results[(u'SD')][s] = data[s].std()\n",
    "        results[(u'Min')][s] = data[s].min()\n",
    "        results[(u'Max')][s] = data[s].max()\n",
    "        results[(u'Med')][s] = data[s].median()\n",
    "        results[(u'k')][s] = data[s].std()/data[s].mean()\n",
    "        \n",
    "    pd.options.display.float_format = '{:.2f}'.format\n",
    "    res_disp = pd.DataFrame(results, columns=['N', 'M', 'Med', 'Min', 'Max', 'SD', 'k'], index=samples)\n",
    "    return res_disp"
   ]
  },
  {
   "cell_type": "code",
   "execution_count": 826,
   "metadata": {},
   "outputs": [],
   "source": [
    "from collections import OrderedDict\n",
    "from IPython.core.display import display, HTML\n",
    "def generate_table_mw(mw_results, samples):\n",
    "    results = OrderedDict()\n",
    "    results['U'] = {}\n",
    "    results['z'] = {}\n",
    "    results['p'] = {}\n",
    "    results['r'] = {}\n",
    "    \n",
    "    for s in samples:\n",
    "        for k, v in results.items():\n",
    "            results[k][s] = mw_results[s][k]\n",
    "\n",
    "    pd.options.display.float_format = '{:.2f}'.format\n",
    "    res_disp = pd.DataFrame(results, columns=results.keys(), index=samples)\n",
    "    output = res_disp.to_html(formatters={\n",
    "        'p': '{:,.3f}'.format,\n",
    "    })\n",
    "    display(HTML(output))"
   ]
  },
  {
   "cell_type": "code",
   "execution_count": 827,
   "metadata": {},
   "outputs": [],
   "source": [
    "def generate_table_pearson_soucet(pearson_results, samples, b_name):\n",
    "    results = OrderedDict()\n",
    "    keys = ['r_s', 'p_s', 'r', 'p_p']\n",
    "\n",
    "    for s in samples:\n",
    "        for k in keys:\n",
    "            if not results.get(s):\n",
    "                results[s] = {}\n",
    "            if k.startswith('p'):\n",
    "                results[s][k] = '{:,.3f}'.format(pearson_results[(s, b_name)][k])\n",
    "            else:\n",
    "                results[s][k] = pearson_results[(s, b_name)][k]\n",
    "\n",
    "    pd.options.display.float_format = '{:.2f}'.format\n",
    "    res_disp = pd.DataFrame(results, columns=samples, index=keys)\n",
    "    output = res_disp.to_html(formatters={\n",
    "        'p': '{:,.3f}'.format,\n",
    "    })\n",
    "    display(HTML(output))"
   ]
  },
  {
   "cell_type": "code",
   "execution_count": 828,
   "metadata": {},
   "outputs": [
    {
     "data": {
      "text/html": [
       "<div>\n",
       "<style scoped>\n",
       "    .dataframe tbody tr th:only-of-type {\n",
       "        vertical-align: middle;\n",
       "    }\n",
       "\n",
       "    .dataframe tbody tr th {\n",
       "        vertical-align: top;\n",
       "    }\n",
       "\n",
       "    .dataframe thead th {\n",
       "        text-align: right;\n",
       "    }\n",
       "</style>\n",
       "<table border=\"1\" class=\"dataframe\">\n",
       "  <thead>\n",
       "    <tr style=\"text-align: right;\">\n",
       "      <th></th>\n",
       "      <th></th>\n",
       "      <th>N</th>\n",
       "      <th>M</th>\n",
       "      <th>Med</th>\n",
       "      <th>Min</th>\n",
       "      <th>Max</th>\n",
       "      <th>SD</th>\n",
       "      <th>k</th>\n",
       "    </tr>\n",
       "  </thead>\n",
       "  <tbody>\n",
       "    <tr>\n",
       "      <th rowspan=\"2\" valign=\"top\">FD</th>\n",
       "      <th>Muži</th>\n",
       "      <td>93</td>\n",
       "      <td>3.10</td>\n",
       "      <td>2.86</td>\n",
       "      <td>1.00</td>\n",
       "      <td>7.00</td>\n",
       "      <td>1.55</td>\n",
       "      <td>0.50</td>\n",
       "    </tr>\n",
       "    <tr>\n",
       "      <th>Ženy</th>\n",
       "      <td>182</td>\n",
       "      <td>3.63</td>\n",
       "      <td>3.43</td>\n",
       "      <td>1.00</td>\n",
       "      <td>7.00</td>\n",
       "      <td>1.47</td>\n",
       "      <td>0.40</td>\n",
       "    </tr>\n",
       "    <tr>\n",
       "      <th rowspan=\"2\" valign=\"top\">DA</th>\n",
       "      <th>Muži</th>\n",
       "      <td>93</td>\n",
       "      <td>3.09</td>\n",
       "      <td>2.80</td>\n",
       "      <td>1.00</td>\n",
       "      <td>7.00</td>\n",
       "      <td>1.79</td>\n",
       "      <td>0.58</td>\n",
       "    </tr>\n",
       "    <tr>\n",
       "      <th>Ženy</th>\n",
       "      <td>182</td>\n",
       "      <td>3.39</td>\n",
       "      <td>3.20</td>\n",
       "      <td>1.00</td>\n",
       "      <td>7.00</td>\n",
       "      <td>1.75</td>\n",
       "      <td>0.52</td>\n",
       "    </tr>\n",
       "    <tr>\n",
       "      <th rowspan=\"2\" valign=\"top\">NA</th>\n",
       "      <th>Muži</th>\n",
       "      <td>93</td>\n",
       "      <td>6.06</td>\n",
       "      <td>6.40</td>\n",
       "      <td>2.20</td>\n",
       "      <td>7.00</td>\n",
       "      <td>1.13</td>\n",
       "      <td>0.19</td>\n",
       "    </tr>\n",
       "    <tr>\n",
       "      <th>Ženy</th>\n",
       "      <td>182</td>\n",
       "      <td>5.80</td>\n",
       "      <td>6.00</td>\n",
       "      <td>1.20</td>\n",
       "      <td>7.00</td>\n",
       "      <td>0.94</td>\n",
       "      <td>0.16</td>\n",
       "    </tr>\n",
       "    <tr>\n",
       "      <th rowspan=\"2\" valign=\"top\">AA</th>\n",
       "      <th>Muži</th>\n",
       "      <td>93</td>\n",
       "      <td>3.01</td>\n",
       "      <td>2.70</td>\n",
       "      <td>1.00</td>\n",
       "      <td>7.00</td>\n",
       "      <td>1.75</td>\n",
       "      <td>0.58</td>\n",
       "    </tr>\n",
       "    <tr>\n",
       "      <th>Ženy</th>\n",
       "      <td>182</td>\n",
       "      <td>3.58</td>\n",
       "      <td>3.70</td>\n",
       "      <td>1.00</td>\n",
       "      <td>6.80</td>\n",
       "      <td>1.48</td>\n",
       "      <td>0.41</td>\n",
       "    </tr>\n",
       "    <tr>\n",
       "      <th rowspan=\"2\" valign=\"top\">EA</th>\n",
       "      <th>Muži</th>\n",
       "      <td>93</td>\n",
       "      <td>3.30</td>\n",
       "      <td>3.20</td>\n",
       "      <td>1.00</td>\n",
       "      <td>7.00</td>\n",
       "      <td>1.87</td>\n",
       "      <td>0.57</td>\n",
       "    </tr>\n",
       "    <tr>\n",
       "      <th>Ženy</th>\n",
       "      <td>182</td>\n",
       "      <td>3.41</td>\n",
       "      <td>3.40</td>\n",
       "      <td>1.00</td>\n",
       "      <td>7.00</td>\n",
       "      <td>1.60</td>\n",
       "      <td>0.47</td>\n",
       "    </tr>\n",
       "  </tbody>\n",
       "</table>\n",
       "</div>"
      ],
      "text/plain": [
       "           N    M  Med  Min  Max   SD    k\n",
       "FD Muži   93 3.10 2.86 1.00 7.00 1.55 0.50\n",
       "   Ženy  182 3.63 3.43 1.00 7.00 1.47 0.40\n",
       "DA Muži   93 3.09 2.80 1.00 7.00 1.79 0.58\n",
       "   Ženy  182 3.39 3.20 1.00 7.00 1.75 0.52\n",
       "NA Muži   93 6.06 6.40 2.20 7.00 1.13 0.19\n",
       "   Ženy  182 5.80 6.00 1.20 7.00 0.94 0.16\n",
       "AA Muži   93 3.01 2.70 1.00 7.00 1.75 0.58\n",
       "   Ženy  182 3.58 3.70 1.00 6.80 1.48 0.41\n",
       "EA Muži   93 3.30 3.20 1.00 7.00 1.87 0.57\n",
       "   Ženy  182 3.41 3.40 1.00 7.00 1.60 0.47"
      ]
     },
     "execution_count": 828,
     "metadata": {},
     "output_type": "execute_result"
    }
   ],
   "source": [
    "generate_table_grouped([ 'FD', 'DA', 'NA', 'AA', 'EA'], {u'Muži': u'Muž', u'Ženy': u'Žena'}, u'Pohlaví:')"
   ]
  },
  {
   "cell_type": "code",
   "execution_count": 829,
   "metadata": {
    "scrolled": true
   },
   "outputs": [
    {
     "data": {
      "text/html": [
       "<div>\n",
       "<style scoped>\n",
       "    .dataframe tbody tr th:only-of-type {\n",
       "        vertical-align: middle;\n",
       "    }\n",
       "\n",
       "    .dataframe tbody tr th {\n",
       "        vertical-align: top;\n",
       "    }\n",
       "\n",
       "    .dataframe thead th {\n",
       "        text-align: right;\n",
       "    }\n",
       "</style>\n",
       "<table border=\"1\" class=\"dataframe\">\n",
       "  <thead>\n",
       "    <tr style=\"text-align: right;\">\n",
       "      <th></th>\n",
       "      <th></th>\n",
       "      <th>N</th>\n",
       "      <th>M</th>\n",
       "      <th>Med</th>\n",
       "      <th>Min</th>\n",
       "      <th>Max</th>\n",
       "      <th>SD</th>\n",
       "      <th>k</th>\n",
       "    </tr>\n",
       "  </thead>\n",
       "  <tbody>\n",
       "    <tr>\n",
       "      <th rowspan=\"2\" valign=\"top\">FD</th>\n",
       "      <th>Nevěřící</th>\n",
       "      <td>124</td>\n",
       "      <td>3.63</td>\n",
       "      <td>3.43</td>\n",
       "      <td>1.00</td>\n",
       "      <td>7.00</td>\n",
       "      <td>1.47</td>\n",
       "      <td>0.40</td>\n",
       "    </tr>\n",
       "    <tr>\n",
       "      <th>Věřící</th>\n",
       "      <td>151</td>\n",
       "      <td>3.31</td>\n",
       "      <td>3.14</td>\n",
       "      <td>1.00</td>\n",
       "      <td>7.00</td>\n",
       "      <td>1.54</td>\n",
       "      <td>0.47</td>\n",
       "    </tr>\n",
       "    <tr>\n",
       "      <th rowspan=\"2\" valign=\"top\">DA</th>\n",
       "      <th>Nevěřící</th>\n",
       "      <td>124</td>\n",
       "      <td>3.55</td>\n",
       "      <td>3.20</td>\n",
       "      <td>1.00</td>\n",
       "      <td>7.00</td>\n",
       "      <td>1.73</td>\n",
       "      <td>0.49</td>\n",
       "    </tr>\n",
       "    <tr>\n",
       "      <th>Věřící</th>\n",
       "      <td>151</td>\n",
       "      <td>3.07</td>\n",
       "      <td>2.80</td>\n",
       "      <td>1.00</td>\n",
       "      <td>7.00</td>\n",
       "      <td>1.77</td>\n",
       "      <td>0.58</td>\n",
       "    </tr>\n",
       "    <tr>\n",
       "      <th rowspan=\"2\" valign=\"top\">NA</th>\n",
       "      <th>Nevěřící</th>\n",
       "      <td>124</td>\n",
       "      <td>5.77</td>\n",
       "      <td>6.00</td>\n",
       "      <td>2.20</td>\n",
       "      <td>7.00</td>\n",
       "      <td>1.05</td>\n",
       "      <td>0.18</td>\n",
       "    </tr>\n",
       "    <tr>\n",
       "      <th>Věřící</th>\n",
       "      <td>151</td>\n",
       "      <td>5.98</td>\n",
       "      <td>6.20</td>\n",
       "      <td>1.20</td>\n",
       "      <td>7.00</td>\n",
       "      <td>0.97</td>\n",
       "      <td>0.16</td>\n",
       "    </tr>\n",
       "    <tr>\n",
       "      <th rowspan=\"2\" valign=\"top\">AA</th>\n",
       "      <th>Nevěřící</th>\n",
       "      <td>124</td>\n",
       "      <td>2.49</td>\n",
       "      <td>2.35</td>\n",
       "      <td>1.00</td>\n",
       "      <td>7.00</td>\n",
       "      <td>1.31</td>\n",
       "      <td>0.53</td>\n",
       "    </tr>\n",
       "    <tr>\n",
       "      <th>Věřící</th>\n",
       "      <td>151</td>\n",
       "      <td>4.13</td>\n",
       "      <td>4.30</td>\n",
       "      <td>1.00</td>\n",
       "      <td>7.00</td>\n",
       "      <td>1.42</td>\n",
       "      <td>0.34</td>\n",
       "    </tr>\n",
       "    <tr>\n",
       "      <th rowspan=\"2\" valign=\"top\">EA</th>\n",
       "      <th>Nevěřící</th>\n",
       "      <td>124</td>\n",
       "      <td>3.31</td>\n",
       "      <td>3.10</td>\n",
       "      <td>1.00</td>\n",
       "      <td>7.00</td>\n",
       "      <td>1.74</td>\n",
       "      <td>0.53</td>\n",
       "    </tr>\n",
       "    <tr>\n",
       "      <th>Věřící</th>\n",
       "      <td>151</td>\n",
       "      <td>3.42</td>\n",
       "      <td>3.60</td>\n",
       "      <td>1.00</td>\n",
       "      <td>7.00</td>\n",
       "      <td>1.65</td>\n",
       "      <td>0.48</td>\n",
       "    </tr>\n",
       "  </tbody>\n",
       "</table>\n",
       "</div>"
      ],
      "text/plain": [
       "               N    M  Med  Min  Max   SD    k\n",
       "FD Nevěřící  124 3.63 3.43 1.00 7.00 1.47 0.40\n",
       "   Věřící    151 3.31 3.14 1.00 7.00 1.54 0.47\n",
       "DA Nevěřící  124 3.55 3.20 1.00 7.00 1.73 0.49\n",
       "   Věřící    151 3.07 2.80 1.00 7.00 1.77 0.58\n",
       "NA Nevěřící  124 5.77 6.00 2.20 7.00 1.05 0.18\n",
       "   Věřící    151 5.98 6.20 1.20 7.00 0.97 0.16\n",
       "AA Nevěřící  124 2.49 2.35 1.00 7.00 1.31 0.53\n",
       "   Věřící    151 4.13 4.30 1.00 7.00 1.42 0.34\n",
       "EA Nevěřící  124 3.31 3.10 1.00 7.00 1.74 0.53\n",
       "   Věřící    151 3.42 3.60 1.00 7.00 1.65 0.48"
      ]
     },
     "execution_count": 829,
     "metadata": {},
     "output_type": "execute_result"
    }
   ],
   "source": [
    "generate_table_grouped(['FD', 'DA', 'NA', 'AA', 'EA'], {u'Věřící': u'Ano', u'Nevěřící': u'Ne'}, u'vira')"
   ]
  },
  {
   "cell_type": "code",
   "execution_count": 830,
   "metadata": {},
   "outputs": [
    {
     "data": {
      "text/html": [
       "<div>\n",
       "<style scoped>\n",
       "    .dataframe tbody tr th:only-of-type {\n",
       "        vertical-align: middle;\n",
       "    }\n",
       "\n",
       "    .dataframe tbody tr th {\n",
       "        vertical-align: top;\n",
       "    }\n",
       "\n",
       "    .dataframe thead th {\n",
       "        text-align: right;\n",
       "    }\n",
       "</style>\n",
       "<table border=\"1\" class=\"dataframe\">\n",
       "  <thead>\n",
       "    <tr style=\"text-align: right;\">\n",
       "      <th></th>\n",
       "      <th></th>\n",
       "      <th>N</th>\n",
       "      <th>M</th>\n",
       "      <th>Med</th>\n",
       "      <th>Min</th>\n",
       "      <th>Max</th>\n",
       "      <th>SD</th>\n",
       "      <th>k</th>\n",
       "    </tr>\n",
       "  </thead>\n",
       "  <tbody>\n",
       "    <tr>\n",
       "      <th rowspan=\"2\" valign=\"top\">CELKEM</th>\n",
       "      <th>Muži</th>\n",
       "      <td>93</td>\n",
       "      <td>55.35</td>\n",
       "      <td>55</td>\n",
       "      <td>12</td>\n",
       "      <td>103</td>\n",
       "      <td>25.16</td>\n",
       "      <td>0.45</td>\n",
       "    </tr>\n",
       "    <tr>\n",
       "      <th>Ženy</th>\n",
       "      <td>182</td>\n",
       "      <td>60.35</td>\n",
       "      <td>62</td>\n",
       "      <td>7</td>\n",
       "      <td>108</td>\n",
       "      <td>22.69</td>\n",
       "      <td>0.38</td>\n",
       "    </tr>\n",
       "    <tr>\n",
       "      <th rowspan=\"2\" valign=\"top\">COS</th>\n",
       "      <th>Muži</th>\n",
       "      <td>93</td>\n",
       "      <td>12.61</td>\n",
       "      <td>13</td>\n",
       "      <td>0</td>\n",
       "      <td>24</td>\n",
       "      <td>8.01</td>\n",
       "      <td>0.63</td>\n",
       "    </tr>\n",
       "    <tr>\n",
       "      <th>Ženy</th>\n",
       "      <td>182</td>\n",
       "      <td>13.18</td>\n",
       "      <td>14</td>\n",
       "      <td>0</td>\n",
       "      <td>24</td>\n",
       "      <td>6.92</td>\n",
       "      <td>0.53</td>\n",
       "    </tr>\n",
       "    <tr>\n",
       "      <th rowspan=\"2\" valign=\"top\">EPD</th>\n",
       "      <th>Muži</th>\n",
       "      <td>93</td>\n",
       "      <td>8.35</td>\n",
       "      <td>7</td>\n",
       "      <td>0</td>\n",
       "      <td>24</td>\n",
       "      <td>7.24</td>\n",
       "      <td>0.87</td>\n",
       "    </tr>\n",
       "    <tr>\n",
       "      <th>Ženy</th>\n",
       "      <td>182</td>\n",
       "      <td>9.47</td>\n",
       "      <td>9</td>\n",
       "      <td>0</td>\n",
       "      <td>24</td>\n",
       "      <td>6.62</td>\n",
       "      <td>0.70</td>\n",
       "    </tr>\n",
       "    <tr>\n",
       "      <th rowspan=\"2\" valign=\"top\">EWB</th>\n",
       "      <th>Muži</th>\n",
       "      <td>93</td>\n",
       "      <td>16.55</td>\n",
       "      <td>18</td>\n",
       "      <td>2</td>\n",
       "      <td>24</td>\n",
       "      <td>5.27</td>\n",
       "      <td>0.32</td>\n",
       "    </tr>\n",
       "    <tr>\n",
       "      <th>Ženy</th>\n",
       "      <td>182</td>\n",
       "      <td>15.32</td>\n",
       "      <td>16</td>\n",
       "      <td>0</td>\n",
       "      <td>24</td>\n",
       "      <td>5.45</td>\n",
       "      <td>0.36</td>\n",
       "    </tr>\n",
       "    <tr>\n",
       "      <th rowspan=\"2\" valign=\"top\">PAR</th>\n",
       "      <th>Muži</th>\n",
       "      <td>93</td>\n",
       "      <td>9.20</td>\n",
       "      <td>8</td>\n",
       "      <td>0</td>\n",
       "      <td>24</td>\n",
       "      <td>6.25</td>\n",
       "      <td>0.68</td>\n",
       "    </tr>\n",
       "    <tr>\n",
       "      <th>Ženy</th>\n",
       "      <td>182</td>\n",
       "      <td>12.14</td>\n",
       "      <td>13</td>\n",
       "      <td>0</td>\n",
       "      <td>23</td>\n",
       "      <td>6.11</td>\n",
       "      <td>0.50</td>\n",
       "    </tr>\n",
       "    <tr>\n",
       "      <th rowspan=\"2\" valign=\"top\">REL</th>\n",
       "      <th>Muži</th>\n",
       "      <td>93</td>\n",
       "      <td>8.63</td>\n",
       "      <td>8</td>\n",
       "      <td>0</td>\n",
       "      <td>24</td>\n",
       "      <td>7.60</td>\n",
       "      <td>0.88</td>\n",
       "    </tr>\n",
       "    <tr>\n",
       "      <th>Ženy</th>\n",
       "      <td>182</td>\n",
       "      <td>10.25</td>\n",
       "      <td>10</td>\n",
       "      <td>0</td>\n",
       "      <td>24</td>\n",
       "      <td>6.78</td>\n",
       "      <td>0.66</td>\n",
       "    </tr>\n",
       "  </tbody>\n",
       "</table>\n",
       "</div>"
      ],
      "text/plain": [
       "               N     M  Med  Min  Max    SD    k\n",
       "CELKEM Muži   93 55.35   55   12  103 25.16 0.45\n",
       "       Ženy  182 60.35   62    7  108 22.69 0.38\n",
       "COS    Muži   93 12.61   13    0   24  8.01 0.63\n",
       "       Ženy  182 13.18   14    0   24  6.92 0.53\n",
       "EPD    Muži   93  8.35    7    0   24  7.24 0.87\n",
       "       Ženy  182  9.47    9    0   24  6.62 0.70\n",
       "EWB    Muži   93 16.55   18    2   24  5.27 0.32\n",
       "       Ženy  182 15.32   16    0   24  5.45 0.36\n",
       "PAR    Muži   93  9.20    8    0   24  6.25 0.68\n",
       "       Ženy  182 12.14   13    0   23  6.11 0.50\n",
       "REL    Muži   93  8.63    8    0   24  7.60 0.88\n",
       "       Ženy  182 10.25   10    0   24  6.78 0.66"
      ]
     },
     "execution_count": 830,
     "metadata": {},
     "output_type": "execute_result"
    }
   ],
   "source": [
    "generate_table_grouped(['CELKEM', 'COS', 'EPD', 'EWB', 'PAR', 'REL'], {u'Muži': u'Muž', u'Ženy': u'Žena'}, u'Pohlaví:')"
   ]
  },
  {
   "cell_type": "code",
   "execution_count": 831,
   "metadata": {},
   "outputs": [
    {
     "data": {
      "text/html": [
       "<div>\n",
       "<style scoped>\n",
       "    .dataframe tbody tr th:only-of-type {\n",
       "        vertical-align: middle;\n",
       "    }\n",
       "\n",
       "    .dataframe tbody tr th {\n",
       "        vertical-align: top;\n",
       "    }\n",
       "\n",
       "    .dataframe thead th {\n",
       "        text-align: right;\n",
       "    }\n",
       "</style>\n",
       "<table border=\"1\" class=\"dataframe\">\n",
       "  <thead>\n",
       "    <tr style=\"text-align: right;\">\n",
       "      <th></th>\n",
       "      <th></th>\n",
       "      <th>N</th>\n",
       "      <th>M</th>\n",
       "      <th>Med</th>\n",
       "      <th>Min</th>\n",
       "      <th>Max</th>\n",
       "      <th>SD</th>\n",
       "      <th>k</th>\n",
       "    </tr>\n",
       "  </thead>\n",
       "  <tbody>\n",
       "    <tr>\n",
       "      <th rowspan=\"2\" valign=\"top\">CELKEM</th>\n",
       "      <th>Nevěřící</th>\n",
       "      <td>124</td>\n",
       "      <td>43.15</td>\n",
       "      <td>41.00</td>\n",
       "      <td>7</td>\n",
       "      <td>104</td>\n",
       "      <td>19.60</td>\n",
       "      <td>0.45</td>\n",
       "    </tr>\n",
       "    <tr>\n",
       "      <th>Věřící</th>\n",
       "      <td>151</td>\n",
       "      <td>71.40</td>\n",
       "      <td>71.00</td>\n",
       "      <td>17</td>\n",
       "      <td>108</td>\n",
       "      <td>18.51</td>\n",
       "      <td>0.26</td>\n",
       "    </tr>\n",
       "    <tr>\n",
       "      <th rowspan=\"2\" valign=\"top\">COS</th>\n",
       "      <th>Nevěřící</th>\n",
       "      <td>124</td>\n",
       "      <td>8.47</td>\n",
       "      <td>8.00</td>\n",
       "      <td>0</td>\n",
       "      <td>24</td>\n",
       "      <td>6.35</td>\n",
       "      <td>0.75</td>\n",
       "    </tr>\n",
       "    <tr>\n",
       "      <th>Věřící</th>\n",
       "      <td>151</td>\n",
       "      <td>16.70</td>\n",
       "      <td>18.00</td>\n",
       "      <td>0</td>\n",
       "      <td>24</td>\n",
       "      <td>5.78</td>\n",
       "      <td>0.35</td>\n",
       "    </tr>\n",
       "    <tr>\n",
       "      <th rowspan=\"2\" valign=\"top\">EPD</th>\n",
       "      <th>Nevěřící</th>\n",
       "      <td>124</td>\n",
       "      <td>6.35</td>\n",
       "      <td>5.00</td>\n",
       "      <td>0</td>\n",
       "      <td>24</td>\n",
       "      <td>6.12</td>\n",
       "      <td>0.96</td>\n",
       "    </tr>\n",
       "    <tr>\n",
       "      <th>Věřící</th>\n",
       "      <td>151</td>\n",
       "      <td>11.34</td>\n",
       "      <td>11.00</td>\n",
       "      <td>0</td>\n",
       "      <td>24</td>\n",
       "      <td>6.60</td>\n",
       "      <td>0.58</td>\n",
       "    </tr>\n",
       "    <tr>\n",
       "      <th rowspan=\"2\" valign=\"top\">EWB</th>\n",
       "      <th>Nevěřící</th>\n",
       "      <td>124</td>\n",
       "      <td>15.70</td>\n",
       "      <td>17.00</td>\n",
       "      <td>0</td>\n",
       "      <td>24</td>\n",
       "      <td>5.41</td>\n",
       "      <td>0.34</td>\n",
       "    </tr>\n",
       "    <tr>\n",
       "      <th>Věřící</th>\n",
       "      <td>151</td>\n",
       "      <td>15.76</td>\n",
       "      <td>16.00</td>\n",
       "      <td>0</td>\n",
       "      <td>24</td>\n",
       "      <td>5.43</td>\n",
       "      <td>0.34</td>\n",
       "    </tr>\n",
       "    <tr>\n",
       "      <th rowspan=\"2\" valign=\"top\">PAR</th>\n",
       "      <th>Nevěřící</th>\n",
       "      <td>124</td>\n",
       "      <td>8.45</td>\n",
       "      <td>7.50</td>\n",
       "      <td>0</td>\n",
       "      <td>23</td>\n",
       "      <td>6.20</td>\n",
       "      <td>0.73</td>\n",
       "    </tr>\n",
       "    <tr>\n",
       "      <th>Věřící</th>\n",
       "      <td>151</td>\n",
       "      <td>13.36</td>\n",
       "      <td>14.00</td>\n",
       "      <td>0</td>\n",
       "      <td>24</td>\n",
       "      <td>5.49</td>\n",
       "      <td>0.41</td>\n",
       "    </tr>\n",
       "    <tr>\n",
       "      <th rowspan=\"2\" valign=\"top\">REL</th>\n",
       "      <th>Nevěřící</th>\n",
       "      <td>124</td>\n",
       "      <td>4.18</td>\n",
       "      <td>3.00</td>\n",
       "      <td>0</td>\n",
       "      <td>17</td>\n",
       "      <td>4.32</td>\n",
       "      <td>1.04</td>\n",
       "    </tr>\n",
       "    <tr>\n",
       "      <th>Věřící</th>\n",
       "      <td>151</td>\n",
       "      <td>14.25</td>\n",
       "      <td>14.00</td>\n",
       "      <td>0</td>\n",
       "      <td>24</td>\n",
       "      <td>5.53</td>\n",
       "      <td>0.39</td>\n",
       "    </tr>\n",
       "  </tbody>\n",
       "</table>\n",
       "</div>"
      ],
      "text/plain": [
       "                   N     M   Med  Min  Max    SD    k\n",
       "CELKEM Nevěřící  124 43.15 41.00    7  104 19.60 0.45\n",
       "       Věřící    151 71.40 71.00   17  108 18.51 0.26\n",
       "COS    Nevěřící  124  8.47  8.00    0   24  6.35 0.75\n",
       "       Věřící    151 16.70 18.00    0   24  5.78 0.35\n",
       "EPD    Nevěřící  124  6.35  5.00    0   24  6.12 0.96\n",
       "       Věřící    151 11.34 11.00    0   24  6.60 0.58\n",
       "EWB    Nevěřící  124 15.70 17.00    0   24  5.41 0.34\n",
       "       Věřící    151 15.76 16.00    0   24  5.43 0.34\n",
       "PAR    Nevěřící  124  8.45  7.50    0   23  6.20 0.73\n",
       "       Věřící    151 13.36 14.00    0   24  5.49 0.41\n",
       "REL    Nevěřící  124  4.18  3.00    0   17  4.32 1.04\n",
       "       Věřící    151 14.25 14.00    0   24  5.53 0.39"
      ]
     },
     "execution_count": 831,
     "metadata": {},
     "output_type": "execute_result"
    }
   ],
   "source": [
    "generate_table_grouped(['CELKEM', 'COS', 'EPD', 'EWB', 'PAR', 'REL'], {u'Věřící': u'Ano', u'Nevěřící': u'Ne'}, u'vira')"
   ]
  },
  {
   "cell_type": "code",
   "execution_count": 832,
   "metadata": {},
   "outputs": [
    {
     "data": {
      "text/html": [
       "<div>\n",
       "<style scoped>\n",
       "    .dataframe tbody tr th:only-of-type {\n",
       "        vertical-align: middle;\n",
       "    }\n",
       "\n",
       "    .dataframe tbody tr th {\n",
       "        vertical-align: top;\n",
       "    }\n",
       "\n",
       "    .dataframe thead th {\n",
       "        text-align: right;\n",
       "    }\n",
       "</style>\n",
       "<table border=\"1\" class=\"dataframe\">\n",
       "  <thead>\n",
       "    <tr style=\"text-align: right;\">\n",
       "      <th></th>\n",
       "      <th></th>\n",
       "      <th>N</th>\n",
       "      <th>M</th>\n",
       "      <th>Med</th>\n",
       "      <th>Min</th>\n",
       "      <th>Max</th>\n",
       "      <th>SD</th>\n",
       "      <th>k</th>\n",
       "    </tr>\n",
       "  </thead>\n",
       "  <tbody>\n",
       "    <tr>\n",
       "      <th rowspan=\"2\" valign=\"top\">součet</th>\n",
       "      <th>Muži</th>\n",
       "      <td>93</td>\n",
       "      <td>61.67</td>\n",
       "      <td>62</td>\n",
       "      <td>37</td>\n",
       "      <td>89</td>\n",
       "      <td>11.17</td>\n",
       "      <td>0.18</td>\n",
       "    </tr>\n",
       "    <tr>\n",
       "      <th>Ženy</th>\n",
       "      <td>182</td>\n",
       "      <td>57.44</td>\n",
       "      <td>59</td>\n",
       "      <td>20</td>\n",
       "      <td>89</td>\n",
       "      <td>13.42</td>\n",
       "      <td>0.23</td>\n",
       "    </tr>\n",
       "  </tbody>\n",
       "</table>\n",
       "</div>"
      ],
      "text/plain": [
       "               N     M  Med  Min  Max    SD    k\n",
       "součet Muži   93 61.67   62   37   89 11.17 0.18\n",
       "       Ženy  182 57.44   59   20   89 13.42 0.23"
      ]
     },
     "execution_count": 832,
     "metadata": {},
     "output_type": "execute_result"
    }
   ],
   "source": [
    "generate_table_grouped([u'součet'], {u'Muži': u'Muž', u'Ženy': u'Žena'}, u'Pohlaví:')"
   ]
  },
  {
   "cell_type": "code",
   "execution_count": 833,
   "metadata": {},
   "outputs": [
    {
     "data": {
      "text/html": [
       "<div>\n",
       "<style scoped>\n",
       "    .dataframe tbody tr th:only-of-type {\n",
       "        vertical-align: middle;\n",
       "    }\n",
       "\n",
       "    .dataframe tbody tr th {\n",
       "        vertical-align: top;\n",
       "    }\n",
       "\n",
       "    .dataframe thead th {\n",
       "        text-align: right;\n",
       "    }\n",
       "</style>\n",
       "<table border=\"1\" class=\"dataframe\">\n",
       "  <thead>\n",
       "    <tr style=\"text-align: right;\">\n",
       "      <th></th>\n",
       "      <th></th>\n",
       "      <th>N</th>\n",
       "      <th>M</th>\n",
       "      <th>Med</th>\n",
       "      <th>Min</th>\n",
       "      <th>Max</th>\n",
       "      <th>SD</th>\n",
       "      <th>k</th>\n",
       "    </tr>\n",
       "  </thead>\n",
       "  <tbody>\n",
       "    <tr>\n",
       "      <th rowspan=\"2\" valign=\"top\">součet</th>\n",
       "      <th>Nevěřící</th>\n",
       "      <td>124</td>\n",
       "      <td>57.47</td>\n",
       "      <td>59</td>\n",
       "      <td>24</td>\n",
       "      <td>89</td>\n",
       "      <td>12.42</td>\n",
       "      <td>0.22</td>\n",
       "    </tr>\n",
       "    <tr>\n",
       "      <th>Věřící</th>\n",
       "      <td>151</td>\n",
       "      <td>60.02</td>\n",
       "      <td>61</td>\n",
       "      <td>20</td>\n",
       "      <td>89</td>\n",
       "      <td>13.11</td>\n",
       "      <td>0.22</td>\n",
       "    </tr>\n",
       "  </tbody>\n",
       "</table>\n",
       "</div>"
      ],
      "text/plain": [
       "                   N     M  Med  Min  Max    SD    k\n",
       "součet Nevěřící  124 57.47   59   24   89 12.42 0.22\n",
       "       Věřící    151 60.02   61   20   89 13.11 0.22"
      ]
     },
     "execution_count": 833,
     "metadata": {},
     "output_type": "execute_result"
    }
   ],
   "source": [
    "generate_table_grouped([u'součet'], {u'Věřící': u'Ano', u'Nevěřící': u'Ne'}, u'vira')"
   ]
  },
  {
   "cell_type": "code",
   "execution_count": 834,
   "metadata": {},
   "outputs": [
    {
     "data": {
      "text/html": [
       "<div>\n",
       "<style scoped>\n",
       "    .dataframe tbody tr th:only-of-type {\n",
       "        vertical-align: middle;\n",
       "    }\n",
       "\n",
       "    .dataframe tbody tr th {\n",
       "        vertical-align: top;\n",
       "    }\n",
       "\n",
       "    .dataframe thead th {\n",
       "        text-align: right;\n",
       "    }\n",
       "</style>\n",
       "<table border=\"1\" class=\"dataframe\">\n",
       "  <thead>\n",
       "    <tr style=\"text-align: right;\">\n",
       "      <th></th>\n",
       "      <th>N</th>\n",
       "      <th>M</th>\n",
       "      <th>Med</th>\n",
       "      <th>Min</th>\n",
       "      <th>Max</th>\n",
       "      <th>SD</th>\n",
       "      <th>k</th>\n",
       "    </tr>\n",
       "  </thead>\n",
       "  <tbody>\n",
       "    <tr>\n",
       "      <th>FD</th>\n",
       "      <td>275</td>\n",
       "      <td>3.45</td>\n",
       "      <td>3.29</td>\n",
       "      <td>1.00</td>\n",
       "      <td>7.00</td>\n",
       "      <td>1.52</td>\n",
       "      <td>0.44</td>\n",
       "    </tr>\n",
       "    <tr>\n",
       "      <th>DA</th>\n",
       "      <td>275</td>\n",
       "      <td>3.29</td>\n",
       "      <td>3.00</td>\n",
       "      <td>1.00</td>\n",
       "      <td>7.00</td>\n",
       "      <td>1.76</td>\n",
       "      <td>0.54</td>\n",
       "    </tr>\n",
       "    <tr>\n",
       "      <th>NA</th>\n",
       "      <td>275</td>\n",
       "      <td>5.89</td>\n",
       "      <td>6.00</td>\n",
       "      <td>1.20</td>\n",
       "      <td>7.00</td>\n",
       "      <td>1.01</td>\n",
       "      <td>0.17</td>\n",
       "    </tr>\n",
       "    <tr>\n",
       "      <th>AA</th>\n",
       "      <td>275</td>\n",
       "      <td>3.39</td>\n",
       "      <td>3.40</td>\n",
       "      <td>1.00</td>\n",
       "      <td>7.00</td>\n",
       "      <td>1.59</td>\n",
       "      <td>0.47</td>\n",
       "    </tr>\n",
       "    <tr>\n",
       "      <th>EA</th>\n",
       "      <td>275</td>\n",
       "      <td>3.37</td>\n",
       "      <td>3.40</td>\n",
       "      <td>1.00</td>\n",
       "      <td>7.00</td>\n",
       "      <td>1.69</td>\n",
       "      <td>0.50</td>\n",
       "    </tr>\n",
       "  </tbody>\n",
       "</table>\n",
       "</div>"
      ],
      "text/plain": [
       "      N    M  Med  Min  Max   SD    k\n",
       "FD  275 3.45 3.29 1.00 7.00 1.52 0.44\n",
       "DA  275 3.29 3.00 1.00 7.00 1.76 0.54\n",
       "NA  275 5.89 6.00 1.20 7.00 1.01 0.17\n",
       "AA  275 3.39 3.40 1.00 7.00 1.59 0.47\n",
       "EA  275 3.37 3.40 1.00 7.00 1.69 0.50"
      ]
     },
     "execution_count": 834,
     "metadata": {},
     "output_type": "execute_result"
    }
   ],
   "source": [
    "generate_table_all([ 'FD', 'DA', 'NA', 'AA', 'EA'])"
   ]
  },
  {
   "cell_type": "code",
   "execution_count": 835,
   "metadata": {},
   "outputs": [
    {
     "data": {
      "text/html": [
       "<div>\n",
       "<style scoped>\n",
       "    .dataframe tbody tr th:only-of-type {\n",
       "        vertical-align: middle;\n",
       "    }\n",
       "\n",
       "    .dataframe tbody tr th {\n",
       "        vertical-align: top;\n",
       "    }\n",
       "\n",
       "    .dataframe thead th {\n",
       "        text-align: right;\n",
       "    }\n",
       "</style>\n",
       "<table border=\"1\" class=\"dataframe\">\n",
       "  <thead>\n",
       "    <tr style=\"text-align: right;\">\n",
       "      <th></th>\n",
       "      <th>N</th>\n",
       "      <th>M</th>\n",
       "      <th>Med</th>\n",
       "      <th>Min</th>\n",
       "      <th>Max</th>\n",
       "      <th>SD</th>\n",
       "      <th>k</th>\n",
       "    </tr>\n",
       "  </thead>\n",
       "  <tbody>\n",
       "    <tr>\n",
       "      <th>CELKEM</th>\n",
       "      <td>275</td>\n",
       "      <td>58.66</td>\n",
       "      <td>60.00</td>\n",
       "      <td>7</td>\n",
       "      <td>108</td>\n",
       "      <td>23.62</td>\n",
       "      <td>0.40</td>\n",
       "    </tr>\n",
       "    <tr>\n",
       "      <th>COS</th>\n",
       "      <td>275</td>\n",
       "      <td>12.99</td>\n",
       "      <td>13.00</td>\n",
       "      <td>0</td>\n",
       "      <td>24</td>\n",
       "      <td>7.30</td>\n",
       "      <td>0.56</td>\n",
       "    </tr>\n",
       "    <tr>\n",
       "      <th>EPD</th>\n",
       "      <td>275</td>\n",
       "      <td>9.09</td>\n",
       "      <td>8.00</td>\n",
       "      <td>0</td>\n",
       "      <td>24</td>\n",
       "      <td>6.84</td>\n",
       "      <td>0.75</td>\n",
       "    </tr>\n",
       "    <tr>\n",
       "      <th>EWB</th>\n",
       "      <td>275</td>\n",
       "      <td>15.73</td>\n",
       "      <td>17.00</td>\n",
       "      <td>0</td>\n",
       "      <td>24</td>\n",
       "      <td>5.41</td>\n",
       "      <td>0.34</td>\n",
       "    </tr>\n",
       "    <tr>\n",
       "      <th>PAR</th>\n",
       "      <td>275</td>\n",
       "      <td>11.15</td>\n",
       "      <td>12.00</td>\n",
       "      <td>0</td>\n",
       "      <td>24</td>\n",
       "      <td>6.30</td>\n",
       "      <td>0.57</td>\n",
       "    </tr>\n",
       "    <tr>\n",
       "      <th>REL</th>\n",
       "      <td>275</td>\n",
       "      <td>9.71</td>\n",
       "      <td>9.00</td>\n",
       "      <td>0</td>\n",
       "      <td>24</td>\n",
       "      <td>7.10</td>\n",
       "      <td>0.73</td>\n",
       "    </tr>\n",
       "  </tbody>\n",
       "</table>\n",
       "</div>"
      ],
      "text/plain": [
       "          N     M   Med  Min  Max    SD    k\n",
       "CELKEM  275 58.66 60.00    7  108 23.62 0.40\n",
       "COS     275 12.99 13.00    0   24  7.30 0.56\n",
       "EPD     275  9.09  8.00    0   24  6.84 0.75\n",
       "EWB     275 15.73 17.00    0   24  5.41 0.34\n",
       "PAR     275 11.15 12.00    0   24  6.30 0.57\n",
       "REL     275  9.71  9.00    0   24  7.10 0.73"
      ]
     },
     "execution_count": 835,
     "metadata": {},
     "output_type": "execute_result"
    }
   ],
   "source": [
    "generate_table_all(['CELKEM', 'COS', 'EPD', 'EWB', 'PAR', 'REL'])"
   ]
  },
  {
   "cell_type": "code",
   "execution_count": 836,
   "metadata": {},
   "outputs": [
    {
     "data": {
      "text/html": [
       "<div>\n",
       "<style scoped>\n",
       "    .dataframe tbody tr th:only-of-type {\n",
       "        vertical-align: middle;\n",
       "    }\n",
       "\n",
       "    .dataframe tbody tr th {\n",
       "        vertical-align: top;\n",
       "    }\n",
       "\n",
       "    .dataframe thead th {\n",
       "        text-align: right;\n",
       "    }\n",
       "</style>\n",
       "<table border=\"1\" class=\"dataframe\">\n",
       "  <thead>\n",
       "    <tr style=\"text-align: right;\">\n",
       "      <th></th>\n",
       "      <th>N</th>\n",
       "      <th>M</th>\n",
       "      <th>Med</th>\n",
       "      <th>Min</th>\n",
       "      <th>Max</th>\n",
       "      <th>SD</th>\n",
       "      <th>k</th>\n",
       "    </tr>\n",
       "  </thead>\n",
       "  <tbody>\n",
       "    <tr>\n",
       "      <th>součet</th>\n",
       "      <td>275</td>\n",
       "      <td>58.87</td>\n",
       "      <td>60.00</td>\n",
       "      <td>20</td>\n",
       "      <td>89</td>\n",
       "      <td>12.84</td>\n",
       "      <td>0.22</td>\n",
       "    </tr>\n",
       "  </tbody>\n",
       "</table>\n",
       "</div>"
      ],
      "text/plain": [
       "          N     M   Med  Min  Max    SD    k\n",
       "součet  275 58.87 60.00   20   89 12.84 0.22"
      ]
     },
     "execution_count": 836,
     "metadata": {},
     "output_type": "execute_result"
    }
   ],
   "source": [
    "generate_table_all([u'součet'])"
   ]
  },
  {
   "cell_type": "code",
   "execution_count": 837,
   "metadata": {},
   "outputs": [
    {
     "data": {
      "text/html": [
       "<table border=\"1\" class=\"dataframe\">\n",
       "  <thead>\n",
       "    <tr style=\"text-align: right;\">\n",
       "      <th></th>\n",
       "      <th>U</th>\n",
       "      <th>z</th>\n",
       "      <th>p</th>\n",
       "      <th>r</th>\n",
       "    </tr>\n",
       "  </thead>\n",
       "  <tbody>\n",
       "    <tr>\n",
       "      <th>COS</th>\n",
       "      <td>3270.00</td>\n",
       "      <td>-9.28</td>\n",
       "      <td>0.000</td>\n",
       "      <td>-0.56</td>\n",
       "    </tr>\n",
       "    <tr>\n",
       "      <th>EPD</th>\n",
       "      <td>5319.00</td>\n",
       "      <td>-6.16</td>\n",
       "      <td>0.000</td>\n",
       "      <td>-0.37</td>\n",
       "    </tr>\n",
       "    <tr>\n",
       "      <th>EWB</th>\n",
       "      <td>9302.00</td>\n",
       "      <td>-0.09</td>\n",
       "      <td>0.464</td>\n",
       "      <td>-0.01</td>\n",
       "    </tr>\n",
       "    <tr>\n",
       "      <th>PAR</th>\n",
       "      <td>5127.50</td>\n",
       "      <td>-6.45</td>\n",
       "      <td>0.000</td>\n",
       "      <td>-0.39</td>\n",
       "    </tr>\n",
       "    <tr>\n",
       "      <th>REL</th>\n",
       "      <td>1579.00</td>\n",
       "      <td>-11.86</td>\n",
       "      <td>0.000</td>\n",
       "      <td>-0.72</td>\n",
       "    </tr>\n",
       "    <tr>\n",
       "      <th>CELKEM</th>\n",
       "      <td>2794.50</td>\n",
       "      <td>-10.01</td>\n",
       "      <td>0.000</td>\n",
       "      <td>-0.60</td>\n",
       "    </tr>\n",
       "  </tbody>\n",
       "</table>"
      ],
      "text/plain": [
       "<IPython.core.display.HTML object>"
      ]
     },
     "metadata": {},
     "output_type": "display_data"
    }
   ],
   "source": [
    "generate_table_mw(mw_results, ['COS', 'EPD', 'EWB', 'PAR', 'REL', 'CELKEM'])"
   ]
  },
  {
   "cell_type": "code",
   "execution_count": 838,
   "metadata": {},
   "outputs": [
    {
     "data": {
      "text/html": [
       "<table border=\"1\" class=\"dataframe\">\n",
       "  <thead>\n",
       "    <tr style=\"text-align: right;\">\n",
       "      <th></th>\n",
       "      <th>FD</th>\n",
       "      <th>DA</th>\n",
       "      <th>NA</th>\n",
       "      <th>AA</th>\n",
       "      <th>EA</th>\n",
       "      <th>COS</th>\n",
       "      <th>EPD</th>\n",
       "      <th>EWB</th>\n",
       "      <th>PAR</th>\n",
       "      <th>REL</th>\n",
       "      <th>CELKEM</th>\n",
       "    </tr>\n",
       "  </thead>\n",
       "  <tbody>\n",
       "    <tr>\n",
       "      <th>r_s</th>\n",
       "      <td>-0.18</td>\n",
       "      <td>-0.09</td>\n",
       "      <td>0.11</td>\n",
       "      <td>-0.01</td>\n",
       "      <td>-0.31</td>\n",
       "      <td>0.16</td>\n",
       "      <td>0.09</td>\n",
       "      <td>0.67</td>\n",
       "      <td>0.01</td>\n",
       "      <td>0.06</td>\n",
       "      <td>0.23</td>\n",
       "    </tr>\n",
       "    <tr>\n",
       "      <th>p_s</th>\n",
       "      <td>0.002</td>\n",
       "      <td>0.142</td>\n",
       "      <td>0.081</td>\n",
       "      <td>0.908</td>\n",
       "      <td>0.000</td>\n",
       "      <td>0.010</td>\n",
       "      <td>0.129</td>\n",
       "      <td>0.000</td>\n",
       "      <td>0.890</td>\n",
       "      <td>0.345</td>\n",
       "      <td>0.000</td>\n",
       "    </tr>\n",
       "    <tr>\n",
       "      <th>r</th>\n",
       "      <td>-0.17</td>\n",
       "      <td>-0.07</td>\n",
       "      <td>0.12</td>\n",
       "      <td>-0.01</td>\n",
       "      <td>-0.30</td>\n",
       "      <td>0.15</td>\n",
       "      <td>0.08</td>\n",
       "      <td>0.69</td>\n",
       "      <td>0.02</td>\n",
       "      <td>0.05</td>\n",
       "      <td>0.25</td>\n",
       "    </tr>\n",
       "    <tr>\n",
       "      <th>p_p</th>\n",
       "      <td>0.005</td>\n",
       "      <td>0.225</td>\n",
       "      <td>0.047</td>\n",
       "      <td>0.922</td>\n",
       "      <td>0.000</td>\n",
       "      <td>0.013</td>\n",
       "      <td>0.178</td>\n",
       "      <td>0.000</td>\n",
       "      <td>0.740</td>\n",
       "      <td>0.406</td>\n",
       "      <td>0.000</td>\n",
       "    </tr>\n",
       "  </tbody>\n",
       "</table>"
      ],
      "text/plain": [
       "<IPython.core.display.HTML object>"
      ]
     },
     "metadata": {},
     "output_type": "display_data"
    }
   ],
   "source": [
    "generate_table_pearson_soucet(pearson_results, ['FD', 'DA', 'NA', 'AA', 'EA', 'COS', 'EPD', 'EWB', 'PAR', 'REL', 'CELKEM'], u'součet')"
   ]
  },
  {
   "cell_type": "code",
   "execution_count": null,
   "metadata": {},
   "outputs": [],
   "source": []
  }
 ],
 "metadata": {
  "kernelspec": {
   "display_name": "Python 2",
   "language": "python",
   "name": "python2"
  },
  "language_info": {
   "codemirror_mode": {
    "name": "ipython",
    "version": 2
   },
   "file_extension": ".py",
   "mimetype": "text/x-python",
   "name": "python",
   "nbconvert_exporter": "python",
   "pygments_lexer": "ipython2",
   "version": "2.7.14"
  }
 },
 "nbformat": 4,
 "nbformat_minor": 2
}
