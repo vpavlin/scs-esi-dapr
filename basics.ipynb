{
 "cells": [
  {
   "cell_type": "code",
   "execution_count": 34,
   "metadata": {},
   "outputs": [],
   "source": [
    "# encoding=utf8 \n"
   ]
  },
  {
   "cell_type": "code",
   "execution_count": 184,
   "metadata": {},
   "outputs": [
    {
     "data": {
      "text/html": [
       "<div>\n",
       "<style scoped>\n",
       "    .dataframe tbody tr th:only-of-type {\n",
       "        vertical-align: middle;\n",
       "    }\n",
       "\n",
       "    .dataframe tbody tr th {\n",
       "        vertical-align: top;\n",
       "    }\n",
       "\n",
       "    .dataframe thead th {\n",
       "        text-align: right;\n",
       "    }\n",
       "</style>\n",
       "<table border=\"1\" class=\"dataframe\">\n",
       "  <thead>\n",
       "    <tr style=\"text-align: right;\">\n",
       "      <th></th>\n",
       "      <th>Časová značka</th>\n",
       "      <th>Pohlaví:</th>\n",
       "      <th>Věk:</th>\n",
       "      <th>Nejvyšší dosažené vzdělání:</th>\n",
       "      <th>Jste věřící?</th>\n",
       "      <th>V co věříte?</th>\n",
       "      <th>Unnamed: 6</th>\n",
       "      <th>Unnamed: 7</th>\n",
       "      <th>vira</th>\n",
       "      <th>Pokud se hlásíte k některé církvi, uveďte prosím k jaké:</th>\n",
       "      <th>...</th>\n",
       "      <th>COS</th>\n",
       "      <th>EPD</th>\n",
       "      <th>EWB</th>\n",
       "      <th>PAR</th>\n",
       "      <th>REL</th>\n",
       "      <th>CELKEM</th>\n",
       "      <th>Unnamed: 121</th>\n",
       "      <th>vzdelani</th>\n",
       "      <th>pohlavi</th>\n",
       "      <th>vira_c</th>\n",
       "    </tr>\n",
       "  </thead>\n",
       "  <tbody>\n",
       "    <tr>\n",
       "      <th>0</th>\n",
       "      <td>26.2.2018 13:26:35</td>\n",
       "      <td>Žena</td>\n",
       "      <td>19</td>\n",
       "      <td>ZŠ</td>\n",
       "      <td>Ano</td>\n",
       "      <td>Nejsem věřící tak, že chodím do kostela, ale v...</td>\n",
       "      <td>něco mezi nebem a Zemí</td>\n",
       "      <td>A</td>\n",
       "      <td>Ano</td>\n",
       "      <td>NaN</td>\n",
       "      <td>...</td>\n",
       "      <td>13</td>\n",
       "      <td>14</td>\n",
       "      <td>15</td>\n",
       "      <td>21</td>\n",
       "      <td>10</td>\n",
       "      <td>73</td>\n",
       "      <td>NaN</td>\n",
       "      <td>4</td>\n",
       "      <td>1</td>\n",
       "      <td>1</td>\n",
       "    </tr>\n",
       "    <tr>\n",
       "      <th>1</th>\n",
       "      <td>24.2.2018 20:06:33</td>\n",
       "      <td>Žena</td>\n",
       "      <td>20</td>\n",
       "      <td>ZŠ</td>\n",
       "      <td>Ano</td>\n",
       "      <td>v učení katolické církve</td>\n",
       "      <td>v Boha</td>\n",
       "      <td>B</td>\n",
       "      <td>Ano</td>\n",
       "      <td>římskokatolická církev</td>\n",
       "      <td>...</td>\n",
       "      <td>20</td>\n",
       "      <td>21</td>\n",
       "      <td>14</td>\n",
       "      <td>7</td>\n",
       "      <td>23</td>\n",
       "      <td>85</td>\n",
       "      <td>NaN</td>\n",
       "      <td>4</td>\n",
       "      <td>1</td>\n",
       "      <td>1</td>\n",
       "    </tr>\n",
       "    <tr>\n",
       "      <th>2</th>\n",
       "      <td>22.2.2018 13:29:33</td>\n",
       "      <td>Žena</td>\n",
       "      <td>20</td>\n",
       "      <td>SŠ</td>\n",
       "      <td>Ano</td>\n",
       "      <td>V Boha</td>\n",
       "      <td>v Boha</td>\n",
       "      <td>B</td>\n",
       "      <td>Ano</td>\n",
       "      <td>Katolická</td>\n",
       "      <td>...</td>\n",
       "      <td>15</td>\n",
       "      <td>14</td>\n",
       "      <td>6</td>\n",
       "      <td>8</td>\n",
       "      <td>15</td>\n",
       "      <td>58</td>\n",
       "      <td>NaN</td>\n",
       "      <td>0</td>\n",
       "      <td>1</td>\n",
       "      <td>1</td>\n",
       "    </tr>\n",
       "    <tr>\n",
       "      <th>3</th>\n",
       "      <td>26.2.2018 12:52:27</td>\n",
       "      <td>Muž</td>\n",
       "      <td>21</td>\n",
       "      <td>VŠ - bakalářské</td>\n",
       "      <td>Ano</td>\n",
       "      <td>Boha</td>\n",
       "      <td>v Boha</td>\n",
       "      <td>B</td>\n",
       "      <td>Ano</td>\n",
       "      <td>Krestanstvo</td>\n",
       "      <td>...</td>\n",
       "      <td>18</td>\n",
       "      <td>5</td>\n",
       "      <td>19</td>\n",
       "      <td>6</td>\n",
       "      <td>12</td>\n",
       "      <td>60</td>\n",
       "      <td>robert.kolcun@gmail.com</td>\n",
       "      <td>2</td>\n",
       "      <td>0</td>\n",
       "      <td>1</td>\n",
       "    </tr>\n",
       "    <tr>\n",
       "      <th>4</th>\n",
       "      <td>26.2.2018 15:44:38</td>\n",
       "      <td>Žena</td>\n",
       "      <td>21</td>\n",
       "      <td>SŠ</td>\n",
       "      <td>Ano</td>\n",
       "      <td>v Boha</td>\n",
       "      <td>v Boha</td>\n",
       "      <td>B</td>\n",
       "      <td>Ano</td>\n",
       "      <td>Církev Adventistů sedmého dne</td>\n",
       "      <td>...</td>\n",
       "      <td>20</td>\n",
       "      <td>9</td>\n",
       "      <td>19</td>\n",
       "      <td>14</td>\n",
       "      <td>20</td>\n",
       "      <td>82</td>\n",
       "      <td>NaN</td>\n",
       "      <td>0</td>\n",
       "      <td>1</td>\n",
       "      <td>1</td>\n",
       "    </tr>\n",
       "  </tbody>\n",
       "</table>\n",
       "<p>5 rows × 125 columns</p>\n",
       "</div>"
      ],
      "text/plain": [
       "        Časová značka Pohlaví:  Věk: Nejvyšší dosažené vzdělání: Jste věřící?  \\\n",
       "0  26.2.2018 13:26:35     Žena    19                          ZŠ          Ano   \n",
       "1  24.2.2018 20:06:33     Žena    20                          ZŠ          Ano   \n",
       "2  22.2.2018 13:29:33     Žena    20                          SŠ          Ano   \n",
       "3  26.2.2018 12:52:27      Muž    21             VŠ - bakalářské          Ano   \n",
       "4  26.2.2018 15:44:38     Žena    21                          SŠ          Ano   \n",
       "\n",
       "                                        V co věříte?              Unnamed: 6  \\\n",
       "0  Nejsem věřící tak, že chodím do kostela, ale v...  něco mezi nebem a Zemí   \n",
       "1                           v učení katolické církve                  v Boha   \n",
       "2                                             V Boha                  v Boha   \n",
       "3                                               Boha                  v Boha   \n",
       "4                                             v Boha                  v Boha   \n",
       "\n",
       "  Unnamed: 7 vira Pokud se hlásíte k některé církvi, uveďte prosím k jaké:  \\\n",
       "0          A  Ano                                                NaN         \n",
       "1          B  Ano                             římskokatolická církev         \n",
       "2          B  Ano                                          Katolická         \n",
       "3          B  Ano                                        Krestanstvo         \n",
       "4          B  Ano                      Církev Adventistů sedmého dne         \n",
       "\n",
       "    ...    COS  EPD  EWB  PAR  REL  CELKEM             Unnamed: 121  vzdelani  \\\n",
       "0   ...     13   14   15   21   10      73                      NaN         4   \n",
       "1   ...     20   21   14    7   23      85                      NaN         4   \n",
       "2   ...     15   14    6    8   15      58                      NaN         0   \n",
       "3   ...     18    5   19    6   12      60  robert.kolcun@gmail.com         2   \n",
       "4   ...     20    9   19   14   20      82                      NaN         0   \n",
       "\n",
       "   pohlavi  vira_c  \n",
       "0        1       1  \n",
       "1        1       1  \n",
       "2        1       1  \n",
       "3        0       1  \n",
       "4        1       1  \n",
       "\n",
       "[5 rows x 125 columns]"
      ]
     },
     "execution_count": 184,
     "metadata": {},
     "output_type": "execute_result"
    }
   ],
   "source": [
    "\n",
    "import pandas as pd\n",
    "\n",
    "data = pd.read_csv(\"data-verici.csv\", encoding = 'utf8', decimal=\",\")\n",
    "df1 = pd.Categorical(data[u'Nejvyšší dosažené vzdělání:'])\n",
    "data['vzdelani'] = df1.codes\n",
    "df2 = pd.Categorical(data[u'Pohlaví:'])\n",
    "data['pohlavi'] = df2.codes\n",
    "df2 = pd.Categorical(data[u'vira'], categories=[\"Ne\", \"Ano\"])\n",
    "data['vira_c'] = df2.codes\n",
    "data.head()"
   ]
  },
  {
   "cell_type": "code",
   "execution_count": 36,
   "metadata": {},
   "outputs": [],
   "source": [
    "import matplotlib.pyplot as plt\n",
    "import scipy.stats as stats"
   ]
  },
  {
   "cell_type": "code",
   "execution_count": 346,
   "metadata": {},
   "outputs": [],
   "source": [
    "import numpy as np\n",
    "\n",
    "def histogram(field):\n",
    "    local_data = data[field].astype(float)\n",
    "    loc, scale = stats.norm.fit(local_data)\n",
    "    n = stats.norm(loc=loc, scale=scale)\n",
    "\n",
    "    plt.hist(local_data, bins=30, rwidth=0.5)\n",
    "    plt.show()\n",
    "    \n",
    "    results = {}\n",
    "    shapiro = stats.shapiro(local_data)\n",
    "    print(\"Shapiro:\\n  W: %f\\n  p-value: %f\\n\" % (shapiro[0], shapiro[1]))\n",
    "    results['Shapiro'] = shapiro[0]\n",
    "\n",
    "    ks_results = stats.kstest(local_data, n.cdf)\n",
    "    print(\"Kolmogorov:\\n  Statistics: %f\\n  p-value: %f\" % (ks_results[0], ks_results[1]))\n",
    "    results['Kolmogorov'] = ks_results[0]"
   ]
  },
  {
   "cell_type": "code",
   "execution_count": 601,
   "metadata": {},
   "outputs": [],
   "source": [
    "def pearson_sperman_lin_plot(a_name, b_name):\n",
    "    a = data[a_name]\n",
    "    b = data[b_name]\n",
    "    plt.scatter(x=a, y=b)\n",
    "\n",
    "    pearson = stats.pearsonr(a, b)\n",
    "    print(\"Pearson:\\n  PCC: %f\\n  p-value: %f\\n\" % pearson)\n",
    "\n",
    "    spearman = stats.spearmanr(a, b)\n",
    "    print(\"Spearman:\\n  Corr: %s\\n  pvalue: %f\\n\" % spearman)\n",
    "\n",
    "    slope, intercept, rvalue, pvalue, stderr = stats.linregress(a, b)\n",
    "    print(\"Slope: %f\\n  Intercept: %f\\n  rvalue: %f\\n  pvalue: %f\\n  stderr: %f\\n\" % (slope, intercept, rvalue, pvalue, stderr))\n",
    "\n",
    "    lin_y = [slope * x + intercept for x in a]\n",
    "    plt.plot(a, lin_y, color='red')\n",
    "    plt.show()\n",
    "    "
   ]
  },
  {
   "cell_type": "code",
   "execution_count": 618,
   "metadata": {},
   "outputs": [],
   "source": [
    "def compute_z(u, xa, ya):\n",
    "    m_u = len(xa)*len(ya)/2\n",
    "    sigma_u = np.sqrt(len(xa)*len(ya)*(len(xa)+len(ya)+1)/12)\n",
    "    z = (u - m_u)/sigma_u\n",
    "    return z\n",
    "\n",
    "def mw_ttest_lin_relig(what):\n",
    "    x = df1['vira_c']\n",
    "    y = df1[what]\n",
    "\n",
    "    plt.scatter(x=x, y=y)\n",
    "\n",
    "    slope, intercept, rvalue, pvalue, stderr = stats.linregress(x, y)\n",
    "\n",
    "    ano = df1[df1[u'vira'] == u'Ano']\n",
    "    ne = df1[df1[u'vira'] == u'Ne']\n",
    "\n",
    "    mw = stats.mannwhitneyu(ano[what], ne[what])\n",
    "    xa = ano[what]\n",
    "    ya = ne[what]\n",
    "    z = compute_z(mw[0], xa, ya)\n",
    "    \n",
    "    print(\"Mann-Whitney:\\n  Stat: %f\\n  pvalue: %f\\n  z: %f\\n\" % (mw[0], mw[1], z))\n",
    "\n",
    "    ttest = stats.ttest_ind(ano[what], ne[what])\n",
    "    print(\"t-test:\\n  Stat: %f\\n  pvalue: %f \\n\" % ttest)\n",
    "    # Krizická hodnota t = 2.357 - hypotéza se zamítá\n",
    "\n",
    "    y = [slope * x_val + intercept for x_val in pohlavi]\n",
    "    plt.plot(pohlavi, y, color='red')\n",
    "    plt.xticks([0, 1], [u'Ne', u'Ano'])\n",
    "    plt.show()\n",
    "\n"
   ]
  },
  {
   "cell_type": "code",
   "execution_count": 619,
   "metadata": {},
   "outputs": [],
   "source": [
    "def mw_ttest_lin_sex(what):\n",
    "    pohlavi = df1['pohlavi']\n",
    "    y = df1[what]\n",
    "\n",
    "    plt.scatter(x=pohlavi, y=y)\n",
    "\n",
    "    slope, intercept, rvalue, pvalue, stderr = stats.linregress(pohlavi, y)\n",
    "\n",
    "    muzi = df1[df1[u'Pohlaví:'] == u'Muž']\n",
    "    zeny = df1[df1[u'Pohlaví:'] == u'Žena']\n",
    "\n",
    "    mw = stats.mannwhitneyu(muzi[what], zeny[what])\n",
    "    print(\"Mann-Whitney:\\n  Stat: %f\\n  pvalue: %f\\n  z: %f\\n\" % (mw[0], mw[1], compute_z(mw[0], muzi[what], zeny[what])))\n",
    "\n",
    "    ttest = stats.ttest_ind(muzi[what], zeny[what])\n",
    "    print(\"t-test:\\n  Stat: %f\\n  pvalue: %f \\n\" % ttest)\n",
    "    # Krizická hodnota t = 2.357 - hypotéza se zamítá\n",
    "\n",
    "    y = [slope * x + intercept for x in pohlavi]\n",
    "    plt.plot(pohlavi, y, color='red')\n",
    "    plt.xticks([0, 1], [u'Muž', u'Žena'])\n",
    "    plt.show()\n"
   ]
  },
  {
   "cell_type": "markdown",
   "metadata": {},
   "source": [
    "# SCS"
   ]
  },
  {
   "cell_type": "code",
   "execution_count": 621,
   "metadata": {},
   "outputs": [
    {
     "data": {
      "image/png": "[encoded data removed]",
      "text/plain": [
       "<matplotlib.figure.Figure at 0x7f24fd363850>"
      ]
     },
     "metadata": {},
     "output_type": "display_data"
    },
    {
     "name": "stdout",
     "output_type": "stream",
     "text": [
      "Shapiro:\n",
      "  W: 0.994261\n",
      "  p-value: 0.385880\n",
      "\n",
      "Kolmogorov:\n",
      "  Statistics: 0.062420\n",
      "  p-value: 0.225017\n"
     ]
    }
   ],
   "source": [
    "histogram(u'součet')"
   ]
  },
  {
   "cell_type": "markdown",
   "metadata": {},
   "source": [
    "# DAP-R"
   ]
  },
  {
   "cell_type": "code",
   "execution_count": 622,
   "metadata": {},
   "outputs": [
    {
     "data": {
      "image/png": "[encoded data removed]",
      "text/plain": [
       "<matplotlib.figure.Figure at 0x7f24f8ac9510>"
      ]
     },
     "metadata": {},
     "output_type": "display_data"
    },
    {
     "name": "stdout",
     "output_type": "stream",
     "text": [
      "Shapiro:\n",
      "  W: 0.968727\n",
      "  p-value: 0.000011\n",
      "\n",
      "Kolmogorov:\n",
      "  Statistics: 0.080983\n",
      "  p-value: 0.051287\n"
     ]
    }
   ],
   "source": [
    "histogram('FD')"
   ]
  },
  {
   "cell_type": "code",
   "execution_count": 623,
   "metadata": {},
   "outputs": [
    {
     "data": {
      "image/png": "[encoded data removed]",
      "text/plain": [
       "<matplotlib.figure.Figure at 0x7f24f8717710>"
      ]
     },
     "metadata": {},
     "output_type": "display_data"
    },
    {
     "name": "stdout",
     "output_type": "stream",
     "text": [
      "Shapiro:\n",
      "  W: 0.934064\n",
      "  p-value: 0.000000\n",
      "\n",
      "Kolmogorov:\n",
      "  Statistics: 0.097198\n",
      "  p-value: 0.010310\n"
     ]
    }
   ],
   "source": [
    "histogram('DA')"
   ]
  },
  {
   "cell_type": "code",
   "execution_count": 624,
   "metadata": {},
   "outputs": [
    {
     "data": {
      "image/png": "[encoded data removed]",
      "text/plain": [
       "<matplotlib.figure.Figure at 0x7f24f86efc10>"
      ]
     },
     "metadata": {},
     "output_type": "display_data"
    },
    {
     "name": "stdout",
     "output_type": "stream",
     "text": [
      "Shapiro:\n",
      "  W: 0.882128\n",
      "  p-value: 0.000000\n",
      "\n",
      "Kolmogorov:\n",
      "  Statistics: 0.135880\n",
      "  p-value: 0.000069\n"
     ]
    }
   ],
   "source": [
    "histogram('NA')"
   ]
  },
  {
   "cell_type": "code",
   "execution_count": 625,
   "metadata": {},
   "outputs": [
    {
     "data": {
      "image/png": "[encoded data removed]",
      "text/plain": [
       "<matplotlib.figure.Figure at 0x7f24fd5fe250>"
      ]
     },
     "metadata": {},
     "output_type": "display_data"
    },
    {
     "name": "stdout",
     "output_type": "stream",
     "text": [
      "Shapiro:\n",
      "  W: 0.962642\n",
      "  p-value: 0.000002\n",
      "\n",
      "Kolmogorov:\n",
      "  Statistics: 0.070387\n",
      "  p-value: 0.124994\n"
     ]
    }
   ],
   "source": [
    "histogram('AA')"
   ]
  },
  {
   "cell_type": "code",
   "execution_count": 626,
   "metadata": {},
   "outputs": [
    {
     "data": {
      "image/png": "[encoded data removed]",
      "text/plain": [
       "<matplotlib.figure.Figure at 0x7f24f8eb6b90>"
      ]
     },
     "metadata": {},
     "output_type": "display_data"
    },
    {
     "name": "stdout",
     "output_type": "stream",
     "text": [
      "Shapiro:\n",
      "  W: 0.952294\n",
      "  p-value: 0.000000\n",
      "\n",
      "Kolmogorov:\n",
      "  Statistics: 0.089420\n",
      "  p-value: 0.023083\n"
     ]
    }
   ],
   "source": [
    "histogram('EA')"
   ]
  },
  {
   "cell_type": "markdown",
   "metadata": {},
   "source": [
    "# ESI"
   ]
  },
  {
   "cell_type": "code",
   "execution_count": 627,
   "metadata": {},
   "outputs": [
    {
     "data": {
      "image/png": "[encoded data removed]",
      "text/plain": [
       "<matplotlib.figure.Figure at 0x7f24f8d64b10>"
      ]
     },
     "metadata": {},
     "output_type": "display_data"
    },
    {
     "name": "stdout",
     "output_type": "stream",
     "text": [
      "Shapiro:\n",
      "  W: 0.947277\n",
      "  p-value: 0.000000\n",
      "\n",
      "Kolmogorov:\n",
      "  Statistics: 0.090085\n",
      "  p-value: 0.021603\n"
     ]
    }
   ],
   "source": [
    "histogram('COS')"
   ]
  },
  {
   "cell_type": "code",
   "execution_count": 628,
   "metadata": {},
   "outputs": [
    {
     "data": {
      "image/png": "[encoded data removed]",
      "text/plain": [
       "<matplotlib.figure.Figure at 0x7f24fd1e1110>"
      ]
     },
     "metadata": {},
     "output_type": "display_data"
    },
    {
     "name": "stdout",
     "output_type": "stream",
     "text": [
      "Shapiro:\n",
      "  W: 0.941738\n",
      "  p-value: 0.000000\n",
      "\n",
      "Kolmogorov:\n",
      "  Statistics: 0.096354\n",
      "  p-value: 0.011288\n"
     ]
    }
   ],
   "source": [
    "histogram('EPD')"
   ]
  },
  {
   "cell_type": "code",
   "execution_count": 629,
   "metadata": {},
   "outputs": [
    {
     "data": {
      "image/png": "[encoded data removed]",
      "text/plain": [
       "<matplotlib.figure.Figure at 0x7f24fd5bb550>"
      ]
     },
     "metadata": {},
     "output_type": "display_data"
    },
    {
     "name": "stdout",
     "output_type": "stream",
     "text": [
      "Shapiro:\n",
      "  W: 0.959090\n",
      "  p-value: 0.000001\n",
      "\n",
      "Kolmogorov:\n",
      "  Statistics: 0.105308\n",
      "  p-value: 0.004141\n"
     ]
    }
   ],
   "source": [
    "histogram('EWB')"
   ]
  },
  {
   "cell_type": "code",
   "execution_count": 630,
   "metadata": {},
   "outputs": [
    {
     "data": {
      "image/png": "[encoded data removed]",
      "text/plain": [
       "<matplotlib.figure.Figure at 0x7f24fd48fb90>"
      ]
     },
     "metadata": {},
     "output_type": "display_data"
    },
    {
     "name": "stdout",
     "output_type": "stream",
     "text": [
      "Shapiro:\n",
      "  W: 0.970139\n",
      "  p-value: 0.000017\n",
      "\n",
      "Kolmogorov:\n",
      "  Statistics: 0.078583\n",
      "  p-value: 0.063442\n"
     ]
    }
   ],
   "source": [
    "histogram('PAR')"
   ]
  },
  {
   "cell_type": "code",
   "execution_count": 631,
   "metadata": {},
   "outputs": [
    {
     "data": {
      "image/png": "[encoded data removed]",
      "text/plain": [
       "<matplotlib.figure.Figure at 0x7f24f861cf90>"
      ]
     },
     "metadata": {},
     "output_type": "display_data"
    },
    {
     "name": "stdout",
     "output_type": "stream",
     "text": [
      "Shapiro:\n",
      "  W: 0.944238\n",
      "  p-value: 0.000000\n",
      "\n",
      "Kolmogorov:\n",
      "  Statistics: 0.104478\n",
      "  p-value: 0.004561\n"
     ]
    }
   ],
   "source": [
    "histogram('REL')"
   ]
  },
  {
   "cell_type": "code",
   "execution_count": 632,
   "metadata": {},
   "outputs": [
    {
     "data": {
      "image/png": "[encoded data removed]",
      "text/plain": [
       "<matplotlib.figure.Figure at 0x7f24f8e639d0>"
      ]
     },
     "metadata": {},
     "output_type": "display_data"
    },
    {
     "name": "stdout",
     "output_type": "stream",
     "text": [
      "Shapiro:\n",
      "  W: 0.982637\n",
      "  p-value: 0.002003\n",
      "\n",
      "Kolmogorov:\n",
      "  Statistics: 0.050076\n",
      "  p-value: 0.487207\n"
     ]
    }
   ],
   "source": [
    "histogram('CELKEM')"
   ]
  },
  {
   "cell_type": "markdown",
   "metadata": {},
   "source": [
    "# Histogram CELKEM"
   ]
  },
  {
   "cell_type": "code",
   "execution_count": 633,
   "metadata": {},
   "outputs": [
    {
     "data": {
      "image/png": "[encoded data removed]",
      "text/plain": [
       "<matplotlib.figure.Figure at 0x7f24fd1e1050>"
      ]
     },
     "metadata": {},
     "output_type": "display_data"
    },
    {
     "name": "stdout",
     "output_type": "stream",
     "text": [
      "Shapiro:\n",
      "  W: 0.982637\n",
      "  p-value: 0.002003\n",
      "\n",
      "Kolmogorov:\n",
      "  Statistics: 0.050076\n",
      "  p-value: 0.487207\n"
     ]
    }
   ],
   "source": [
    "histogram('CELKEM')\n"
   ]
  },
  {
   "cell_type": "markdown",
   "metadata": {},
   "source": [
    "# Histogram Součet"
   ]
  },
  {
   "cell_type": "code",
   "execution_count": 634,
   "metadata": {},
   "outputs": [
    {
     "data": {
      "image/png": "[encoded data removed]",
      "text/plain": [
       "<matplotlib.figure.Figure at 0x7f24f879b310>"
      ]
     },
     "metadata": {},
     "output_type": "display_data"
    },
    {
     "name": "stdout",
     "output_type": "stream",
     "text": [
      "Shapiro:\n",
      "  W: 0.994261\n",
      "  p-value: 0.385880\n",
      "\n",
      "Kolmogorov:\n",
      "  Statistics: 0.062420\n",
      "  p-value: 0.225017\n"
     ]
    }
   ],
   "source": [
    "histogram(u'součet')"
   ]
  },
  {
   "cell_type": "code",
   "execution_count": 635,
   "metadata": {},
   "outputs": [],
   "source": [
    "c = [str(x) for x in data[u'součet']]\n",
    "with open(\"soucet.csv\", \"w\") as fp:\n",
    "    fp.write(\"\\n\".join(c))\n",
    "#data['součet'].to_csv('soucet.csv')"
   ]
  },
  {
   "cell_type": "markdown",
   "metadata": {},
   "source": [
    "# SCS correlations"
   ]
  },
  {
   "cell_type": "code",
   "execution_count": 636,
   "metadata": {},
   "outputs": [
    {
     "name": "stdout",
     "output_type": "stream",
     "text": [
      "Pearson:\n",
      "  PCC: 0.135153\n",
      "  p-value: 0.025004\n",
      "\n",
      "Spearman:\n",
      "  Corr: 0.1455046389081874\n",
      "  pvalue: 0.015744\n",
      "\n",
      "Slope: 0.208680\n",
      "  Intercept: 52.793838\n",
      "  rvalue: 0.135153\n",
      "  pvalue: 0.025004\n",
      "  stderr: 0.092592\n",
      "\n"
     ]
    },
    {
     "data": {
      "image/png": "[encoded data removed]",
      "text/plain": [
       "<matplotlib.figure.Figure at 0x7f24f86c4c10>"
      ]
     },
     "metadata": {},
     "output_type": "display_data"
    }
   ],
   "source": [
    "#Věk vs. Součet\n",
    "pearson_sperman_lin_plot(u'Věk:', u'součet')"
   ]
  },
  {
   "cell_type": "code",
   "execution_count": 637,
   "metadata": {},
   "outputs": [
    {
     "name": "stdout",
     "output_type": "stream",
     "text": [
      "Mann-Whitney:\n",
      "  Stat: 6990.500000\n",
      "  pvalue: 0.009133\n",
      "  z: -2.360012\n",
      "\n",
      "t-test:\n",
      "  Stat: 2.609385\n",
      "  pvalue: 0.009571 \n",
      "\n"
     ]
    },
    {
     "data": {
      "image/png": "[encoded data removed]",
      "text/plain": [
       "<matplotlib.figure.Figure at 0x7f24f8749bd0>"
      ]
     },
     "metadata": {},
     "output_type": "display_data"
    }
   ],
   "source": [
    "#Pohlaví vs. Součet\n",
    "\n",
    "mw_ttest_lin_sex(u'součet')"
   ]
  },
  {
   "cell_type": "code",
   "execution_count": 638,
   "metadata": {},
   "outputs": [
    {
     "name": "stdout",
     "output_type": "stream",
     "text": [
      "Mann-Whitney:\n",
      "  Stat: 8190.500000\n",
      "  pvalue: 0.037119\n",
      "  z: -1.785168\n",
      "\n",
      "t-test:\n",
      "  Stat: 1.644792\n",
      "  pvalue: 0.101164 \n",
      "\n"
     ]
    },
    {
     "data": {
      "image/png": "[encoded data removed]",
      "text/plain": [
       "<matplotlib.figure.Figure at 0x7f24f85d2890>"
      ]
     },
     "metadata": {},
     "output_type": "display_data"
    }
   ],
   "source": [
    "#Víra vs. Součet\n",
    "\n",
    "mw_ttest_lin_relig(u'součet')"
   ]
  },
  {
   "cell_type": "code",
   "execution_count": 639,
   "metadata": {
    "scrolled": false
   },
   "outputs": [
    {
     "name": "stdout",
     "output_type": "stream",
     "text": [
      "Nejvyšší dosažené vzdělání:\n",
      "SŠ                          36\n",
      "VOŠ                          5\n",
      "VŠ - bakalářské             45\n",
      "VŠ - magisterské a vyšší    99\n",
      "ZŠ                           3\n",
      "dtype: int64\n",
      "\n",
      "ANOVA\n",
      "Statistics: 0.306781\n",
      "pvalue: 0.873187\n",
      "\n",
      "pvalue > 0.05 - přijímáme hypotézu - nemá vliv\n"
     ]
    },
    {
     "data": {
      "image/png": "[encoded data removed]",
      "text/plain": [
       "<matplotlib.figure.Figure at 0x7f24f89ee3d0>"
      ]
     },
     "metadata": {},
     "output_type": "display_data"
    }
   ],
   "source": [
    "#OD 25\n",
    "print(\"%s\\n\" % data[data[u'Věk:'] >= 25].groupby(u'Nejvyšší dosažené vzdělání:').size())\n",
    "vzdelani = data[data[u'Věk:'] >= 25].groupby(u'Nejvyšší dosažené vzdělání:')\n",
    "\n",
    "result = []\n",
    "for g in vzdelani.groups:\n",
    "    result.append(df1[u'součet'][vzdelani.groups[g]])\n",
    "\n",
    "anova = stats.f_oneway(*result)\n",
    "print(\"ANOVA\\nStatistics: %f\\npvalue: %f\\n\" % anova)\n",
    "print(\"pvalue > 0.05 - přijímáme hypotézu - nemá vliv\")\n",
    "\n",
    "i = 0\n",
    "for g in result:\n",
    "    plt.scatter([i]*len(g), g)\n",
    "    i += 1\n",
    "    \n",
    "plt.xticks(range(0, len(result)), data.groupby(u'Nejvyšší dosažené vzdělání:').groups.keys())\n",
    "plt.show()"
   ]
  },
  {
   "cell_type": "code",
   "execution_count": 640,
   "metadata": {},
   "outputs": [
    {
     "name": "stdout",
     "output_type": "stream",
     "text": [
      "Pearson:\n",
      "  PCC: -0.140322\n",
      "  p-value: 0.019917\n",
      "\n",
      "Spearman:\n",
      "  Corr: -0.17901124249860426\n",
      "  pvalue: 0.002891\n",
      "\n",
      "Slope: -0.025571\n",
      "  Intercept: 4.197420\n",
      "  rvalue: -0.140322\n",
      "  pvalue: 0.019917\n",
      "  stderr: 0.010920\n",
      "\n"
     ]
    },
    {
     "data": {
      "image/png": "[encoded data removed]",
      "text/plain": [
       "<matplotlib.figure.Figure at 0x7f24fd6f4310>"
      ]
     },
     "metadata": {},
     "output_type": "display_data"
    }
   ],
   "source": [
    "#Věk vs. FD\n",
    "pearson_sperman_lin_plot(u'Věk:', u'FD')"
   ]
  },
  {
   "cell_type": "code",
   "execution_count": 641,
   "metadata": {},
   "outputs": [
    {
     "name": "stdout",
     "output_type": "stream",
     "text": [
      "Pearson:\n",
      "  PCC: -0.002452\n",
      "  p-value: 0.967717\n",
      "\n",
      "Spearman:\n",
      "  Corr: -0.04045948283182688\n",
      "  pvalue: 0.504030\n",
      "\n",
      "Slope: -0.000520\n",
      "  Intercept: 3.300961\n",
      "  rvalue: -0.002452\n",
      "  pvalue: 0.967717\n",
      "  stderr: 0.012840\n",
      "\n"
     ]
    },
    {
     "data": {
      "image/png": "[encoded data removed]",
      "text/plain": [
       "<matplotlib.figure.Figure at 0x7f24f8fbfe50>"
      ]
     },
     "metadata": {},
     "output_type": "display_data"
    }
   ],
   "source": [
    "#Věk vs DA\n",
    "pearson_sperman_lin_plot(u'Věk:', 'DA')"
   ]
  },
  {
   "cell_type": "code",
   "execution_count": 642,
   "metadata": {},
   "outputs": [
    {
     "name": "stdout",
     "output_type": "stream",
     "text": [
      "Mann-Whitney:\n",
      "  Stat: 6561.000000\n",
      "  pvalue: 0.001147\n",
      "  z: -3.048382\n",
      "\n",
      "t-test:\n",
      "  Stat: -2.770901\n",
      "  pvalue: 0.005974 \n",
      "\n"
     ]
    },
    {
     "data": {
      "image/png": "[encoded data removed]",
      "text/plain": [
       "<matplotlib.figure.Figure at 0x7f24fd4eb990>"
      ]
     },
     "metadata": {},
     "output_type": "display_data"
    }
   ],
   "source": [
    "#Pohlaví vs FD\n",
    "\n",
    "mw_ttest_lin_sex('FD')"
   ]
  },
  {
   "cell_type": "code",
   "execution_count": 643,
   "metadata": {},
   "outputs": [
    {
     "name": "stdout",
     "output_type": "stream",
     "text": [
      "Mann-Whitney:\n",
      "  Stat: 8192.500000\n",
      "  pvalue: 0.036743\n",
      "  z: -1.782120\n",
      "\n",
      "t-test:\n",
      "  Stat: 1.717065\n",
      "  pvalue: 0.087101 \n",
      "\n"
     ]
    },
    {
     "data": {
      "image/png": "[encoded data removed]",
      "text/plain": [
       "<matplotlib.figure.Figure at 0x7f24fd6be890>"
      ]
     },
     "metadata": {},
     "output_type": "display_data"
    }
   ],
   "source": [
    "mw_ttest_lin_relig('NA')"
   ]
  },
  {
   "cell_type": "code",
   "execution_count": 644,
   "metadata": {},
   "outputs": [
    {
     "name": "stdout",
     "output_type": "stream",
     "text": [
      "Mann-Whitney:\n",
      "  Stat: 3668.000000\n",
      "  pvalue: 0.000000\n",
      "  z: -8.676693\n",
      "\n",
      "t-test:\n",
      "  Stat: 9.927973\n",
      "  pvalue: 0.000000 \n",
      "\n"
     ]
    },
    {
     "data": {
      "image/png": "[encoded data removed]",
      "text/plain": [
       "<matplotlib.figure.Figure at 0x7f24fd14bf50>"
      ]
     },
     "metadata": {},
     "output_type": "display_data"
    }
   ],
   "source": [
    "mw_ttest_lin_relig('AA')"
   ]
  },
  {
   "cell_type": "code",
   "execution_count": 645,
   "metadata": {},
   "outputs": [
    {
     "name": "stdout",
     "output_type": "stream",
     "text": [
      "Mann-Whitney:\n",
      "  Stat: 8915.000000\n",
      "  pvalue: 0.247834\n",
      "  z: -0.681152\n",
      "\n",
      "t-test:\n",
      "  Stat: 0.506642\n",
      "  pvalue: 0.612815 \n",
      "\n"
     ]
    },
    {
     "data": {
      "image/png": "[encoded data removed]",
      "text/plain": [
       "<matplotlib.figure.Figure at 0x7f24f8e2b890>"
      ]
     },
     "metadata": {},
     "output_type": "display_data"
    }
   ],
   "source": [
    "mw_ttest_lin_relig('EA')"
   ]
  },
  {
   "cell_type": "code",
   "execution_count": 646,
   "metadata": {},
   "outputs": [
    {
     "name": "stdout",
     "output_type": "stream",
     "text": [
      "Pearson:\n",
      "  PCC: 0.043383\n",
      "  p-value: 0.473692\n",
      "\n",
      "Spearman:\n",
      "  Corr: 0.07488386621123355\n",
      "  pvalue: 0.215757\n",
      "\n",
      "Slope: 0.038056\n",
      "  Intercept: 11.877534\n",
      "  rvalue: 0.043383\n",
      "  pvalue: 0.473692\n",
      "  stderr: 0.053042\n",
      "\n"
     ]
    },
    {
     "data": {
      "image/png": "[encoded data removed]",
      "text/plain": [
       "<matplotlib.figure.Figure at 0x7f24f8e2b690>"
      ]
     },
     "metadata": {},
     "output_type": "display_data"
    }
   ],
   "source": [
    "#Věk vs COS\n",
    "\n",
    "pearson_sperman_lin_plot(u'Věk:', 'COS')"
   ]
  },
  {
   "cell_type": "code",
   "execution_count": 647,
   "metadata": {},
   "outputs": [
    {
     "name": "stdout",
     "output_type": "stream",
     "text": [
      "Pearson:\n",
      "  PCC: 0.059596\n",
      "  p-value: 0.324787\n",
      "\n",
      "Spearman:\n",
      "  Corr: 0.049941615603346506\n",
      "  pvalue: 0.409411\n",
      "\n",
      "Slope: 0.049014\n",
      "  Intercept: 7.663980\n",
      "  rvalue: 0.059596\n",
      "  pvalue: 0.324787\n",
      "  stderr: 0.049687\n",
      "\n"
     ]
    },
    {
     "data": {
      "image/png": "[encoded data removed]",
      "text/plain": [
       "<matplotlib.figure.Figure at 0x7f24f8e2b050>"
      ]
     },
     "metadata": {},
     "output_type": "display_data"
    }
   ],
   "source": [
    "#Věk vs EPD\n",
    "\n",
    "pearson_sperman_lin_plot(u'Věk:', 'EPD')"
   ]
  },
  {
   "cell_type": "code",
   "execution_count": 648,
   "metadata": {},
   "outputs": [
    {
     "name": "stdout",
     "output_type": "stream",
     "text": [
      "Pearson:\n",
      "  PCC: 0.117625\n",
      "  p-value: 0.051359\n",
      "\n",
      "Spearman:\n",
      "  Corr: 0.16867473194301688\n",
      "  pvalue: 0.005039\n",
      "\n",
      "Slope: 0.076552\n",
      "  Intercept: 13.505917\n",
      "  rvalue: 0.117625\n",
      "  pvalue: 0.051359\n",
      "  stderr: 0.039116\n",
      "\n"
     ]
    },
    {
     "data": {
      "image/png": "[encoded data removed]",
      "text/plain": [
       "<matplotlib.figure.Figure at 0x7f24fd482310>"
      ]
     },
     "metadata": {},
     "output_type": "display_data"
    }
   ],
   "source": [
    "#Věk vs EWB\n",
    "\n",
    "pearson_sperman_lin_plot(u'Věk:', 'EWB')"
   ]
  },
  {
   "cell_type": "code",
   "execution_count": 649,
   "metadata": {},
   "outputs": [
    {
     "name": "stdout",
     "output_type": "stream",
     "text": [
      "Pearson:\n",
      "  PCC: 0.031214\n",
      "  p-value: 0.606281\n",
      "\n",
      "Spearman:\n",
      "  Corr: 0.02798507940779088\n",
      "  pvalue: 0.644041\n",
      "\n",
      "Slope: 0.023658\n",
      "  Intercept: 10.456714\n",
      "  rvalue: 0.031214\n",
      "  pvalue: 0.606281\n",
      "  stderr: 0.045849\n",
      "\n"
     ]
    },
    {
     "data": {
      "image/png": "[encoded data removed]",
      "text/plain": [
       "<matplotlib.figure.Figure at 0x7f24fd32bc50>"
      ]
     },
     "metadata": {},
     "output_type": "display_data"
    }
   ],
   "source": [
    "#Věk vs PAR\n",
    "\n",
    "pearson_sperman_lin_plot(u'Věk:', 'PAR')"
   ]
  },
  {
   "cell_type": "code",
   "execution_count": 650,
   "metadata": {},
   "outputs": [
    {
     "name": "stdout",
     "output_type": "stream",
     "text": [
      "Pearson:\n",
      "  PCC: -0.001476\n",
      "  p-value: 0.980561\n",
      "\n",
      "Spearman:\n",
      "  Corr: 0.01921273347633576\n",
      "  pvalue: 0.751103\n",
      "\n",
      "Slope: -0.001259\n",
      "  Intercept: 9.742110\n",
      "  rvalue: -0.001476\n",
      "  pvalue: 0.980561\n",
      "  stderr: 0.051629\n",
      "\n"
     ]
    },
    {
     "data": {
      "image/png": "[encoded data removed]",
      "text/plain": [
       "<matplotlib.figure.Figure at 0x7f24fd1547d0>"
      ]
     },
     "metadata": {},
     "output_type": "display_data"
    }
   ],
   "source": [
    "#Věk vs REL\n",
    "\n",
    "pearson_sperman_lin_plot(u'Věk:', 'REL')"
   ]
  },
  {
   "cell_type": "code",
   "execution_count": 651,
   "metadata": {},
   "outputs": [
    {
     "name": "stdout",
     "output_type": "stream",
     "text": [
      "Mann-Whitney:\n",
      "  Stat: 8206.500000\n",
      "  pvalue: 0.340620\n",
      "  z: -0.411099\n",
      "\n",
      "t-test:\n",
      "  Stat: -0.604551\n",
      "  pvalue: 0.545979 \n",
      "\n"
     ]
    },
    {
     "data": {
      "image/png": "[encoded data removed]",
      "text/plain": [
       "<matplotlib.figure.Figure at 0x7f24f8d2f110>"
      ]
     },
     "metadata": {},
     "output_type": "display_data"
    }
   ],
   "source": [
    "#Pohlaví vs COS\n",
    "\n",
    "mw_ttest_lin_sex('COS')"
   ]
  },
  {
   "cell_type": "code",
   "execution_count": 652,
   "metadata": {},
   "outputs": [
    {
     "name": "stdout",
     "output_type": "stream",
     "text": [
      "Mann-Whitney:\n",
      "  Stat: 7495.500000\n",
      "  pvalue: 0.060261\n",
      "  z: -1.550636\n",
      "\n",
      "t-test:\n",
      "  Stat: -1.276955\n",
      "  pvalue: 0.202703 \n",
      "\n"
     ]
    },
    {
     "data": {
      "image/png": "[encoded data removed]",
      "text/plain": [
       "<matplotlib.figure.Figure at 0x7f24fd5f4250>"
      ]
     },
     "metadata": {},
     "output_type": "display_data"
    }
   ],
   "source": [
    "#Pohlaví vs EPD\n",
    "\n",
    "mw_ttest_lin_sex('EPD')"
   ]
  },
  {
   "cell_type": "code",
   "execution_count": 653,
   "metadata": {},
   "outputs": [
    {
     "name": "stdout",
     "output_type": "stream",
     "text": [
      "Mann-Whitney:\n",
      "  Stat: 7285.500000\n",
      "  pvalue: 0.029379\n",
      "  z: -1.887208\n",
      "\n",
      "t-test:\n",
      "  Stat: 1.789277\n",
      "  pvalue: 0.074679 \n",
      "\n"
     ]
    },
    {
     "data": {
      "image/png": "[encoded data removed]",
      "text/plain": [
       "<matplotlib.figure.Figure at 0x7f24f8f69590>"
      ]
     },
     "metadata": {},
     "output_type": "display_data"
    }
   ],
   "source": [
    "#Pohlaví vs EWB\n",
    "\n",
    "mw_ttest_lin_sex('EWB')"
   ]
  },
  {
   "cell_type": "code",
   "execution_count": 654,
   "metadata": {},
   "outputs": [
    {
     "name": "stdout",
     "output_type": "stream",
     "text": [
      "Mann-Whitney:\n",
      "  Stat: 6105.000000\n",
      "  pvalue: 0.000078\n",
      "  z: -3.779225\n",
      "\n",
      "t-test:\n",
      "  Stat: -3.735245\n",
      "  pvalue: 0.000228 \n",
      "\n"
     ]
    },
    {
     "data": {
      "image/png": "[encoded data removed]",
      "text/plain": [
       "<matplotlib.figure.Figure at 0x7f24fd595f90>"
      ]
     },
     "metadata": {},
     "output_type": "display_data"
    }
   ],
   "source": [
    "#Pohlaví vs PAR\n",
    "\n",
    "mw_ttest_lin_sex('PAR')"
   ]
  },
  {
   "cell_type": "code",
   "execution_count": 655,
   "metadata": {},
   "outputs": [
    {
     "name": "stdout",
     "output_type": "stream",
     "text": [
      "Mann-Whitney:\n",
      "  Stat: 7212.500000\n",
      "  pvalue: 0.022367\n",
      "  z: -2.004207\n",
      "\n",
      "t-test:\n",
      "  Stat: -1.796598\n",
      "  pvalue: 0.073505 \n",
      "\n"
     ]
    },
    {
     "data": {
      "image/png": "[encoded data removed]",
      "text/plain": [
       "<matplotlib.figure.Figure at 0x7f24f899d150>"
      ]
     },
     "metadata": {},
     "output_type": "display_data"
    }
   ],
   "source": [
    "#Pohlaví vs REL\n",
    "\n",
    "mw_ttest_lin_sex('REL')"
   ]
  },
  {
   "cell_type": "code",
   "execution_count": 656,
   "metadata": {},
   "outputs": [
    {
     "name": "stdout",
     "output_type": "stream",
     "text": [
      "Pearson:\n",
      "  PCC: -0.168403\n",
      "  p-value: 0.005111\n",
      "\n",
      "Spearman:\n",
      "  Corr: -0.18339311450075713\n",
      "  pvalue: 0.002263\n",
      "\n",
      "Slope: -1.426880\n",
      "  Intercept: 63.796090\n",
      "  rvalue: -0.168403\n",
      "  pvalue: 0.005111\n",
      "  stderr: 0.505487\n",
      "\n"
     ]
    },
    {
     "data": {
      "image/png": "[encoded data removed]",
      "text/plain": [
       "<matplotlib.figure.Figure at 0x7f24f885c9d0>"
      ]
     },
     "metadata": {},
     "output_type": "display_data"
    }
   ],
   "source": [
    "pearson_sperman_lin_plot('FD', u'součet')"
   ]
  },
  {
   "cell_type": "code",
   "execution_count": 657,
   "metadata": {},
   "outputs": [
    {
     "name": "stdout",
     "output_type": "stream",
     "text": [
      "Pearson:\n",
      "  PCC: -0.073481\n",
      "  p-value: 0.224505\n",
      "\n",
      "Spearman:\n",
      "  Corr: -0.08878064929399158\n",
      "  pvalue: 0.141981\n",
      "\n",
      "Slope: -0.534788\n",
      "  Intercept: 60.626308\n",
      "  rvalue: -0.073481\n",
      "  pvalue: 0.224505\n",
      "  stderr: 0.439289\n",
      "\n"
     ]
    },
    {
     "data": {
      "image/png": "[encoded data removed]",
      "text/plain": [
       "<matplotlib.figure.Figure at 0x7f24fd7522d0>"
      ]
     },
     "metadata": {},
     "output_type": "display_data"
    }
   ],
   "source": [
    "pearson_sperman_lin_plot('DA', u'součet')"
   ]
  },
  {
   "cell_type": "code",
   "execution_count": 658,
   "metadata": {},
   "outputs": [
    {
     "name": "stdout",
     "output_type": "stream",
     "text": [
      "Pearson:\n",
      "  PCC: 0.120149\n",
      "  p-value: 0.046527\n",
      "\n",
      "Spearman:\n",
      "  Corr: 0.10548390649464826\n",
      "  pvalue: 0.080783\n",
      "\n",
      "Slope: 1.524292\n",
      "  Intercept: 49.891841\n",
      "  rvalue: 0.120149\n",
      "  pvalue: 0.046527\n",
      "  stderr: 0.762271\n",
      "\n"
     ]
    },
    {
     "data": {
      "image/png": "[encoded data removed]",
      "text/plain": [
       "<matplotlib.figure.Figure at 0x7f24f8769b50>"
      ]
     },
     "metadata": {},
     "output_type": "display_data"
    }
   ],
   "source": [
    "pearson_sperman_lin_plot('NA', u'součet')"
   ]
  },
  {
   "cell_type": "code",
   "execution_count": 659,
   "metadata": {},
   "outputs": [
    {
     "name": "stdout",
     "output_type": "stream",
     "text": [
      "Pearson:\n",
      "  PCC: -0.005926\n",
      "  p-value: 0.922075\n",
      "\n",
      "Spearman:\n",
      "  Corr: -0.0069821983362145955\n",
      "  pvalue: 0.908239\n",
      "\n",
      "Slope: -0.047724\n",
      "  Intercept: 59.030885\n",
      "  rvalue: -0.005926\n",
      "  pvalue: 0.922075\n",
      "  stderr: 0.487426\n",
      "\n"
     ]
    },
    {
     "data": {
      "image/png": "[encoded data removed]",
      "text/plain": [
       "<matplotlib.figure.Figure at 0x7f24f89404d0>"
      ]
     },
     "metadata": {},
     "output_type": "display_data"
    }
   ],
   "source": [
    "pearson_sperman_lin_plot('AA', u'součet')"
   ]
  },
  {
   "cell_type": "code",
   "execution_count": 660,
   "metadata": {},
   "outputs": [
    {
     "name": "stdout",
     "output_type": "stream",
     "text": [
      "Pearson:\n",
      "  PCC: -0.302892\n",
      "  p-value: 0.000000\n",
      "\n",
      "Spearman:\n",
      "  Corr: -0.3112852763394337\n",
      "  pvalue: 0.000000\n",
      "\n",
      "Slope: -2.299171\n",
      "  Intercept: 66.621060\n",
      "  rvalue: -0.302892\n",
      "  pvalue: 0.000000\n",
      "  stderr: 0.437831\n",
      "\n"
     ]
    },
    {
     "data": {
      "image/png": "[encoded data removed]",
      "text/plain": [
       "<matplotlib.figure.Figure at 0x7f24f85fc590>"
      ]
     },
     "metadata": {},
     "output_type": "display_data"
    }
   ],
   "source": [
    "pearson_sperman_lin_plot('EA', u'součet')"
   ]
  },
  {
   "cell_type": "code",
   "execution_count": 661,
   "metadata": {},
   "outputs": [
    {
     "name": "stdout",
     "output_type": "stream",
     "text": [
      "Pearson:\n",
      "  PCC: 0.148985\n",
      "  p-value: 0.013391\n",
      "\n",
      "Spearman:\n",
      "  Corr: 0.15603212909035497\n",
      "  pvalue: 0.009553\n",
      "\n",
      "Slope: 0.262236\n",
      "  Intercept: 55.463844\n",
      "  rvalue: 0.148985\n",
      "  pvalue: 0.013391\n",
      "  stderr: 0.105340\n",
      "\n"
     ]
    },
    {
     "data": {
      "image/png": "[encoded data removed]",
      "text/plain": [
       "<matplotlib.figure.Figure at 0x7f24f878f810>"
      ]
     },
     "metadata": {},
     "output_type": "display_data"
    }
   ],
   "source": [
    "pearson_sperman_lin_plot('COS', u'součet')"
   ]
  },
  {
   "cell_type": "code",
   "execution_count": 662,
   "metadata": {},
   "outputs": [
    {
     "name": "stdout",
     "output_type": "stream",
     "text": [
      "Pearson:\n",
      "  PCC: 0.081512\n",
      "  p-value: 0.177718\n",
      "\n",
      "Spearman:\n",
      "  Corr: 0.0917593429774909\n",
      "  pvalue: 0.129032\n",
      "\n",
      "Slope: 0.153031\n",
      "  Intercept: 57.477901\n",
      "  rvalue: 0.081512\n",
      "  pvalue: 0.177718\n",
      "  stderr: 0.113247\n",
      "\n"
     ]
    },
    {
     "data": {
      "image/png": "[encoded data removed]",
      "text/plain": [
       "<matplotlib.figure.Figure at 0x7f24fd457ad0>"
      ]
     },
     "metadata": {},
     "output_type": "display_data"
    }
   ],
   "source": [
    "pearson_sperman_lin_plot('EPD', u'součet')"
   ]
  },
  {
   "cell_type": "code",
   "execution_count": 663,
   "metadata": {},
   "outputs": [
    {
     "name": "stdout",
     "output_type": "stream",
     "text": [
      "Pearson:\n",
      "  PCC: 0.690523\n",
      "  p-value: 0.000000\n",
      "\n",
      "Spearman:\n",
      "  Corr: 0.670366899923173\n",
      "  pvalue: 0.000000\n",
      "\n",
      "Slope: 1.638240\n",
      "  Intercept: 33.092137\n",
      "  rvalue: 0.690523\n",
      "  pvalue: 0.000000\n",
      "  stderr: 0.103859\n",
      "\n"
     ]
    },
    {
     "data": {
      "image/png": "[encoded data removed]",
      "text/plain": [
       "<matplotlib.figure.Figure at 0x7f24f8dc3090>"
      ]
     },
     "metadata": {},
     "output_type": "display_data"
    }
   ],
   "source": [
    "pearson_sperman_lin_plot('EWB', u'součet')"
   ]
  },
  {
   "cell_type": "code",
   "execution_count": 664,
   "metadata": {},
   "outputs": [
    {
     "name": "stdout",
     "output_type": "stream",
     "text": [
      "Pearson:\n",
      "  PCC: 0.020069\n",
      "  p-value: 0.740399\n",
      "\n",
      "Spearman:\n",
      "  Corr: 0.008377677044862909\n",
      "  pvalue: 0.890005\n",
      "\n",
      "Slope: 0.040884\n",
      "  Intercept: 58.413418\n",
      "  rvalue: 0.020069\n",
      "  pvalue: 0.740399\n",
      "  stderr: 0.123271\n",
      "\n"
     ]
    },
    {
     "data": {
      "image/png": "[encoded data removed]",
      "text/plain": [
       "<matplotlib.figure.Figure at 0x7f24f8e77fd0>"
      ]
     },
     "metadata": {},
     "output_type": "display_data"
    }
   ],
   "source": [
    "pearson_sperman_lin_plot('PAR', u'součet')"
   ]
  },
  {
   "cell_type": "code",
   "execution_count": 665,
   "metadata": {
    "scrolled": false
   },
   "outputs": [
    {
     "name": "stdout",
     "output_type": "stream",
     "text": [
      "Pearson:\n",
      "  PCC: 0.050277\n",
      "  p-value: 0.406267\n",
      "\n",
      "Spearman:\n",
      "  Corr: 0.057107068663482835\n",
      "  pvalue: 0.345440\n",
      "\n",
      "Slope: 0.091003\n",
      "  Intercept: 57.985867\n",
      "  rvalue: 0.050277\n",
      "  pvalue: 0.406267\n",
      "  stderr: 0.109409\n",
      "\n"
     ]
    },
    {
     "data": {
      "image/png": "[encoded data removed]",
      "text/plain": [
       "<matplotlib.figure.Figure at 0x7f24fd154350>"
      ]
     },
     "metadata": {},
     "output_type": "display_data"
    }
   ],
   "source": [
    "pearson_sperman_lin_plot('REL', u'součet')"
   ]
  },
  {
   "cell_type": "code",
   "execution_count": 666,
   "metadata": {},
   "outputs": [
    {
     "name": "stdout",
     "output_type": "stream",
     "text": [
      "Pearson:\n",
      "  PCC: 0.248311\n",
      "  p-value: 0.000031\n",
      "\n",
      "Spearman:\n",
      "  Corr: 0.23031347119273618\n",
      "  pvalue: 0.000116\n",
      "\n",
      "Slope: 0.134995\n",
      "  Intercept: 50.950042\n",
      "  rvalue: 0.248311\n",
      "  pvalue: 0.000031\n",
      "  stderr: 0.031873\n",
      "\n"
     ]
    },
    {
     "data": {
      "image/png": "[encoded data removed]",
      "text/plain": [
       "<matplotlib.figure.Figure at 0x7f24f8e13650>"
      ]
     },
     "metadata": {},
     "output_type": "display_data"
    }
   ],
   "source": [
    "pearson_sperman_lin_plot('CELKEM', u'součet')"
   ]
  },
  {
   "cell_type": "code",
   "execution_count": 689,
   "metadata": {},
   "outputs": [],
   "source": [
    "def construct_index(samples, sub_labels):\n",
    "    levels = [samples, sub_labels]\n",
    "    labels = [[], []]\n",
    "    for i, v in enumerate(samples):\n",
    "        for j, w in enumerate(sub_labels):\n",
    "            labels[0].append(i)\n",
    "            labels[1].append(j)\n",
    "            \n",
    "    return levels, labels\n",
    "\n",
    "def generate_table_grouped(samples, sub_levels, group):\n",
    "    results = {\n",
    "        (u'N'): {},\n",
    "        (u'M'): {},\n",
    "        (u'SD'): {},\n",
    "        (u'Min'): {},\n",
    "        (u'Max'): {},\n",
    "        (u'Med'): {},\n",
    "        (u'k'): {},\n",
    "              }\n",
    "    index = [samples]\n",
    "\n",
    "    for s in samples:\n",
    "        for key, val in sub_levels.iteritems():\n",
    "            results[(u'N')][(s, key)] = data.groupby(group)[s].count()[val]\n",
    "            results[(u'M')][(s, key)] = data.groupby(group)[s].mean()[val]\n",
    "            results[(u'SD')][(s, key)] = data.groupby(group)[s].std()[val]\n",
    "            results[(u'Min')][(s, key)] = data.groupby(group)[s].min()[val]\n",
    "            results[(u'Max')][(s, key)] = data.groupby(group)[s].max()[val]\n",
    "            results[(u'Med')][(s, key)] = data.groupby(group)[s].median()[val]\n",
    "            results[(u'k')][(s, key)] = data.groupby(group)[s].std()[val]/data.groupby(group)[s].mean()[val]\n",
    "        \n",
    "    pd.options.display.float_format = '{:.2f}'.format\n",
    "    \n",
    "    levels, labels = construct_index(samples, sub_levels.keys())\n",
    "    return pd.DataFrame(results, columns=['N', 'M', 'Med', 'Min', 'Max', 'SD', 'k'], index=pd.MultiIndex(levels, labels))"
   ]
  },
  {
   "cell_type": "code",
   "execution_count": 693,
   "metadata": {},
   "outputs": [],
   "source": [
    "def generate_table_all(samples):\n",
    "    results = {\n",
    "        (u'N'): {},\n",
    "        (u'M'): {},        \n",
    "        (u'SD'): {},\n",
    "        (u'Med'): {},\n",
    "        (u'Min'): {},\n",
    "        (u'Max'): {},\n",
    "        (u'k'): {}\n",
    "              }\n",
    "\n",
    "    for s in samples:\n",
    "        results[(u'N')][s] = data[s].count()\n",
    "        results[(u'M')][s] = data[s].mean()\n",
    "        results[(u'SD')][s] = data[s].std()\n",
    "        results[(u'Min')][s] = data[s].min()\n",
    "        results[(u'Max')][s] = data[s].max()\n",
    "        results[(u'Med')][s] = data[s].median()\n",
    "        results[(u'k')][s] = data[s].std()/data[s].mean()\n",
    "        \n",
    "    pd.options.display.float_format = '{:.2f}'.format\n",
    "    return pd.DataFrame(results, columns=['N', 'M', 'Med', 'Min', 'Max', 'SD', 'k'], index=samples)"
   ]
  },
  {
   "cell_type": "code",
   "execution_count": 694,
   "metadata": {},
   "outputs": [
    {
     "data": {
      "text/html": [
       "<div>\n",
       "<style scoped>\n",
       "    .dataframe tbody tr th:only-of-type {\n",
       "        vertical-align: middle;\n",
       "    }\n",
       "\n",
       "    .dataframe tbody tr th {\n",
       "        vertical-align: top;\n",
       "    }\n",
       "\n",
       "    .dataframe thead th {\n",
       "        text-align: right;\n",
       "    }\n",
       "</style>\n",
       "<table border=\"1\" class=\"dataframe\">\n",
       "  <thead>\n",
       "    <tr style=\"text-align: right;\">\n",
       "      <th></th>\n",
       "      <th></th>\n",
       "      <th>N</th>\n",
       "      <th>M</th>\n",
       "      <th>Med</th>\n",
       "      <th>Min</th>\n",
       "      <th>Max</th>\n",
       "      <th>SD</th>\n",
       "      <th>k</th>\n",
       "    </tr>\n",
       "  </thead>\n",
       "  <tbody>\n",
       "    <tr>\n",
       "      <th rowspan=\"2\" valign=\"top\">FD</th>\n",
       "      <th>Muži</th>\n",
       "      <td>93</td>\n",
       "      <td>3.10</td>\n",
       "      <td>2.86</td>\n",
       "      <td>1.00</td>\n",
       "      <td>7.00</td>\n",
       "      <td>1.55</td>\n",
       "      <td>0.50</td>\n",
       "    </tr>\n",
       "    <tr>\n",
       "      <th>Ženy</th>\n",
       "      <td>182</td>\n",
       "      <td>3.63</td>\n",
       "      <td>3.43</td>\n",
       "      <td>1.00</td>\n",
       "      <td>7.00</td>\n",
       "      <td>1.47</td>\n",
       "      <td>0.40</td>\n",
       "    </tr>\n",
       "    <tr>\n",
       "      <th rowspan=\"2\" valign=\"top\">DA</th>\n",
       "      <th>Muži</th>\n",
       "      <td>93</td>\n",
       "      <td>3.09</td>\n",
       "      <td>2.80</td>\n",
       "      <td>1.00</td>\n",
       "      <td>7.00</td>\n",
       "      <td>1.79</td>\n",
       "      <td>0.58</td>\n",
       "    </tr>\n",
       "    <tr>\n",
       "      <th>Ženy</th>\n",
       "      <td>182</td>\n",
       "      <td>3.39</td>\n",
       "      <td>3.20</td>\n",
       "      <td>1.00</td>\n",
       "      <td>7.00</td>\n",
       "      <td>1.75</td>\n",
       "      <td>0.52</td>\n",
       "    </tr>\n",
       "    <tr>\n",
       "      <th rowspan=\"2\" valign=\"top\">NA</th>\n",
       "      <th>Muži</th>\n",
       "      <td>93</td>\n",
       "      <td>6.06</td>\n",
       "      <td>6.40</td>\n",
       "      <td>2.20</td>\n",
       "      <td>7.00</td>\n",
       "      <td>1.13</td>\n",
       "      <td>0.19</td>\n",
       "    </tr>\n",
       "    <tr>\n",
       "      <th>Ženy</th>\n",
       "      <td>182</td>\n",
       "      <td>5.80</td>\n",
       "      <td>6.00</td>\n",
       "      <td>1.20</td>\n",
       "      <td>7.00</td>\n",
       "      <td>0.94</td>\n",
       "      <td>0.16</td>\n",
       "    </tr>\n",
       "    <tr>\n",
       "      <th rowspan=\"2\" valign=\"top\">AA</th>\n",
       "      <th>Muži</th>\n",
       "      <td>93</td>\n",
       "      <td>3.01</td>\n",
       "      <td>2.70</td>\n",
       "      <td>1.00</td>\n",
       "      <td>7.00</td>\n",
       "      <td>1.75</td>\n",
       "      <td>0.58</td>\n",
       "    </tr>\n",
       "    <tr>\n",
       "      <th>Ženy</th>\n",
       "      <td>182</td>\n",
       "      <td>3.58</td>\n",
       "      <td>3.70</td>\n",
       "      <td>1.00</td>\n",
       "      <td>6.80</td>\n",
       "      <td>1.48</td>\n",
       "      <td>0.41</td>\n",
       "    </tr>\n",
       "    <tr>\n",
       "      <th rowspan=\"2\" valign=\"top\">EA</th>\n",
       "      <th>Muži</th>\n",
       "      <td>93</td>\n",
       "      <td>3.30</td>\n",
       "      <td>3.20</td>\n",
       "      <td>1.00</td>\n",
       "      <td>7.00</td>\n",
       "      <td>1.87</td>\n",
       "      <td>0.57</td>\n",
       "    </tr>\n",
       "    <tr>\n",
       "      <th>Ženy</th>\n",
       "      <td>182</td>\n",
       "      <td>3.41</td>\n",
       "      <td>3.40</td>\n",
       "      <td>1.00</td>\n",
       "      <td>7.00</td>\n",
       "      <td>1.60</td>\n",
       "      <td>0.47</td>\n",
       "    </tr>\n",
       "  </tbody>\n",
       "</table>\n",
       "</div>"
      ],
      "text/plain": [
       "           N    M  Med  Min  Max   SD    k\n",
       "FD Muži   93 3.10 2.86 1.00 7.00 1.55 0.50\n",
       "   Ženy  182 3.63 3.43 1.00 7.00 1.47 0.40\n",
       "DA Muži   93 3.09 2.80 1.00 7.00 1.79 0.58\n",
       "   Ženy  182 3.39 3.20 1.00 7.00 1.75 0.52\n",
       "NA Muži   93 6.06 6.40 2.20 7.00 1.13 0.19\n",
       "   Ženy  182 5.80 6.00 1.20 7.00 0.94 0.16\n",
       "AA Muži   93 3.01 2.70 1.00 7.00 1.75 0.58\n",
       "   Ženy  182 3.58 3.70 1.00 6.80 1.48 0.41\n",
       "EA Muži   93 3.30 3.20 1.00 7.00 1.87 0.57\n",
       "   Ženy  182 3.41 3.40 1.00 7.00 1.60 0.47"
      ]
     },
     "execution_count": 694,
     "metadata": {},
     "output_type": "execute_result"
    }
   ],
   "source": [
    "generate_table_grouped([ 'FD', 'DA', 'NA', 'AA', 'EA'], {u'Muži': u'Muž', u'Ženy': u'Žena'}, u'Pohlaví:')"
   ]
  },
  {
   "cell_type": "code",
   "execution_count": 695,
   "metadata": {
    "scrolled": true
   },
   "outputs": [
    {
     "data": {
      "text/html": [
       "<div>\n",
       "<style scoped>\n",
       "    .dataframe tbody tr th:only-of-type {\n",
       "        vertical-align: middle;\n",
       "    }\n",
       "\n",
       "    .dataframe tbody tr th {\n",
       "        vertical-align: top;\n",
       "    }\n",
       "\n",
       "    .dataframe thead th {\n",
       "        text-align: right;\n",
       "    }\n",
       "</style>\n",
       "<table border=\"1\" class=\"dataframe\">\n",
       "  <thead>\n",
       "    <tr style=\"text-align: right;\">\n",
       "      <th></th>\n",
       "      <th></th>\n",
       "      <th>N</th>\n",
       "      <th>M</th>\n",
       "      <th>Med</th>\n",
       "      <th>Min</th>\n",
       "      <th>Max</th>\n",
       "      <th>SD</th>\n",
       "      <th>k</th>\n",
       "    </tr>\n",
       "  </thead>\n",
       "  <tbody>\n",
       "    <tr>\n",
       "      <th rowspan=\"2\" valign=\"top\">FD</th>\n",
       "      <th>Nevěřící</th>\n",
       "      <td>124</td>\n",
       "      <td>3.63</td>\n",
       "      <td>3.43</td>\n",
       "      <td>1.00</td>\n",
       "      <td>7.00</td>\n",
       "      <td>1.47</td>\n",
       "      <td>0.40</td>\n",
       "    </tr>\n",
       "    <tr>\n",
       "      <th>Věřící</th>\n",
       "      <td>151</td>\n",
       "      <td>3.31</td>\n",
       "      <td>3.14</td>\n",
       "      <td>1.00</td>\n",
       "      <td>7.00</td>\n",
       "      <td>1.54</td>\n",
       "      <td>0.47</td>\n",
       "    </tr>\n",
       "    <tr>\n",
       "      <th rowspan=\"2\" valign=\"top\">DA</th>\n",
       "      <th>Nevěřící</th>\n",
       "      <td>124</td>\n",
       "      <td>3.55</td>\n",
       "      <td>3.20</td>\n",
       "      <td>1.00</td>\n",
       "      <td>7.00</td>\n",
       "      <td>1.73</td>\n",
       "      <td>0.49</td>\n",
       "    </tr>\n",
       "    <tr>\n",
       "      <th>Věřící</th>\n",
       "      <td>151</td>\n",
       "      <td>3.07</td>\n",
       "      <td>2.80</td>\n",
       "      <td>1.00</td>\n",
       "      <td>7.00</td>\n",
       "      <td>1.77</td>\n",
       "      <td>0.58</td>\n",
       "    </tr>\n",
       "    <tr>\n",
       "      <th rowspan=\"2\" valign=\"top\">NA</th>\n",
       "      <th>Nevěřící</th>\n",
       "      <td>124</td>\n",
       "      <td>5.77</td>\n",
       "      <td>6.00</td>\n",
       "      <td>2.20</td>\n",
       "      <td>7.00</td>\n",
       "      <td>1.05</td>\n",
       "      <td>0.18</td>\n",
       "    </tr>\n",
       "    <tr>\n",
       "      <th>Věřící</th>\n",
       "      <td>151</td>\n",
       "      <td>5.98</td>\n",
       "      <td>6.20</td>\n",
       "      <td>1.20</td>\n",
       "      <td>7.00</td>\n",
       "      <td>0.97</td>\n",
       "      <td>0.16</td>\n",
       "    </tr>\n",
       "    <tr>\n",
       "      <th rowspan=\"2\" valign=\"top\">AA</th>\n",
       "      <th>Nevěřící</th>\n",
       "      <td>124</td>\n",
       "      <td>2.49</td>\n",
       "      <td>2.35</td>\n",
       "      <td>1.00</td>\n",
       "      <td>7.00</td>\n",
       "      <td>1.31</td>\n",
       "      <td>0.53</td>\n",
       "    </tr>\n",
       "    <tr>\n",
       "      <th>Věřící</th>\n",
       "      <td>151</td>\n",
       "      <td>4.13</td>\n",
       "      <td>4.30</td>\n",
       "      <td>1.00</td>\n",
       "      <td>7.00</td>\n",
       "      <td>1.42</td>\n",
       "      <td>0.34</td>\n",
       "    </tr>\n",
       "    <tr>\n",
       "      <th rowspan=\"2\" valign=\"top\">EA</th>\n",
       "      <th>Nevěřící</th>\n",
       "      <td>124</td>\n",
       "      <td>3.31</td>\n",
       "      <td>3.10</td>\n",
       "      <td>1.00</td>\n",
       "      <td>7.00</td>\n",
       "      <td>1.74</td>\n",
       "      <td>0.53</td>\n",
       "    </tr>\n",
       "    <tr>\n",
       "      <th>Věřící</th>\n",
       "      <td>151</td>\n",
       "      <td>3.42</td>\n",
       "      <td>3.60</td>\n",
       "      <td>1.00</td>\n",
       "      <td>7.00</td>\n",
       "      <td>1.65</td>\n",
       "      <td>0.48</td>\n",
       "    </tr>\n",
       "  </tbody>\n",
       "</table>\n",
       "</div>"
      ],
      "text/plain": [
       "               N    M  Med  Min  Max   SD    k\n",
       "FD Nevěřící  124 3.63 3.43 1.00 7.00 1.47 0.40\n",
       "   Věřící    151 3.31 3.14 1.00 7.00 1.54 0.47\n",
       "DA Nevěřící  124 3.55 3.20 1.00 7.00 1.73 0.49\n",
       "   Věřící    151 3.07 2.80 1.00 7.00 1.77 0.58\n",
       "NA Nevěřící  124 5.77 6.00 2.20 7.00 1.05 0.18\n",
       "   Věřící    151 5.98 6.20 1.20 7.00 0.97 0.16\n",
       "AA Nevěřící  124 2.49 2.35 1.00 7.00 1.31 0.53\n",
       "   Věřící    151 4.13 4.30 1.00 7.00 1.42 0.34\n",
       "EA Nevěřící  124 3.31 3.10 1.00 7.00 1.74 0.53\n",
       "   Věřící    151 3.42 3.60 1.00 7.00 1.65 0.48"
      ]
     },
     "execution_count": 695,
     "metadata": {},
     "output_type": "execute_result"
    }
   ],
   "source": [
    "generate_table_grouped(['FD', 'DA', 'NA', 'AA', 'EA'], {u'Věřící': u'Ano', u'Nevěřící': u'Ne'}, u'vira')"
   ]
  },
  {
   "cell_type": "code",
   "execution_count": 696,
   "metadata": {},
   "outputs": [
    {
     "data": {
      "text/html": [
       "<div>\n",
       "<style scoped>\n",
       "    .dataframe tbody tr th:only-of-type {\n",
       "        vertical-align: middle;\n",
       "    }\n",
       "\n",
       "    .dataframe tbody tr th {\n",
       "        vertical-align: top;\n",
       "    }\n",
       "\n",
       "    .dataframe thead th {\n",
       "        text-align: right;\n",
       "    }\n",
       "</style>\n",
       "<table border=\"1\" class=\"dataframe\">\n",
       "  <thead>\n",
       "    <tr style=\"text-align: right;\">\n",
       "      <th></th>\n",
       "      <th></th>\n",
       "      <th>N</th>\n",
       "      <th>M</th>\n",
       "      <th>Med</th>\n",
       "      <th>Min</th>\n",
       "      <th>Max</th>\n",
       "      <th>SD</th>\n",
       "      <th>k</th>\n",
       "    </tr>\n",
       "  </thead>\n",
       "  <tbody>\n",
       "    <tr>\n",
       "      <th rowspan=\"2\" valign=\"top\">CELKEM</th>\n",
       "      <th>Muži</th>\n",
       "      <td>93</td>\n",
       "      <td>55.35</td>\n",
       "      <td>55</td>\n",
       "      <td>12</td>\n",
       "      <td>103</td>\n",
       "      <td>25.16</td>\n",
       "      <td>0.45</td>\n",
       "    </tr>\n",
       "    <tr>\n",
       "      <th>Ženy</th>\n",
       "      <td>182</td>\n",
       "      <td>60.35</td>\n",
       "      <td>62</td>\n",
       "      <td>7</td>\n",
       "      <td>108</td>\n",
       "      <td>22.69</td>\n",
       "      <td>0.38</td>\n",
       "    </tr>\n",
       "    <tr>\n",
       "      <th rowspan=\"2\" valign=\"top\">COS</th>\n",
       "      <th>Muži</th>\n",
       "      <td>93</td>\n",
       "      <td>12.61</td>\n",
       "      <td>13</td>\n",
       "      <td>0</td>\n",
       "      <td>24</td>\n",
       "      <td>8.01</td>\n",
       "      <td>0.63</td>\n",
       "    </tr>\n",
       "    <tr>\n",
       "      <th>Ženy</th>\n",
       "      <td>182</td>\n",
       "      <td>13.18</td>\n",
       "      <td>14</td>\n",
       "      <td>0</td>\n",
       "      <td>24</td>\n",
       "      <td>6.92</td>\n",
       "      <td>0.53</td>\n",
       "    </tr>\n",
       "    <tr>\n",
       "      <th rowspan=\"2\" valign=\"top\">EPD</th>\n",
       "      <th>Muži</th>\n",
       "      <td>93</td>\n",
       "      <td>8.35</td>\n",
       "      <td>7</td>\n",
       "      <td>0</td>\n",
       "      <td>24</td>\n",
       "      <td>7.24</td>\n",
       "      <td>0.87</td>\n",
       "    </tr>\n",
       "    <tr>\n",
       "      <th>Ženy</th>\n",
       "      <td>182</td>\n",
       "      <td>9.47</td>\n",
       "      <td>9</td>\n",
       "      <td>0</td>\n",
       "      <td>24</td>\n",
       "      <td>6.62</td>\n",
       "      <td>0.70</td>\n",
       "    </tr>\n",
       "    <tr>\n",
       "      <th rowspan=\"2\" valign=\"top\">EWB</th>\n",
       "      <th>Muži</th>\n",
       "      <td>93</td>\n",
       "      <td>16.55</td>\n",
       "      <td>18</td>\n",
       "      <td>2</td>\n",
       "      <td>24</td>\n",
       "      <td>5.27</td>\n",
       "      <td>0.32</td>\n",
       "    </tr>\n",
       "    <tr>\n",
       "      <th>Ženy</th>\n",
       "      <td>182</td>\n",
       "      <td>15.32</td>\n",
       "      <td>16</td>\n",
       "      <td>0</td>\n",
       "      <td>24</td>\n",
       "      <td>5.45</td>\n",
       "      <td>0.36</td>\n",
       "    </tr>\n",
       "    <tr>\n",
       "      <th rowspan=\"2\" valign=\"top\">PAR</th>\n",
       "      <th>Muži</th>\n",
       "      <td>93</td>\n",
       "      <td>9.20</td>\n",
       "      <td>8</td>\n",
       "      <td>0</td>\n",
       "      <td>24</td>\n",
       "      <td>6.25</td>\n",
       "      <td>0.68</td>\n",
       "    </tr>\n",
       "    <tr>\n",
       "      <th>Ženy</th>\n",
       "      <td>182</td>\n",
       "      <td>12.14</td>\n",
       "      <td>13</td>\n",
       "      <td>0</td>\n",
       "      <td>23</td>\n",
       "      <td>6.11</td>\n",
       "      <td>0.50</td>\n",
       "    </tr>\n",
       "    <tr>\n",
       "      <th rowspan=\"2\" valign=\"top\">REL</th>\n",
       "      <th>Muži</th>\n",
       "      <td>93</td>\n",
       "      <td>8.63</td>\n",
       "      <td>8</td>\n",
       "      <td>0</td>\n",
       "      <td>24</td>\n",
       "      <td>7.60</td>\n",
       "      <td>0.88</td>\n",
       "    </tr>\n",
       "    <tr>\n",
       "      <th>Ženy</th>\n",
       "      <td>182</td>\n",
       "      <td>10.25</td>\n",
       "      <td>10</td>\n",
       "      <td>0</td>\n",
       "      <td>24</td>\n",
       "      <td>6.78</td>\n",
       "      <td>0.66</td>\n",
       "    </tr>\n",
       "  </tbody>\n",
       "</table>\n",
       "</div>"
      ],
      "text/plain": [
       "               N     M  Med  Min  Max    SD    k\n",
       "CELKEM Muži   93 55.35   55   12  103 25.16 0.45\n",
       "       Ženy  182 60.35   62    7  108 22.69 0.38\n",
       "COS    Muži   93 12.61   13    0   24  8.01 0.63\n",
       "       Ženy  182 13.18   14    0   24  6.92 0.53\n",
       "EPD    Muži   93  8.35    7    0   24  7.24 0.87\n",
       "       Ženy  182  9.47    9    0   24  6.62 0.70\n",
       "EWB    Muži   93 16.55   18    2   24  5.27 0.32\n",
       "       Ženy  182 15.32   16    0   24  5.45 0.36\n",
       "PAR    Muži   93  9.20    8    0   24  6.25 0.68\n",
       "       Ženy  182 12.14   13    0   23  6.11 0.50\n",
       "REL    Muži   93  8.63    8    0   24  7.60 0.88\n",
       "       Ženy  182 10.25   10    0   24  6.78 0.66"
      ]
     },
     "execution_count": 696,
     "metadata": {},
     "output_type": "execute_result"
    }
   ],
   "source": [
    "generate_table_grouped(['CELKEM', 'COS', 'EPD', 'EWB', 'PAR', 'REL'], {u'Muži': u'Muž', u'Ženy': u'Žena'}, u'Pohlaví:')"
   ]
  },
  {
   "cell_type": "code",
   "execution_count": 697,
   "metadata": {},
   "outputs": [
    {
     "data": {
      "text/html": [
       "<div>\n",
       "<style scoped>\n",
       "    .dataframe tbody tr th:only-of-type {\n",
       "        vertical-align: middle;\n",
       "    }\n",
       "\n",
       "    .dataframe tbody tr th {\n",
       "        vertical-align: top;\n",
       "    }\n",
       "\n",
       "    .dataframe thead th {\n",
       "        text-align: right;\n",
       "    }\n",
       "</style>\n",
       "<table border=\"1\" class=\"dataframe\">\n",
       "  <thead>\n",
       "    <tr style=\"text-align: right;\">\n",
       "      <th></th>\n",
       "      <th></th>\n",
       "      <th>N</th>\n",
       "      <th>M</th>\n",
       "      <th>Med</th>\n",
       "      <th>Min</th>\n",
       "      <th>Max</th>\n",
       "      <th>SD</th>\n",
       "      <th>k</th>\n",
       "    </tr>\n",
       "  </thead>\n",
       "  <tbody>\n",
       "    <tr>\n",
       "      <th rowspan=\"2\" valign=\"top\">CELKEM</th>\n",
       "      <th>Nevěřící</th>\n",
       "      <td>124</td>\n",
       "      <td>43.15</td>\n",
       "      <td>41.00</td>\n",
       "      <td>7</td>\n",
       "      <td>104</td>\n",
       "      <td>19.60</td>\n",
       "      <td>0.45</td>\n",
       "    </tr>\n",
       "    <tr>\n",
       "      <th>Věřící</th>\n",
       "      <td>151</td>\n",
       "      <td>71.40</td>\n",
       "      <td>71.00</td>\n",
       "      <td>17</td>\n",
       "      <td>108</td>\n",
       "      <td>18.51</td>\n",
       "      <td>0.26</td>\n",
       "    </tr>\n",
       "    <tr>\n",
       "      <th rowspan=\"2\" valign=\"top\">COS</th>\n",
       "      <th>Nevěřící</th>\n",
       "      <td>124</td>\n",
       "      <td>8.47</td>\n",
       "      <td>8.00</td>\n",
       "      <td>0</td>\n",
       "      <td>24</td>\n",
       "      <td>6.35</td>\n",
       "      <td>0.75</td>\n",
       "    </tr>\n",
       "    <tr>\n",
       "      <th>Věřící</th>\n",
       "      <td>151</td>\n",
       "      <td>16.70</td>\n",
       "      <td>18.00</td>\n",
       "      <td>0</td>\n",
       "      <td>24</td>\n",
       "      <td>5.78</td>\n",
       "      <td>0.35</td>\n",
       "    </tr>\n",
       "    <tr>\n",
       "      <th rowspan=\"2\" valign=\"top\">EPD</th>\n",
       "      <th>Nevěřící</th>\n",
       "      <td>124</td>\n",
       "      <td>6.35</td>\n",
       "      <td>5.00</td>\n",
       "      <td>0</td>\n",
       "      <td>24</td>\n",
       "      <td>6.12</td>\n",
       "      <td>0.96</td>\n",
       "    </tr>\n",
       "    <tr>\n",
       "      <th>Věřící</th>\n",
       "      <td>151</td>\n",
       "      <td>11.34</td>\n",
       "      <td>11.00</td>\n",
       "      <td>0</td>\n",
       "      <td>24</td>\n",
       "      <td>6.60</td>\n",
       "      <td>0.58</td>\n",
       "    </tr>\n",
       "    <tr>\n",
       "      <th rowspan=\"2\" valign=\"top\">EWB</th>\n",
       "      <th>Nevěřící</th>\n",
       "      <td>124</td>\n",
       "      <td>15.70</td>\n",
       "      <td>17.00</td>\n",
       "      <td>0</td>\n",
       "      <td>24</td>\n",
       "      <td>5.41</td>\n",
       "      <td>0.34</td>\n",
       "    </tr>\n",
       "    <tr>\n",
       "      <th>Věřící</th>\n",
       "      <td>151</td>\n",
       "      <td>15.76</td>\n",
       "      <td>16.00</td>\n",
       "      <td>0</td>\n",
       "      <td>24</td>\n",
       "      <td>5.43</td>\n",
       "      <td>0.34</td>\n",
       "    </tr>\n",
       "    <tr>\n",
       "      <th rowspan=\"2\" valign=\"top\">PAR</th>\n",
       "      <th>Nevěřící</th>\n",
       "      <td>124</td>\n",
       "      <td>8.45</td>\n",
       "      <td>7.50</td>\n",
       "      <td>0</td>\n",
       "      <td>23</td>\n",
       "      <td>6.20</td>\n",
       "      <td>0.73</td>\n",
       "    </tr>\n",
       "    <tr>\n",
       "      <th>Věřící</th>\n",
       "      <td>151</td>\n",
       "      <td>13.36</td>\n",
       "      <td>14.00</td>\n",
       "      <td>0</td>\n",
       "      <td>24</td>\n",
       "      <td>5.49</td>\n",
       "      <td>0.41</td>\n",
       "    </tr>\n",
       "    <tr>\n",
       "      <th rowspan=\"2\" valign=\"top\">REL</th>\n",
       "      <th>Nevěřící</th>\n",
       "      <td>124</td>\n",
       "      <td>4.18</td>\n",
       "      <td>3.00</td>\n",
       "      <td>0</td>\n",
       "      <td>17</td>\n",
       "      <td>4.32</td>\n",
       "      <td>1.04</td>\n",
       "    </tr>\n",
       "    <tr>\n",
       "      <th>Věřící</th>\n",
       "      <td>151</td>\n",
       "      <td>14.25</td>\n",
       "      <td>14.00</td>\n",
       "      <td>0</td>\n",
       "      <td>24</td>\n",
       "      <td>5.53</td>\n",
       "      <td>0.39</td>\n",
       "    </tr>\n",
       "  </tbody>\n",
       "</table>\n",
       "</div>"
      ],
      "text/plain": [
       "                   N     M   Med  Min  Max    SD    k\n",
       "CELKEM Nevěřící  124 43.15 41.00    7  104 19.60 0.45\n",
       "       Věřící    151 71.40 71.00   17  108 18.51 0.26\n",
       "COS    Nevěřící  124  8.47  8.00    0   24  6.35 0.75\n",
       "       Věřící    151 16.70 18.00    0   24  5.78 0.35\n",
       "EPD    Nevěřící  124  6.35  5.00    0   24  6.12 0.96\n",
       "       Věřící    151 11.34 11.00    0   24  6.60 0.58\n",
       "EWB    Nevěřící  124 15.70 17.00    0   24  5.41 0.34\n",
       "       Věřící    151 15.76 16.00    0   24  5.43 0.34\n",
       "PAR    Nevěřící  124  8.45  7.50    0   23  6.20 0.73\n",
       "       Věřící    151 13.36 14.00    0   24  5.49 0.41\n",
       "REL    Nevěřící  124  4.18  3.00    0   17  4.32 1.04\n",
       "       Věřící    151 14.25 14.00    0   24  5.53 0.39"
      ]
     },
     "execution_count": 697,
     "metadata": {},
     "output_type": "execute_result"
    }
   ],
   "source": [
    "generate_table_grouped(['CELKEM', 'COS', 'EPD', 'EWB', 'PAR', 'REL'], {u'Věřící': u'Ano', u'Nevěřící': u'Ne'}, u'vira')"
   ]
  },
  {
   "cell_type": "code",
   "execution_count": 698,
   "metadata": {},
   "outputs": [
    {
     "data": {
      "text/html": [
       "<div>\n",
       "<style scoped>\n",
       "    .dataframe tbody tr th:only-of-type {\n",
       "        vertical-align: middle;\n",
       "    }\n",
       "\n",
       "    .dataframe tbody tr th {\n",
       "        vertical-align: top;\n",
       "    }\n",
       "\n",
       "    .dataframe thead th {\n",
       "        text-align: right;\n",
       "    }\n",
       "</style>\n",
       "<table border=\"1\" class=\"dataframe\">\n",
       "  <thead>\n",
       "    <tr style=\"text-align: right;\">\n",
       "      <th></th>\n",
       "      <th></th>\n",
       "      <th>N</th>\n",
       "      <th>M</th>\n",
       "      <th>Med</th>\n",
       "      <th>Min</th>\n",
       "      <th>Max</th>\n",
       "      <th>SD</th>\n",
       "      <th>k</th>\n",
       "    </tr>\n",
       "  </thead>\n",
       "  <tbody>\n",
       "    <tr>\n",
       "      <th rowspan=\"2\" valign=\"top\">součet</th>\n",
       "      <th>Muži</th>\n",
       "      <td>93</td>\n",
       "      <td>61.67</td>\n",
       "      <td>62</td>\n",
       "      <td>37</td>\n",
       "      <td>89</td>\n",
       "      <td>11.17</td>\n",
       "      <td>0.18</td>\n",
       "    </tr>\n",
       "    <tr>\n",
       "      <th>Ženy</th>\n",
       "      <td>182</td>\n",
       "      <td>57.44</td>\n",
       "      <td>59</td>\n",
       "      <td>20</td>\n",
       "      <td>89</td>\n",
       "      <td>13.42</td>\n",
       "      <td>0.23</td>\n",
       "    </tr>\n",
       "  </tbody>\n",
       "</table>\n",
       "</div>"
      ],
      "text/plain": [
       "               N     M  Med  Min  Max    SD    k\n",
       "součet Muži   93 61.67   62   37   89 11.17 0.18\n",
       "       Ženy  182 57.44   59   20   89 13.42 0.23"
      ]
     },
     "execution_count": 698,
     "metadata": {},
     "output_type": "execute_result"
    }
   ],
   "source": [
    "generate_table_grouped([u'součet'], {u'Muži': u'Muž', u'Ženy': u'Žena'}, u'Pohlaví:')"
   ]
  },
  {
   "cell_type": "code",
   "execution_count": 699,
   "metadata": {},
   "outputs": [
    {
     "data": {
      "text/html": [
       "<div>\n",
       "<style scoped>\n",
       "    .dataframe tbody tr th:only-of-type {\n",
       "        vertical-align: middle;\n",
       "    }\n",
       "\n",
       "    .dataframe tbody tr th {\n",
       "        vertical-align: top;\n",
       "    }\n",
       "\n",
       "    .dataframe thead th {\n",
       "        text-align: right;\n",
       "    }\n",
       "</style>\n",
       "<table border=\"1\" class=\"dataframe\">\n",
       "  <thead>\n",
       "    <tr style=\"text-align: right;\">\n",
       "      <th></th>\n",
       "      <th></th>\n",
       "      <th>N</th>\n",
       "      <th>M</th>\n",
       "      <th>Med</th>\n",
       "      <th>Min</th>\n",
       "      <th>Max</th>\n",
       "      <th>SD</th>\n",
       "      <th>k</th>\n",
       "    </tr>\n",
       "  </thead>\n",
       "  <tbody>\n",
       "    <tr>\n",
       "      <th rowspan=\"2\" valign=\"top\">součet</th>\n",
       "      <th>Nevěřící</th>\n",
       "      <td>124</td>\n",
       "      <td>57.47</td>\n",
       "      <td>59</td>\n",
       "      <td>24</td>\n",
       "      <td>89</td>\n",
       "      <td>12.42</td>\n",
       "      <td>0.22</td>\n",
       "    </tr>\n",
       "    <tr>\n",
       "      <th>Věřící</th>\n",
       "      <td>151</td>\n",
       "      <td>60.02</td>\n",
       "      <td>61</td>\n",
       "      <td>20</td>\n",
       "      <td>89</td>\n",
       "      <td>13.11</td>\n",
       "      <td>0.22</td>\n",
       "    </tr>\n",
       "  </tbody>\n",
       "</table>\n",
       "</div>"
      ],
      "text/plain": [
       "                   N     M  Med  Min  Max    SD    k\n",
       "součet Nevěřící  124 57.47   59   24   89 12.42 0.22\n",
       "       Věřící    151 60.02   61   20   89 13.11 0.22"
      ]
     },
     "execution_count": 699,
     "metadata": {},
     "output_type": "execute_result"
    }
   ],
   "source": [
    "generate_table_grouped([u'součet'], {u'Věřící': u'Ano', u'Nevěřící': u'Ne'}, u'vira')"
   ]
  },
  {
   "cell_type": "code",
   "execution_count": 700,
   "metadata": {},
   "outputs": [
    {
     "data": {
      "text/html": [
       "<div>\n",
       "<style scoped>\n",
       "    .dataframe tbody tr th:only-of-type {\n",
       "        vertical-align: middle;\n",
       "    }\n",
       "\n",
       "    .dataframe tbody tr th {\n",
       "        vertical-align: top;\n",
       "    }\n",
       "\n",
       "    .dataframe thead th {\n",
       "        text-align: right;\n",
       "    }\n",
       "</style>\n",
       "<table border=\"1\" class=\"dataframe\">\n",
       "  <thead>\n",
       "    <tr style=\"text-align: right;\">\n",
       "      <th></th>\n",
       "      <th>N</th>\n",
       "      <th>M</th>\n",
       "      <th>Med</th>\n",
       "      <th>Min</th>\n",
       "      <th>Max</th>\n",
       "      <th>SD</th>\n",
       "      <th>k</th>\n",
       "    </tr>\n",
       "  </thead>\n",
       "  <tbody>\n",
       "    <tr>\n",
       "      <th>FD</th>\n",
       "      <td>275</td>\n",
       "      <td>3.45</td>\n",
       "      <td>3.29</td>\n",
       "      <td>1.00</td>\n",
       "      <td>7.00</td>\n",
       "      <td>1.52</td>\n",
       "      <td>0.44</td>\n",
       "    </tr>\n",
       "    <tr>\n",
       "      <th>DA</th>\n",
       "      <td>275</td>\n",
       "      <td>3.29</td>\n",
       "      <td>3.00</td>\n",
       "      <td>1.00</td>\n",
       "      <td>7.00</td>\n",
       "      <td>1.76</td>\n",
       "      <td>0.54</td>\n",
       "    </tr>\n",
       "    <tr>\n",
       "      <th>NA</th>\n",
       "      <td>275</td>\n",
       "      <td>5.89</td>\n",
       "      <td>6.00</td>\n",
       "      <td>1.20</td>\n",
       "      <td>7.00</td>\n",
       "      <td>1.01</td>\n",
       "      <td>0.17</td>\n",
       "    </tr>\n",
       "    <tr>\n",
       "      <th>AA</th>\n",
       "      <td>275</td>\n",
       "      <td>3.39</td>\n",
       "      <td>3.40</td>\n",
       "      <td>1.00</td>\n",
       "      <td>7.00</td>\n",
       "      <td>1.59</td>\n",
       "      <td>0.47</td>\n",
       "    </tr>\n",
       "    <tr>\n",
       "      <th>EA</th>\n",
       "      <td>275</td>\n",
       "      <td>3.37</td>\n",
       "      <td>3.40</td>\n",
       "      <td>1.00</td>\n",
       "      <td>7.00</td>\n",
       "      <td>1.69</td>\n",
       "      <td>0.50</td>\n",
       "    </tr>\n",
       "  </tbody>\n",
       "</table>\n",
       "</div>"
      ],
      "text/plain": [
       "      N    M  Med  Min  Max   SD    k\n",
       "FD  275 3.45 3.29 1.00 7.00 1.52 0.44\n",
       "DA  275 3.29 3.00 1.00 7.00 1.76 0.54\n",
       "NA  275 5.89 6.00 1.20 7.00 1.01 0.17\n",
       "AA  275 3.39 3.40 1.00 7.00 1.59 0.47\n",
       "EA  275 3.37 3.40 1.00 7.00 1.69 0.50"
      ]
     },
     "execution_count": 700,
     "metadata": {},
     "output_type": "execute_result"
    }
   ],
   "source": [
    "generate_table_all([ 'FD', 'DA', 'NA', 'AA', 'EA'])"
   ]
  },
  {
   "cell_type": "code",
   "execution_count": 701,
   "metadata": {},
   "outputs": [
    {
     "data": {
      "text/html": [
       "<div>\n",
       "<style scoped>\n",
       "    .dataframe tbody tr th:only-of-type {\n",
       "        vertical-align: middle;\n",
       "    }\n",
       "\n",
       "    .dataframe tbody tr th {\n",
       "        vertical-align: top;\n",
       "    }\n",
       "\n",
       "    .dataframe thead th {\n",
       "        text-align: right;\n",
       "    }\n",
       "</style>\n",
       "<table border=\"1\" class=\"dataframe\">\n",
       "  <thead>\n",
       "    <tr style=\"text-align: right;\">\n",
       "      <th></th>\n",
       "      <th>N</th>\n",
       "      <th>M</th>\n",
       "      <th>Med</th>\n",
       "      <th>Min</th>\n",
       "      <th>Max</th>\n",
       "      <th>SD</th>\n",
       "      <th>k</th>\n",
       "    </tr>\n",
       "  </thead>\n",
       "  <tbody>\n",
       "    <tr>\n",
       "      <th>CELKEM</th>\n",
       "      <td>275</td>\n",
       "      <td>58.66</td>\n",
       "      <td>60.00</td>\n",
       "      <td>7</td>\n",
       "      <td>108</td>\n",
       "      <td>23.62</td>\n",
       "      <td>0.40</td>\n",
       "    </tr>\n",
       "    <tr>\n",
       "      <th>COS</th>\n",
       "      <td>275</td>\n",
       "      <td>12.99</td>\n",
       "      <td>13.00</td>\n",
       "      <td>0</td>\n",
       "      <td>24</td>\n",
       "      <td>7.30</td>\n",
       "      <td>0.56</td>\n",
       "    </tr>\n",
       "    <tr>\n",
       "      <th>EPD</th>\n",
       "      <td>275</td>\n",
       "      <td>9.09</td>\n",
       "      <td>8.00</td>\n",
       "      <td>0</td>\n",
       "      <td>24</td>\n",
       "      <td>6.84</td>\n",
       "      <td>0.75</td>\n",
       "    </tr>\n",
       "    <tr>\n",
       "      <th>EWB</th>\n",
       "      <td>275</td>\n",
       "      <td>15.73</td>\n",
       "      <td>17.00</td>\n",
       "      <td>0</td>\n",
       "      <td>24</td>\n",
       "      <td>5.41</td>\n",
       "      <td>0.34</td>\n",
       "    </tr>\n",
       "    <tr>\n",
       "      <th>PAR</th>\n",
       "      <td>275</td>\n",
       "      <td>11.15</td>\n",
       "      <td>12.00</td>\n",
       "      <td>0</td>\n",
       "      <td>24</td>\n",
       "      <td>6.30</td>\n",
       "      <td>0.57</td>\n",
       "    </tr>\n",
       "    <tr>\n",
       "      <th>REL</th>\n",
       "      <td>275</td>\n",
       "      <td>9.71</td>\n",
       "      <td>9.00</td>\n",
       "      <td>0</td>\n",
       "      <td>24</td>\n",
       "      <td>7.10</td>\n",
       "      <td>0.73</td>\n",
       "    </tr>\n",
       "  </tbody>\n",
       "</table>\n",
       "</div>"
      ],
      "text/plain": [
       "          N     M   Med  Min  Max    SD    k\n",
       "CELKEM  275 58.66 60.00    7  108 23.62 0.40\n",
       "COS     275 12.99 13.00    0   24  7.30 0.56\n",
       "EPD     275  9.09  8.00    0   24  6.84 0.75\n",
       "EWB     275 15.73 17.00    0   24  5.41 0.34\n",
       "PAR     275 11.15 12.00    0   24  6.30 0.57\n",
       "REL     275  9.71  9.00    0   24  7.10 0.73"
      ]
     },
     "execution_count": 701,
     "metadata": {},
     "output_type": "execute_result"
    }
   ],
   "source": [
    "generate_table_all(['CELKEM', 'COS', 'EPD', 'EWB', 'PAR', 'REL'])"
   ]
  },
  {
   "cell_type": "code",
   "execution_count": 702,
   "metadata": {},
   "outputs": [
    {
     "data": {
      "text/html": [
       "<div>\n",
       "<style scoped>\n",
       "    .dataframe tbody tr th:only-of-type {\n",
       "        vertical-align: middle;\n",
       "    }\n",
       "\n",
       "    .dataframe tbody tr th {\n",
       "        vertical-align: top;\n",
       "    }\n",
       "\n",
       "    .dataframe thead th {\n",
       "        text-align: right;\n",
       "    }\n",
       "</style>\n",
       "<table border=\"1\" class=\"dataframe\">\n",
       "  <thead>\n",
       "    <tr style=\"text-align: right;\">\n",
       "      <th></th>\n",
       "      <th>N</th>\n",
       "      <th>M</th>\n",
       "      <th>Med</th>\n",
       "      <th>Min</th>\n",
       "      <th>Max</th>\n",
       "      <th>SD</th>\n",
       "      <th>k</th>\n",
       "    </tr>\n",
       "  </thead>\n",
       "  <tbody>\n",
       "    <tr>\n",
       "      <th>součet</th>\n",
       "      <td>275</td>\n",
       "      <td>58.87</td>\n",
       "      <td>60.00</td>\n",
       "      <td>20</td>\n",
       "      <td>89</td>\n",
       "      <td>12.84</td>\n",
       "      <td>0.22</td>\n",
       "    </tr>\n",
       "  </tbody>\n",
       "</table>\n",
       "</div>"
      ],
      "text/plain": [
       "          N     M   Med  Min  Max    SD    k\n",
       "součet  275 58.87 60.00   20   89 12.84 0.22"
      ]
     },
     "execution_count": 702,
     "metadata": {},
     "output_type": "execute_result"
    }
   ],
   "source": [
    "generate_table_all([u'součet'])"
   ]
  }
 ],
 "metadata": {
  "kernelspec": {
   "display_name": "Python 2",
   "language": "python",
   "name": "python2"
  },
  "language_info": {
   "codemirror_mode": {
    "name": "ipython",
    "version": 2
   },
   "file_extension": ".py",
   "mimetype": "text/x-python",
   "name": "python",
   "nbconvert_exporter": "python",
   "pygments_lexer": "ipython2",
   "version": "2.7.14"
  }
 },
 "nbformat": 4,
 "nbformat_minor": 2
}
